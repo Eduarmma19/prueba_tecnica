{
  "nbformat": 4,
  "nbformat_minor": 0,
  "metadata": {
    "colab": {
      "name": "Prueba_tecnica",
      "provenance": [],
      "collapsed_sections": [],
      "authorship_tag": "ABX9TyMadzbprGzlF4LsoG0SYxGa",
      "include_colab_link": true
    },
    "kernelspec": {
      "name": "python3",
      "display_name": "Python 3"
    }
  },
  "cells": [
    {
      "cell_type": "markdown",
      "metadata": {
        "id": "view-in-github",
        "colab_type": "text"
      },
      "source": [
        "<a href=\"https://colab.research.google.com/github/Eduarmma19/prueba_tecnica/blob/main/Prueba_tecnica.ipynb\" target=\"_parent\"><img src=\"https://colab.research.google.com/assets/colab-badge.svg\" alt=\"Open In Colab\"/></a>"
      ]
    },
    {
      "cell_type": "markdown",
      "metadata": {
        "id": "4ScGhju7CSpv"
      },
      "source": [
        "# Prueba tecnica cientifico de datos junior "
      ]
    },
    {
      "cell_type": "markdown",
      "metadata": {
        "id": "LGibhg8INtFq"
      },
      "source": [
        "## Contexto\r\n",
        "OFFCORSS es una compañia dedicada al diseño, producción y comercialización de propuestas completas de vestuario y accesorios para bebes, niños y niñas. Se encuentra en busqueda de un cientifico de datos junior y plantea una prueba tecnica donde se debe realizar un EDA y predecir el número de unidades de acuerdo a unas caracteristicas dadas de sus campañas atraves de los años en su mercado de acción. "
      ]
    },
    {
      "cell_type": "markdown",
      "metadata": {
        "id": "SjcDu7tpMk9k"
      },
      "source": [
        "## Objetivo de la prueba\r\n",
        "1. Realizar un EDA ( Exploratory Data Analysis) \r\n",
        "2. Predecir el número de unidades dependiendo de las caracteristicas dadas \r\n",
        "\r\n",
        "\r\n",
        "\r\n"
      ]
    },
    {
      "cell_type": "markdown",
      "metadata": {
        "id": "GhN6-AGGOWT_"
      },
      "source": [
        "## Plan EDA\r\n",
        "\r\n",
        "1.   Importación de los datos \r\n",
        "2.   Entendiendo la base de datos (dimensión,columnas, # de NA, etc)\r\n",
        "3.   Planteamiento de preguntas de acuerdo a la base de datos (Visualizaciones y tablas)\r\n"
      ]
    },
    {
      "cell_type": "markdown",
      "metadata": {
        "id": "txn3_0hvCYv_"
      },
      "source": [
        "### Importación de datos"
      ]
    },
    {
      "cell_type": "code",
      "metadata": {
        "id": "LJr_xafMEIjI"
      },
      "source": [
        "# Librerías a usar \r\n",
        "import pandas as pd\r\n",
        "import numpy as np\r\n",
        "import matplotlib.pyplot as plt\r\n",
        "import seaborn as sns \r\n",
        "%matplotlib inline"
      ],
      "execution_count": 1,
      "outputs": []
    },
    {
      "cell_type": "code",
      "metadata": {
        "id": "8ZFL6ykXBy9v",
        "colab": {
          "resources": {
            "http://localhost:8080/nbextensions/google.colab/files.js": {
              "data": "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",
              "ok": true,
              "headers": [
                [
                  "content-type",
                  "application/javascript"
                ]
              ],
              "status": 200,
              "status_text": ""
            }
          },
          "base_uri": "https://localhost:8080/",
          "height": 91
        },
        "outputId": "0e3c7dca-9aec-405e-c495-191e8533101d"
      },
      "source": [
        "# Traer la base de datos desde el ordenador para el espacio de trabajo en colab\r\n",
        "from google.colab import files\r\n",
        "\r\n",
        "uploaded = files.upload()\r\n",
        "\r\n",
        "for fn in uploaded.keys():\r\n",
        "  print('User uploaded file \"{name}\" with length {length} bytes'.format(\r\n",
        "      name=fn, length=len(uploaded[fn])))"
      ],
      "execution_count": 2,
      "outputs": [
        {
          "output_type": "display_data",
          "data": {
            "text/html": [
              "\n",
              "     <input type=\"file\" id=\"files-3b9d7a2d-60f2-4dab-bc95-19feabcea935\" name=\"files[]\" multiple disabled\n",
              "        style=\"border:none\" />\n",
              "     <output id=\"result-3b9d7a2d-60f2-4dab-bc95-19feabcea935\">\n",
              "      Upload widget is only available when the cell has been executed in the\n",
              "      current browser session. Please rerun this cell to enable.\n",
              "      </output>\n",
              "      <script src=\"/nbextensions/google.colab/files.js\"></script> "
            ],
            "text/plain": [
              "<IPython.core.display.HTML object>"
            ]
          },
          "metadata": {
            "tags": []
          }
        },
        {
          "output_type": "stream",
          "text": [
            "Saving BD Camisetas tiendas piloto analitica.xlsx to BD Camisetas tiendas piloto analitica.xlsx\n",
            "User uploaded file \"BD Camisetas tiendas piloto analitica.xlsx\" with length 8528734 bytes\n"
          ],
          "name": "stdout"
        }
      ]
    },
    {
      "cell_type": "code",
      "metadata": {
        "id": "K14o0wibEeAH"
      },
      "source": [
        "# El archivo de excel contiene la base de datos de los productos y en otra hoja información de las tiendas\r\n",
        "# Base de datos de los productos y sus caracteristicas\r\n",
        "df_productos = pd.read_excel(\"/content/BD Camisetas tiendas piloto analitica.xlsx\", sheet_name= \"Base\")\r\n",
        "# Esta es la segunda pagina del documento de excel que contiene información de las tiendas\r\n",
        "df_tiendas = pd.read_excel(\"/content/BD Camisetas tiendas piloto analitica.xlsx\", sheet_name= \"Parametros Tiendas\")\r\n"
      ],
      "execution_count": 3,
      "outputs": []
    },
    {
      "cell_type": "markdown",
      "metadata": {
        "id": "pnnChZYROtaX"
      },
      "source": [
        "### Entendiendo la base de datos"
      ]
    },
    {
      "cell_type": "code",
      "metadata": {
        "colab": {
          "base_uri": "https://localhost:8080/",
          "height": 197
        },
        "id": "FoWqvtmYTAuz",
        "outputId": "09d27cf4-1123-4628-d047-70b8a4eb3238"
      },
      "source": [
        "#Un pequeño vistaso de los datos de los productos \r\n",
        "df_productos.head()"
      ],
      "execution_count": 4,
      "outputs": [
        {
          "output_type": "execute_result",
          "data": {
            "text/html": [
              "<div>\n",
              "<style scoped>\n",
              "    .dataframe tbody tr th:only-of-type {\n",
              "        vertical-align: middle;\n",
              "    }\n",
              "\n",
              "    .dataframe tbody tr th {\n",
              "        vertical-align: top;\n",
              "    }\n",
              "\n",
              "    .dataframe thead th {\n",
              "        text-align: right;\n",
              "    }\n",
              "</style>\n",
              "<table border=\"1\" class=\"dataframe\">\n",
              "  <thead>\n",
              "    <tr style=\"text-align: right;\">\n",
              "      <th></th>\n",
              "      <th>Año</th>\n",
              "      <th>Año/Semana</th>\n",
              "      <th>Centro</th>\n",
              "      <th>Material</th>\n",
              "      <th>Color</th>\n",
              "      <th>Talla</th>\n",
              "      <th>Mat:Concepto Diseño</th>\n",
              "      <th>Unidades</th>\n",
              "    </tr>\n",
              "  </thead>\n",
              "  <tbody>\n",
              "    <tr>\n",
              "      <th>0</th>\n",
              "      <td>2017</td>\n",
              "      <td>1.2017</td>\n",
              "      <td>T013</td>\n",
              "      <td>5133050</td>\n",
              "      <td>Rojo 18-1763</td>\n",
              "      <td>10</td>\n",
              "      <td>BASICOS CLASICOS</td>\n",
              "      <td>1</td>\n",
              "    </tr>\n",
              "    <tr>\n",
              "      <th>1</th>\n",
              "      <td>2017</td>\n",
              "      <td>1.2017</td>\n",
              "      <td>T013</td>\n",
              "      <td>5133196</td>\n",
              "      <td>Azul 19-4050</td>\n",
              "      <td>10</td>\n",
              "      <td>BASICOS CLASICOS</td>\n",
              "      <td>2</td>\n",
              "    </tr>\n",
              "    <tr>\n",
              "      <th>2</th>\n",
              "      <td>2017</td>\n",
              "      <td>1.2017</td>\n",
              "      <td>T013</td>\n",
              "      <td>5133196</td>\n",
              "      <td>Negro 19-4006</td>\n",
              "      <td>8</td>\n",
              "      <td>BASICOS CLASICOS</td>\n",
              "      <td>2</td>\n",
              "    </tr>\n",
              "    <tr>\n",
              "      <th>3</th>\n",
              "      <td>2017</td>\n",
              "      <td>1.2017</td>\n",
              "      <td>T013</td>\n",
              "      <td>5133197</td>\n",
              "      <td>Azul 19-3921</td>\n",
              "      <td>6</td>\n",
              "      <td>BASICOS CLASICOS</td>\n",
              "      <td>1</td>\n",
              "    </tr>\n",
              "    <tr>\n",
              "      <th>4</th>\n",
              "      <td>2017</td>\n",
              "      <td>1.2017</td>\n",
              "      <td>T013</td>\n",
              "      <td>5133197</td>\n",
              "      <td>Azul 19-3939</td>\n",
              "      <td>8</td>\n",
              "      <td>BASICOS CLASICOS</td>\n",
              "      <td>1</td>\n",
              "    </tr>\n",
              "  </tbody>\n",
              "</table>\n",
              "</div>"
            ],
            "text/plain": [
              "    Año  Año/Semana Centro  ...  Talla Mat:Concepto Diseño Unidades\n",
              "0  2017      1.2017   T013  ...     10    BASICOS CLASICOS        1\n",
              "1  2017      1.2017   T013  ...     10    BASICOS CLASICOS        2\n",
              "2  2017      1.2017   T013  ...      8    BASICOS CLASICOS        2\n",
              "3  2017      1.2017   T013  ...      6    BASICOS CLASICOS        1\n",
              "4  2017      1.2017   T013  ...      8    BASICOS CLASICOS        1\n",
              "\n",
              "[5 rows x 8 columns]"
            ]
          },
          "metadata": {
            "tags": []
          },
          "execution_count": 4
        }
      ]
    },
    {
      "cell_type": "code",
      "metadata": {
        "colab": {
          "base_uri": "https://localhost:8080/",
          "height": 197
        },
        "id": "u6o0U7NpbxZ0",
        "outputId": "25c1336a-e6b9-4b99-efd9-af2f7fcffaaf"
      },
      "source": [
        "# Un pequeño vistazo de los datos de las tiendas\r\n",
        "df_tiendas.head()\r\n"
      ],
      "execution_count": null,
      "outputs": [
        {
          "output_type": "execute_result",
          "data": {
            "text/html": [
              "<div>\n",
              "<style scoped>\n",
              "    .dataframe tbody tr th:only-of-type {\n",
              "        vertical-align: middle;\n",
              "    }\n",
              "\n",
              "    .dataframe tbody tr th {\n",
              "        vertical-align: top;\n",
              "    }\n",
              "\n",
              "    .dataframe thead th {\n",
              "        text-align: right;\n",
              "    }\n",
              "</style>\n",
              "<table border=\"1\" class=\"dataframe\">\n",
              "  <thead>\n",
              "    <tr style=\"text-align: right;\">\n",
              "      <th></th>\n",
              "      <th>Centro</th>\n",
              "      <th>Tienda</th>\n",
              "      <th>Ciudad</th>\n",
              "      <th>Clima</th>\n",
              "    </tr>\n",
              "  </thead>\n",
              "  <tbody>\n",
              "    <tr>\n",
              "      <th>0</th>\n",
              "      <td>T013</td>\n",
              "      <td>Tda Chipichape 2</td>\n",
              "      <td>Cali</td>\n",
              "      <td>C</td>\n",
              "    </tr>\n",
              "    <tr>\n",
              "      <th>1</th>\n",
              "      <td>T014</td>\n",
              "      <td>Tda El Tesoro</td>\n",
              "      <td>Medellin</td>\n",
              "      <td>M</td>\n",
              "    </tr>\n",
              "    <tr>\n",
              "      <th>2</th>\n",
              "      <td>T024</td>\n",
              "      <td>Tda San Diego</td>\n",
              "      <td>Medellin</td>\n",
              "      <td>M</td>\n",
              "    </tr>\n",
              "    <tr>\n",
              "      <th>3</th>\n",
              "      <td>T025</td>\n",
              "      <td>Tda SantaFe Bog.</td>\n",
              "      <td>Bogotá</td>\n",
              "      <td>F</td>\n",
              "    </tr>\n",
              "    <tr>\n",
              "      <th>4</th>\n",
              "      <td>T049</td>\n",
              "      <td>Tda Calima Bogota.</td>\n",
              "      <td>Bogotá</td>\n",
              "      <td>F</td>\n",
              "    </tr>\n",
              "  </tbody>\n",
              "</table>\n",
              "</div>"
            ],
            "text/plain": [
              "  Centro              Tienda    Ciudad Clima\n",
              "0   T013    Tda Chipichape 2      Cali     C\n",
              "1   T014       Tda El Tesoro  Medellin     M\n",
              "2   T024       Tda San Diego  Medellin     M\n",
              "3   T025    Tda SantaFe Bog.    Bogotá     F\n",
              "4   T049  Tda Calima Bogota.    Bogotá     F"
            ]
          },
          "metadata": {
            "tags": []
          },
          "execution_count": 5
        }
      ]
    },
    {
      "cell_type": "markdown",
      "metadata": {
        "id": "EiOZzOahPSRx"
      },
      "source": [
        "#### Dimensiones BD"
      ]
    },
    {
      "cell_type": "code",
      "metadata": {
        "colab": {
          "base_uri": "https://localhost:8080/"
        },
        "id": "5wF97jh8E2Fu",
        "outputId": "aca30e27-a30d-411e-b33d-a86a03bd1774"
      },
      "source": [
        "# Dimensiones de df_productos y df_tiendas respectivamente\r\n",
        "print(df_productos.shape,df_tiendas.shape, sep = \"\\n\")"
      ],
      "execution_count": null,
      "outputs": [
        {
          "output_type": "stream",
          "text": [
            "(253331, 8)\n",
            "(47, 4)\n"
          ],
          "name": "stdout"
        }
      ]
    },
    {
      "cell_type": "markdown",
      "metadata": {
        "id": "5DopfI6lPYq1"
      },
      "source": [
        "#### Tipos de variables en la BD\r\n"
      ]
    },
    {
      "cell_type": "code",
      "metadata": {
        "colab": {
          "base_uri": "https://localhost:8080/"
        },
        "id": "FJzEtBAOScYd",
        "outputId": "5a3622e4-1044-413b-87b8-d11cc90d497f"
      },
      "source": [
        "#Conociendo los tipos de variables de df_productos y df_tiendas respectivamente\r\n",
        "print(df_productos.dtypes,df_tiendas.dtypes, sep= \"\\n\\n\")"
      ],
      "execution_count": null,
      "outputs": [
        {
          "output_type": "stream",
          "text": [
            "Año                      int64\n",
            "Año/Semana             float64\n",
            "Centro                  object\n",
            "Material                 int64\n",
            "Color                   object\n",
            "Talla                   object\n",
            "Mat:Concepto Diseño     object\n",
            "Unidades                 int64\n",
            "dtype: object\n",
            "\n",
            "Centro    object\n",
            "Tienda    object\n",
            "Ciudad    object\n",
            "Clima     object\n",
            "dtype: object\n"
          ],
          "name": "stdout"
        }
      ]
    },
    {
      "cell_type": "markdown",
      "metadata": {
        "id": "tUhpp_LYVO49"
      },
      "source": [
        "#### Explicación de las variables\r\n",
        "La base de datos llamada *Base* contiene las siguientes variables:\r\n",
        "- **Año**: No requiere explicación\r\n",
        "- **Año/Semana**: No requiere explicación\r\n",
        "- **Centro**: Código que representa una tienda de OFFCORSS\r\n",
        "- **Material**: Referencia de un producto\r\n",
        "- **Color**: Código de color de la referencia en cuestión.\r\n",
        "- **Talla**: Talla de la referencia en cuestión\r\n",
        "- **Mat:Concepto Diseño**: Esta variable representa la campana, una campana es el nombre que se\r\n",
        "le da a una colección en específico, por ejemplo, “Escolar” es el nombre que se le dio a la\r\n",
        "campana que contaba con varias referencias para un periodo de tiempo específico.\r\n",
        "\r\n",
        "En la pestaña dos se encuentran características importantes de cada Centro llamada *Parametros tiendas*, algo así como un diccionario con información de cada tienda que contiene las siguientes variables:\r\n",
        "\r\n",
        "- **Centro**: código que representa una tienda de OFFCORSS\r\n",
        "- **Tienda**: nombre de la tienda de OFFCORSS\r\n",
        "- **Ciudad**: ciudad donde se encuentra ubicada la tienda de OFFCORSS\r\n",
        "- **Clima**: cual es el clima predominante en esa ciudad donde esta la tienda de OFFCORSS\r\n"
      ]
    },
    {
      "cell_type": "markdown",
      "metadata": {
        "id": "se9JiNSiPpAu"
      },
      "source": [
        "#### Valores NA\r\n",
        "No tenemos valores NA, si fuese así nos indicaría el ouput el porcentaje de ellos"
      ]
    },
    {
      "cell_type": "code",
      "metadata": {
        "colab": {
          "base_uri": "https://localhost:8080/"
        },
        "id": "r_2toppGS878",
        "outputId": "9629506d-e914-470a-907d-216ca6b47d04"
      },
      "source": [
        "# Porcentaje de NA ( No tenemos NA dentro de la base de datos)\r\n",
        "print(df_productos.isnull().sum()/df_productos.shape[0], df_tiendas.isnull().sum()/df_tiendas.shape[0], sep= \"\\n\\n\")"
      ],
      "execution_count": null,
      "outputs": [
        {
          "output_type": "stream",
          "text": [
            "Año                    0.0\n",
            "Año/Semana             0.0\n",
            "Centro                 0.0\n",
            "Material               0.0\n",
            "Color                  0.0\n",
            "Talla                  0.0\n",
            "Mat:Concepto Diseño    0.0\n",
            "Unidades               0.0\n",
            "dtype: float64\n",
            "\n",
            "Centro    0.0\n",
            "Tienda    0.0\n",
            "Ciudad    0.0\n",
            "Clima     0.0\n",
            "dtype: float64\n"
          ],
          "name": "stdout"
        }
      ]
    },
    {
      "cell_type": "markdown",
      "metadata": {
        "id": "-GCEjsMiP-Bx"
      },
      "source": [
        "#### Crear y modificar variables\r\n",
        "Tenemos una aclaración en la prueba que nos dice que la unión del las variables **Material**, **Color** y **Talla** forman un *Plu*, que nos indica un producto de una talla y color específico. Por ejemplo,una camisa azul de rayas de navidad talla 16. Por esa razón, las uniré en una variable llamada **plu** y elimaré las variables que le dieron origen, debido a que resulta redundante tenerlas en el dataframe.\r\n",
        "\r\n",
        "Por otro lado,La variable **Año/Semana** esta en formato float y la parte entera indica la semana mientras que la decimal el año pero ya tengo la variable **Año** , así que de esta variable solo me quedaré con la parte entera es decir las semanas y la renombro a **Semana**."
      ]
    },
    {
      "cell_type": "code",
      "metadata": {
        "id": "TPLNs9Ojmpkt"
      },
      "source": [
        "# Creando la variable \"plu\" que indica la union de Material, Color y talla\r\n",
        "df_productos[\"plu\"] = df_productos[\"Material\"].astype(str) + \" \" + df_productos[\"Color\"] + \" \" + df_productos[\"Talla\"]"
      ],
      "execution_count": 5,
      "outputs": []
    },
    {
      "cell_type": "code",
      "metadata": {
        "id": "Y57ClVp8HAmF"
      },
      "source": [
        "# La variable año/ mes esta en formato float y la parte entera indica la semana mientras que la decimal el año\r\n",
        "# pero ya tengo la variable año , así que de esta variable solo me quedaré con la parte entera es decir las semanas y la renombro a \"Semana\"\r\n",
        "df_productos[\"Año/Semana\"] = df_productos[\"Año/Semana\"].astype(int)\r\n",
        "df_productos = df_productos.rename(columns= {\"Año/Semana\":\"Semana\"})\r\n"
      ],
      "execution_count": 6,
      "outputs": []
    },
    {
      "cell_type": "code",
      "metadata": {
        "colab": {
          "base_uri": "https://localhost:8080/",
          "height": 197
        },
        "id": "Ub_5CbZBXiw_",
        "outputId": "ecbed944-45bb-49a9-c098-1c8dcd038fa6"
      },
      "source": [
        "#Unir las bases de datos (Con la Primary key \"Centro\") para algunas visualizaciones y eliminar variables que uní \r\n",
        "df_total = pd.merge(df_productos,df_tiendas, on = \"Centro\")\r\n",
        " #Reorganizar las columnas me siento más comodo con # de unidades al final\r\n",
        "df_total = df_total[['Año','Semana','Centro','plu','Ciudad','Clima','Mat:Concepto Diseño','Material','Color','Talla','Unidades']]\r\n",
        "df_total.head()"
      ],
      "execution_count": 7,
      "outputs": [
        {
          "output_type": "execute_result",
          "data": {
            "text/html": [
              "<div>\n",
              "<style scoped>\n",
              "    .dataframe tbody tr th:only-of-type {\n",
              "        vertical-align: middle;\n",
              "    }\n",
              "\n",
              "    .dataframe tbody tr th {\n",
              "        vertical-align: top;\n",
              "    }\n",
              "\n",
              "    .dataframe thead th {\n",
              "        text-align: right;\n",
              "    }\n",
              "</style>\n",
              "<table border=\"1\" class=\"dataframe\">\n",
              "  <thead>\n",
              "    <tr style=\"text-align: right;\">\n",
              "      <th></th>\n",
              "      <th>Año</th>\n",
              "      <th>Semana</th>\n",
              "      <th>Centro</th>\n",
              "      <th>plu</th>\n",
              "      <th>Ciudad</th>\n",
              "      <th>Clima</th>\n",
              "      <th>Mat:Concepto Diseño</th>\n",
              "      <th>Material</th>\n",
              "      <th>Color</th>\n",
              "      <th>Talla</th>\n",
              "      <th>Unidades</th>\n",
              "    </tr>\n",
              "  </thead>\n",
              "  <tbody>\n",
              "    <tr>\n",
              "      <th>0</th>\n",
              "      <td>2017</td>\n",
              "      <td>1</td>\n",
              "      <td>T013</td>\n",
              "      <td>5133050 Rojo 18-1763 10</td>\n",
              "      <td>Cali</td>\n",
              "      <td>C</td>\n",
              "      <td>BASICOS CLASICOS</td>\n",
              "      <td>5133050</td>\n",
              "      <td>Rojo 18-1763</td>\n",
              "      <td>10</td>\n",
              "      <td>1</td>\n",
              "    </tr>\n",
              "    <tr>\n",
              "      <th>1</th>\n",
              "      <td>2017</td>\n",
              "      <td>1</td>\n",
              "      <td>T013</td>\n",
              "      <td>5133196 Azul 19-4050 10</td>\n",
              "      <td>Cali</td>\n",
              "      <td>C</td>\n",
              "      <td>BASICOS CLASICOS</td>\n",
              "      <td>5133196</td>\n",
              "      <td>Azul 19-4050</td>\n",
              "      <td>10</td>\n",
              "      <td>2</td>\n",
              "    </tr>\n",
              "    <tr>\n",
              "      <th>2</th>\n",
              "      <td>2017</td>\n",
              "      <td>1</td>\n",
              "      <td>T013</td>\n",
              "      <td>5133196 Negro 19-4006 8</td>\n",
              "      <td>Cali</td>\n",
              "      <td>C</td>\n",
              "      <td>BASICOS CLASICOS</td>\n",
              "      <td>5133196</td>\n",
              "      <td>Negro 19-4006</td>\n",
              "      <td>8</td>\n",
              "      <td>2</td>\n",
              "    </tr>\n",
              "    <tr>\n",
              "      <th>3</th>\n",
              "      <td>2017</td>\n",
              "      <td>1</td>\n",
              "      <td>T013</td>\n",
              "      <td>5133197 Azul 19-3921 6</td>\n",
              "      <td>Cali</td>\n",
              "      <td>C</td>\n",
              "      <td>BASICOS CLASICOS</td>\n",
              "      <td>5133197</td>\n",
              "      <td>Azul 19-3921</td>\n",
              "      <td>6</td>\n",
              "      <td>1</td>\n",
              "    </tr>\n",
              "    <tr>\n",
              "      <th>4</th>\n",
              "      <td>2017</td>\n",
              "      <td>1</td>\n",
              "      <td>T013</td>\n",
              "      <td>5133197 Azul 19-3939 8</td>\n",
              "      <td>Cali</td>\n",
              "      <td>C</td>\n",
              "      <td>BASICOS CLASICOS</td>\n",
              "      <td>5133197</td>\n",
              "      <td>Azul 19-3939</td>\n",
              "      <td>8</td>\n",
              "      <td>1</td>\n",
              "    </tr>\n",
              "  </tbody>\n",
              "</table>\n",
              "</div>"
            ],
            "text/plain": [
              "    Año  Semana Centro  ...          Color Talla Unidades\n",
              "0  2017       1   T013  ...   Rojo 18-1763    10        1\n",
              "1  2017       1   T013  ...   Azul 19-4050    10        2\n",
              "2  2017       1   T013  ...  Negro 19-4006     8        2\n",
              "3  2017       1   T013  ...   Azul 19-3921     6        1\n",
              "4  2017       1   T013  ...   Azul 19-3939     8        1\n",
              "\n",
              "[5 rows x 11 columns]"
            ]
          },
          "metadata": {
            "tags": []
          },
          "execution_count": 7
        }
      ]
    },
    {
      "cell_type": "markdown",
      "metadata": {
        "id": "UGm2nA6tf4Gh"
      },
      "source": [
        "### Planteamiento de preguntas de acuerdo a la base de datos \r\n",
        "Con lo que visto de la base de datos podriamos plantearnos preguntas y darles respuesta como:\r\n"
      ]
    },
    {
      "cell_type": "markdown",
      "metadata": {
        "id": "Fe_4MgwAg9IA"
      },
      "source": [
        "#### ¿ En que ciudades tienen presencia las tiendas de OFFCORSS?\r\n",
        "Podríamos verlas de la siguiente forma:"
      ]
    },
    {
      "cell_type": "code",
      "metadata": {
        "colab": {
          "base_uri": "https://localhost:8080/"
        },
        "id": "lGo98GSuDdbg",
        "outputId": "f8a1be9a-8cee-425b-b5d9-338e14fabed2"
      },
      "source": [
        "#Conocer las ciudades donde hay tiendas presentes  \r\n",
        "df_total[\"Ciudad\"].unique()"
      ],
      "execution_count": 8,
      "outputs": [
        {
          "output_type": "execute_result",
          "data": {
            "text/plain": [
              "array(['Cali', 'Medellin', 'Bogotá', 'San andres', 'Rionegro',\n",
              "       'Villavicencio', 'Ipiales', 'Girardot', 'Apartado', 'Palmira',\n",
              "       'Sincelejo', 'Cartago', 'Mosquera', 'Yopal', 'Chia', 'La ceja',\n",
              "       'Soacha', 'Llanogrande'], dtype=object)"
            ]
          },
          "metadata": {
            "tags": []
          },
          "execution_count": 8
        }
      ]
    },
    {
      "cell_type": "markdown",
      "metadata": {
        "id": "DaZHwYXAhhIS"
      },
      "source": [
        "Pero para hacerlo más llamativo podemos trazar las ubicaciones en el mapa del país, en este caso, Colombia. \r\n",
        "\r\n",
        "Teniendo los nombres de las ciudades investigue como hallar las coordenadas de cada una y encontré la siguiente función para obtenerlas y esta en este [link](https://es.stackoverflow.com/questions/330223/usar-geopy-en-un-dataframe-para-hallar-latitud-y-longitud), la cual usé y pude trazar en el mapa con la librería [Folium](https://mappinggis.com/2018/10/folium-utilizando-leaflet-con-python/)\r\n"
      ]
    },
    {
      "cell_type": "code",
      "metadata": {
        "id": "Z58G33kWb-V3"
      },
      "source": [
        "from time import sleep\r\n",
        "from geopy.geocoders import Nominatim\r\n",
        "import numpy as np\r\n",
        "import pandas as pd\r\n",
        "\r\n",
        "def get_coords(neight):\r\n",
        "    geolocator = Nominatim(user_agent=\"Colombia\")\r\n",
        "    address = f'{neight},Colombia'\r\n",
        "    location = geolocator.geocode(address)\r\n",
        "    if location is not None:\r\n",
        "        latitude = location.latitude\r\n",
        "        longitude = location.longitude\r\n",
        "    else:\r\n",
        "        latitude = longitude = np.NaN\r\n",
        "    sleep(2)\r\n",
        "    return pd.Series({\"Latitud\": latitude, \"Longitude\": longitude})"
      ],
      "execution_count": null,
      "outputs": []
    },
    {
      "cell_type": "code",
      "metadata": {
        "colab": {
          "base_uri": "https://localhost:8080/",
          "height": 674
        },
        "id": "KTHB2D9PcG7V",
        "outputId": "13fef302-8721-4418-8720-1207b2a1abb6"
      },
      "source": [
        "df = pd.DataFrame({\"Neighbourhood\": ('Cali', 'Medellin', 'Bogotá', 'San andres', 'Rionegro',\r\n",
        "       'Villavicencio', 'Ipiales', 'Girardot', 'Apartado', 'Palmira',\r\n",
        "       'Sincelejo', 'Cartago', 'Mosquera', 'Yopal', 'Chia', 'La ceja',\r\n",
        "       'Soacha', 'Llanogrande'        )})\r\n",
        "# Obtener las coordenadas de las ciudades donde la empresa tiene presencia \r\n",
        "lldata = pd.concat([df, df.Neighbourhood.apply(get_coords)], axis=1)\r\n",
        "import folium\r\n",
        "mi_mapa = folium.Map(location=(4.570868,-74.297333), zoom_start= 6.1)\r\n",
        "for i in range(len(lldata)):\r\n",
        "  x = lldata['Latitud'][i]\r\n",
        "  y = lldata['Longitude'][i]\r\n",
        "  z = lldata['Neighbourhood'][i]\r\n",
        "  folium.Marker([x,y],popup=z).add_to(mi_mapa)\r\n",
        "\r\n",
        "#Imprimir en el mapa las ubicaciones de las tiendas presentes en la base de datos\r\n",
        "mi_mapa"
      ],
      "execution_count": null,
      "outputs": [
        {
          "output_type": "execute_result",
          "data": {
            "text/html": [
              "<div style=\"width:100%;\"><div style=\"position:relative;width:100%;height:0;padding-bottom:60%;\"><span style=\"color:#565656\">Make this Notebook Trusted to load map: File -> Trust Notebook</span><iframe src=\"about:blank\" style=\"position:absolute;width:100%;height:100%;left:0;top:0;border:none !important;\" data-html=%3C%21DOCTYPE%20html%3E%0A%3Chead%3E%20%20%20%20%0A%20%20%20%20%3Cmeta%20http-equiv%3D%22content-type%22%20content%3D%22text/html%3B%20charset%3DUTF-8%22%20/%3E%0A%20%20%20%20%3Cscript%3EL_PREFER_CANVAS%3Dfalse%3B%20L_NO_TOUCH%3Dfalse%3B%20L_DISABLE_3D%3Dfalse%3B%3C/script%3E%0A%20%20%20%20%3Cscript%20src%3D%22https%3A//cdn.jsdelivr.net/npm/leaflet%401.4.0/dist/leaflet.js%22%3E%3C/script%3E%0A%20%20%20%20%3Cscript%20src%3D%22https%3A//code.jquery.com/jquery-1.12.4.min.js%22%3E%3C/script%3E%0A%20%20%20%20%3Cscript%20src%3D%22https%3A//maxcdn.bootstrapcdn.com/bootstrap/3.2.0/js/bootstrap.min.js%22%3E%3C/script%3E%0A%20%20%20%20%3Cscript%20src%3D%22https%3A//cdnjs.cloudflare.com/ajax/libs/Leaflet.awesome-markers/2.0.2/leaflet.awesome-markers.js%22%3E%3C/script%3E%0A%20%20%20%20%3Clink%20rel%3D%22stylesheet%22%20href%3D%22https%3A//cdn.jsdelivr.net/npm/leaflet%401.4.0/dist/leaflet.css%22/%3E%0A%20%20%20%20%3Clink%20rel%3D%22stylesheet%22%20href%3D%22https%3A//maxcdn.bootstrapcdn.com/bootstrap/3.2.0/css/bootstrap.min.css%22/%3E%0A%20%20%20%20%3Clink%20rel%3D%22stylesheet%22%20href%3D%22https%3A//maxcdn.bootstrapcdn.com/bootstrap/3.2.0/css/bootstrap-theme.min.css%22/%3E%0A%20%20%20%20%3Clink%20rel%3D%22stylesheet%22%20href%3D%22https%3A//maxcdn.bootstrapcdn.com/font-awesome/4.6.3/css/font-awesome.min.css%22/%3E%0A%20%20%20%20%3Clink%20rel%3D%22stylesheet%22%20href%3D%22https%3A//cdnjs.cloudflare.com/ajax/libs/Leaflet.awesome-markers/2.0.2/leaflet.awesome-markers.css%22/%3E%0A%20%20%20%20%3Clink%20rel%3D%22stylesheet%22%20href%3D%22https%3A//rawcdn.githack.com/python-visualization/folium/master/folium/templates/leaflet.awesome.rotate.css%22/%3E%0A%20%20%20%20%3Cstyle%3Ehtml%2C%20body%20%7Bwidth%3A%20100%25%3Bheight%3A%20100%25%3Bmargin%3A%200%3Bpadding%3A%200%3B%7D%3C/style%3E%0A%20%20%20%20%3Cstyle%3E%23map%20%7Bposition%3Aabsolute%3Btop%3A0%3Bbottom%3A0%3Bright%3A0%3Bleft%3A0%3B%7D%3C/style%3E%0A%20%20%20%20%0A%20%20%20%20%3Cmeta%20name%3D%22viewport%22%20content%3D%22width%3Ddevice-width%2C%0A%20%20%20%20%20%20%20%20initial-scale%3D1.0%2C%20maximum-scale%3D1.0%2C%20user-scalable%3Dno%22%20/%3E%0A%20%20%20%20%3Cstyle%3E%23map_129e2c169c2e4bf7b64f2ea0d9bb48a0%20%7B%0A%20%20%20%20%20%20%20%20position%3A%20relative%3B%0A%20%20%20%20%20%20%20%20width%3A%20100.0%25%3B%0A%20%20%20%20%20%20%20%20height%3A%20100.0%25%3B%0A%20%20%20%20%20%20%20%20left%3A%200.0%25%3B%0A%20%20%20%20%20%20%20%20top%3A%200.0%25%3B%0A%20%20%20%20%20%20%20%20%7D%0A%20%20%20%20%3C/style%3E%0A%3C/head%3E%0A%3Cbody%3E%20%20%20%20%0A%20%20%20%20%0A%20%20%20%20%3Cdiv%20class%3D%22folium-map%22%20id%3D%22map_129e2c169c2e4bf7b64f2ea0d9bb48a0%22%20%3E%3C/div%3E%0A%3C/body%3E%0A%3Cscript%3E%20%20%20%20%0A%20%20%20%20%0A%20%20%20%20%0A%20%20%20%20%20%20%20%20var%20bounds%20%3D%20null%3B%0A%20%20%20%20%0A%0A%20%20%20%20var%20map_129e2c169c2e4bf7b64f2ea0d9bb48a0%20%3D%20L.map%28%0A%20%20%20%20%20%20%20%20%27map_129e2c169c2e4bf7b64f2ea0d9bb48a0%27%2C%20%7B%0A%20%20%20%20%20%20%20%20center%3A%20%5B4.570868%2C%20-74.297333%5D%2C%0A%20%20%20%20%20%20%20%20zoom%3A%206.1%2C%0A%20%20%20%20%20%20%20%20maxBounds%3A%20bounds%2C%0A%20%20%20%20%20%20%20%20layers%3A%20%5B%5D%2C%0A%20%20%20%20%20%20%20%20worldCopyJump%3A%20false%2C%0A%20%20%20%20%20%20%20%20crs%3A%20L.CRS.EPSG3857%2C%0A%20%20%20%20%20%20%20%20zoomControl%3A%20true%2C%0A%20%20%20%20%20%20%20%20%7D%29%3B%0A%0A%0A%20%20%20%20%0A%20%20%20%20var%20tile_layer_63d7871f4e3c45189bf7e100449ce236%20%3D%20L.tileLayer%28%0A%20%20%20%20%20%20%20%20%27https%3A//%7Bs%7D.tile.openstreetmap.org/%7Bz%7D/%7Bx%7D/%7By%7D.png%27%2C%0A%20%20%20%20%20%20%20%20%7B%0A%20%20%20%20%20%20%20%20%22attribution%22%3A%20null%2C%0A%20%20%20%20%20%20%20%20%22detectRetina%22%3A%20false%2C%0A%20%20%20%20%20%20%20%20%22maxNativeZoom%22%3A%2018%2C%0A%20%20%20%20%20%20%20%20%22maxZoom%22%3A%2018%2C%0A%20%20%20%20%20%20%20%20%22minZoom%22%3A%200%2C%0A%20%20%20%20%20%20%20%20%22noWrap%22%3A%20false%2C%0A%20%20%20%20%20%20%20%20%22opacity%22%3A%201%2C%0A%20%20%20%20%20%20%20%20%22subdomains%22%3A%20%22abc%22%2C%0A%20%20%20%20%20%20%20%20%22tms%22%3A%20false%0A%7D%29.addTo%28map_129e2c169c2e4bf7b64f2ea0d9bb48a0%29%3B%0A%20%20%20%20%0A%20%20%20%20%20%20%20%20var%20marker_b2f3d8a03f9c460fb37828bb3f784ce8%20%3D%20L.marker%28%0A%20%20%20%20%20%20%20%20%20%20%20%20%5B3.4517923%2C%20-76.5324943%5D%2C%0A%20%20%20%20%20%20%20%20%20%20%20%20%7B%0A%20%20%20%20%20%20%20%20%20%20%20%20%20%20%20%20icon%3A%20new%20L.Icon.Default%28%29%2C%0A%20%20%20%20%20%20%20%20%20%20%20%20%20%20%20%20%7D%0A%20%20%20%20%20%20%20%20%20%20%20%20%29.addTo%28map_129e2c169c2e4bf7b64f2ea0d9bb48a0%29%3B%0A%20%20%20%20%20%20%20%20%0A%20%20%20%20%0A%20%20%20%20%20%20%20%20%20%20%20%20var%20popup_cdd891a8e3964b129ec79fe770bb4a28%20%3D%20L.popup%28%7BmaxWidth%3A%20%27100%25%27%0A%20%20%20%20%20%20%20%20%20%20%20%20%0A%20%20%20%20%20%20%20%20%20%20%20%20%7D%29%3B%0A%0A%20%20%20%20%20%20%20%20%20%20%20%20%0A%20%20%20%20%20%20%20%20%20%20%20%20%20%20%20%20var%20html_d8152e2a2f4a430fb8cd0f9f459f6db9%20%3D%20%24%28%60%3Cdiv%20id%3D%22html_d8152e2a2f4a430fb8cd0f9f459f6db9%22%20style%3D%22width%3A%20100.0%25%3B%20height%3A%20100.0%25%3B%22%3ECali%3C/div%3E%60%29%5B0%5D%3B%0A%20%20%20%20%20%20%20%20%20%20%20%20%20%20%20%20popup_cdd891a8e3964b129ec79fe770bb4a28.setContent%28html_d8152e2a2f4a430fb8cd0f9f459f6db9%29%3B%0A%20%20%20%20%20%20%20%20%20%20%20%20%0A%0A%20%20%20%20%20%20%20%20%20%20%20%20marker_b2f3d8a03f9c460fb37828bb3f784ce8.bindPopup%28popup_cdd891a8e3964b129ec79fe770bb4a28%29%0A%20%20%20%20%20%20%20%20%20%20%20%20%3B%0A%0A%20%20%20%20%20%20%20%20%20%20%20%20%0A%20%20%20%20%20%20%20%20%0A%20%20%20%20%0A%20%20%20%20%20%20%20%20var%20marker_fe11a62909684fb0aab3a1143e9cb65a%20%3D%20L.marker%28%0A%20%20%20%20%20%20%20%20%20%20%20%20%5B6.2443382%2C%20-75.573553%5D%2C%0A%20%20%20%20%20%20%20%20%20%20%20%20%7B%0A%20%20%20%20%20%20%20%20%20%20%20%20%20%20%20%20icon%3A%20new%20L.Icon.Default%28%29%2C%0A%20%20%20%20%20%20%20%20%20%20%20%20%20%20%20%20%7D%0A%20%20%20%20%20%20%20%20%20%20%20%20%29.addTo%28map_129e2c169c2e4bf7b64f2ea0d9bb48a0%29%3B%0A%20%20%20%20%20%20%20%20%0A%20%20%20%20%0A%20%20%20%20%20%20%20%20%20%20%20%20var%20popup_d43bebb57bed40c6bd9490adeafa2030%20%3D%20L.popup%28%7BmaxWidth%3A%20%27100%25%27%0A%20%20%20%20%20%20%20%20%20%20%20%20%0A%20%20%20%20%20%20%20%20%20%20%20%20%7D%29%3B%0A%0A%20%20%20%20%20%20%20%20%20%20%20%20%0A%20%20%20%20%20%20%20%20%20%20%20%20%20%20%20%20var%20html_f6a23e41eded442e876891ff5e5ed58c%20%3D%20%24%28%60%3Cdiv%20id%3D%22html_f6a23e41eded442e876891ff5e5ed58c%22%20style%3D%22width%3A%20100.0%25%3B%20height%3A%20100.0%25%3B%22%3EMedellin%3C/div%3E%60%29%5B0%5D%3B%0A%20%20%20%20%20%20%20%20%20%20%20%20%20%20%20%20popup_d43bebb57bed40c6bd9490adeafa2030.setContent%28html_f6a23e41eded442e876891ff5e5ed58c%29%3B%0A%20%20%20%20%20%20%20%20%20%20%20%20%0A%0A%20%20%20%20%20%20%20%20%20%20%20%20marker_fe11a62909684fb0aab3a1143e9cb65a.bindPopup%28popup_d43bebb57bed40c6bd9490adeafa2030%29%0A%20%20%20%20%20%20%20%20%20%20%20%20%3B%0A%0A%20%20%20%20%20%20%20%20%20%20%20%20%0A%20%20%20%20%20%20%20%20%0A%20%20%20%20%0A%20%20%20%20%20%20%20%20var%20marker_c3bf8dd210bc416d8e125708359c718b%20%3D%20L.marker%28%0A%20%20%20%20%20%20%20%20%20%20%20%20%5B4.6533326%2C%20-74.083652%5D%2C%0A%20%20%20%20%20%20%20%20%20%20%20%20%7B%0A%20%20%20%20%20%20%20%20%20%20%20%20%20%20%20%20icon%3A%20new%20L.Icon.Default%28%29%2C%0A%20%20%20%20%20%20%20%20%20%20%20%20%20%20%20%20%7D%0A%20%20%20%20%20%20%20%20%20%20%20%20%29.addTo%28map_129e2c169c2e4bf7b64f2ea0d9bb48a0%29%3B%0A%20%20%20%20%20%20%20%20%0A%20%20%20%20%0A%20%20%20%20%20%20%20%20%20%20%20%20var%20popup_7f509054619c4ef0874ee87d60536ce8%20%3D%20L.popup%28%7BmaxWidth%3A%20%27100%25%27%0A%20%20%20%20%20%20%20%20%20%20%20%20%0A%20%20%20%20%20%20%20%20%20%20%20%20%7D%29%3B%0A%0A%20%20%20%20%20%20%20%20%20%20%20%20%0A%20%20%20%20%20%20%20%20%20%20%20%20%20%20%20%20var%20html_6f341c27f5d24a85807f2544363aae09%20%3D%20%24%28%60%3Cdiv%20id%3D%22html_6f341c27f5d24a85807f2544363aae09%22%20style%3D%22width%3A%20100.0%25%3B%20height%3A%20100.0%25%3B%22%3EBogot%C3%A1%3C/div%3E%60%29%5B0%5D%3B%0A%20%20%20%20%20%20%20%20%20%20%20%20%20%20%20%20popup_7f509054619c4ef0874ee87d60536ce8.setContent%28html_6f341c27f5d24a85807f2544363aae09%29%3B%0A%20%20%20%20%20%20%20%20%20%20%20%20%0A%0A%20%20%20%20%20%20%20%20%20%20%20%20marker_c3bf8dd210bc416d8e125708359c718b.bindPopup%28popup_7f509054619c4ef0874ee87d60536ce8%29%0A%20%20%20%20%20%20%20%20%20%20%20%20%3B%0A%0A%20%20%20%20%20%20%20%20%20%20%20%20%0A%20%20%20%20%20%20%20%20%0A%20%20%20%20%0A%20%20%20%20%20%20%20%20var%20marker_df66513b3ba9414cbaa985d965b5ba14%20%3D%20L.marker%28%0A%20%20%20%20%20%20%20%20%20%20%20%20%5B6.8180711%2C%20-72.82070608235979%5D%2C%0A%20%20%20%20%20%20%20%20%20%20%20%20%7B%0A%20%20%20%20%20%20%20%20%20%20%20%20%20%20%20%20icon%3A%20new%20L.Icon.Default%28%29%2C%0A%20%20%20%20%20%20%20%20%20%20%20%20%20%20%20%20%7D%0A%20%20%20%20%20%20%20%20%20%20%20%20%29.addTo%28map_129e2c169c2e4bf7b64f2ea0d9bb48a0%29%3B%0A%20%20%20%20%20%20%20%20%0A%20%20%20%20%0A%20%20%20%20%20%20%20%20%20%20%20%20var%20popup_ca05398ec69347739b8d906f9238a970%20%3D%20L.popup%28%7BmaxWidth%3A%20%27100%25%27%0A%20%20%20%20%20%20%20%20%20%20%20%20%0A%20%20%20%20%20%20%20%20%20%20%20%20%7D%29%3B%0A%0A%20%20%20%20%20%20%20%20%20%20%20%20%0A%20%20%20%20%20%20%20%20%20%20%20%20%20%20%20%20var%20html_e06ee658261340098876623459a26591%20%3D%20%24%28%60%3Cdiv%20id%3D%22html_e06ee658261340098876623459a26591%22%20style%3D%22width%3A%20100.0%25%3B%20height%3A%20100.0%25%3B%22%3ESan%20andres%3C/div%3E%60%29%5B0%5D%3B%0A%20%20%20%20%20%20%20%20%20%20%20%20%20%20%20%20popup_ca05398ec69347739b8d906f9238a970.setContent%28html_e06ee658261340098876623459a26591%29%3B%0A%20%20%20%20%20%20%20%20%20%20%20%20%0A%0A%20%20%20%20%20%20%20%20%20%20%20%20marker_df66513b3ba9414cbaa985d965b5ba14.bindPopup%28popup_ca05398ec69347739b8d906f9238a970%29%0A%20%20%20%20%20%20%20%20%20%20%20%20%3B%0A%0A%20%20%20%20%20%20%20%20%20%20%20%20%0A%20%20%20%20%20%20%20%20%0A%20%20%20%20%0A%20%20%20%20%20%20%20%20var%20marker_b4d7223f66014b69bb679eb13dd28e60%20%3D%20L.marker%28%0A%20%20%20%20%20%20%20%20%20%20%20%20%5B6.1536166%2C%20-75.3741691%5D%2C%0A%20%20%20%20%20%20%20%20%20%20%20%20%7B%0A%20%20%20%20%20%20%20%20%20%20%20%20%20%20%20%20icon%3A%20new%20L.Icon.Default%28%29%2C%0A%20%20%20%20%20%20%20%20%20%20%20%20%20%20%20%20%7D%0A%20%20%20%20%20%20%20%20%20%20%20%20%29.addTo%28map_129e2c169c2e4bf7b64f2ea0d9bb48a0%29%3B%0A%20%20%20%20%20%20%20%20%0A%20%20%20%20%0A%20%20%20%20%20%20%20%20%20%20%20%20var%20popup_44269c1a1b2849a4b72734d0de17b499%20%3D%20L.popup%28%7BmaxWidth%3A%20%27100%25%27%0A%20%20%20%20%20%20%20%20%20%20%20%20%0A%20%20%20%20%20%20%20%20%20%20%20%20%7D%29%3B%0A%0A%20%20%20%20%20%20%20%20%20%20%20%20%0A%20%20%20%20%20%20%20%20%20%20%20%20%20%20%20%20var%20html_3a6f9b6245c84bee8d1efd049b2bac57%20%3D%20%24%28%60%3Cdiv%20id%3D%22html_3a6f9b6245c84bee8d1efd049b2bac57%22%20style%3D%22width%3A%20100.0%25%3B%20height%3A%20100.0%25%3B%22%3ERionegro%3C/div%3E%60%29%5B0%5D%3B%0A%20%20%20%20%20%20%20%20%20%20%20%20%20%20%20%20popup_44269c1a1b2849a4b72734d0de17b499.setContent%28html_3a6f9b6245c84bee8d1efd049b2bac57%29%3B%0A%20%20%20%20%20%20%20%20%20%20%20%20%0A%0A%20%20%20%20%20%20%20%20%20%20%20%20marker_b4d7223f66014b69bb679eb13dd28e60.bindPopup%28popup_44269c1a1b2849a4b72734d0de17b499%29%0A%20%20%20%20%20%20%20%20%20%20%20%20%3B%0A%0A%20%20%20%20%20%20%20%20%20%20%20%20%0A%20%20%20%20%20%20%20%20%0A%20%20%20%20%0A%20%20%20%20%20%20%20%20var%20marker_1cc315392866409fba0c646abf5c0c23%20%3D%20L.marker%28%0A%20%20%20%20%20%20%20%20%20%20%20%20%5B4.1315113%2C%20-73.6206667%5D%2C%0A%20%20%20%20%20%20%20%20%20%20%20%20%7B%0A%20%20%20%20%20%20%20%20%20%20%20%20%20%20%20%20icon%3A%20new%20L.Icon.Default%28%29%2C%0A%20%20%20%20%20%20%20%20%20%20%20%20%20%20%20%20%7D%0A%20%20%20%20%20%20%20%20%20%20%20%20%29.addTo%28map_129e2c169c2e4bf7b64f2ea0d9bb48a0%29%3B%0A%20%20%20%20%20%20%20%20%0A%20%20%20%20%0A%20%20%20%20%20%20%20%20%20%20%20%20var%20popup_54f5981ca5f540b4ae6a995e0b0cca65%20%3D%20L.popup%28%7BmaxWidth%3A%20%27100%25%27%0A%20%20%20%20%20%20%20%20%20%20%20%20%0A%20%20%20%20%20%20%20%20%20%20%20%20%7D%29%3B%0A%0A%20%20%20%20%20%20%20%20%20%20%20%20%0A%20%20%20%20%20%20%20%20%20%20%20%20%20%20%20%20var%20html_8a05d1c6a5a74546bfa841c7cac7da71%20%3D%20%24%28%60%3Cdiv%20id%3D%22html_8a05d1c6a5a74546bfa841c7cac7da71%22%20style%3D%22width%3A%20100.0%25%3B%20height%3A%20100.0%25%3B%22%3EVillavicencio%3C/div%3E%60%29%5B0%5D%3B%0A%20%20%20%20%20%20%20%20%20%20%20%20%20%20%20%20popup_54f5981ca5f540b4ae6a995e0b0cca65.setContent%28html_8a05d1c6a5a74546bfa841c7cac7da71%29%3B%0A%20%20%20%20%20%20%20%20%20%20%20%20%0A%0A%20%20%20%20%20%20%20%20%20%20%20%20marker_1cc315392866409fba0c646abf5c0c23.bindPopup%28popup_54f5981ca5f540b4ae6a995e0b0cca65%29%0A%20%20%20%20%20%20%20%20%20%20%20%20%3B%0A%0A%20%20%20%20%20%20%20%20%20%20%20%20%0A%20%20%20%20%20%20%20%20%0A%20%20%20%20%0A%20%20%20%20%20%20%20%20var%20marker_bc1915f681dd4ab5a0becb150578386c%20%3D%20L.marker%28%0A%20%20%20%20%20%20%20%20%20%20%20%20%5B0.8278641%2C%20-77.6402069%5D%2C%0A%20%20%20%20%20%20%20%20%20%20%20%20%7B%0A%20%20%20%20%20%20%20%20%20%20%20%20%20%20%20%20icon%3A%20new%20L.Icon.Default%28%29%2C%0A%20%20%20%20%20%20%20%20%20%20%20%20%20%20%20%20%7D%0A%20%20%20%20%20%20%20%20%20%20%20%20%29.addTo%28map_129e2c169c2e4bf7b64f2ea0d9bb48a0%29%3B%0A%20%20%20%20%20%20%20%20%0A%20%20%20%20%0A%20%20%20%20%20%20%20%20%20%20%20%20var%20popup_f717ed43d0934cdeab90c50bb6ddaca2%20%3D%20L.popup%28%7BmaxWidth%3A%20%27100%25%27%0A%20%20%20%20%20%20%20%20%20%20%20%20%0A%20%20%20%20%20%20%20%20%20%20%20%20%7D%29%3B%0A%0A%20%20%20%20%20%20%20%20%20%20%20%20%0A%20%20%20%20%20%20%20%20%20%20%20%20%20%20%20%20var%20html_3203ffdb98944447b3573b5a1acd7d34%20%3D%20%24%28%60%3Cdiv%20id%3D%22html_3203ffdb98944447b3573b5a1acd7d34%22%20style%3D%22width%3A%20100.0%25%3B%20height%3A%20100.0%25%3B%22%3EIpiales%3C/div%3E%60%29%5B0%5D%3B%0A%20%20%20%20%20%20%20%20%20%20%20%20%20%20%20%20popup_f717ed43d0934cdeab90c50bb6ddaca2.setContent%28html_3203ffdb98944447b3573b5a1acd7d34%29%3B%0A%20%20%20%20%20%20%20%20%20%20%20%20%0A%0A%20%20%20%20%20%20%20%20%20%20%20%20marker_bc1915f681dd4ab5a0becb150578386c.bindPopup%28popup_f717ed43d0934cdeab90c50bb6ddaca2%29%0A%20%20%20%20%20%20%20%20%20%20%20%20%3B%0A%0A%20%20%20%20%20%20%20%20%20%20%20%20%0A%20%20%20%20%20%20%20%20%0A%20%20%20%20%0A%20%20%20%20%20%20%20%20var%20marker_eb769ef66e98478387f7884a4b041a80%20%3D%20L.marker%28%0A%20%20%20%20%20%20%20%20%20%20%20%20%5B4.306643%2C%20-74.8015665%5D%2C%0A%20%20%20%20%20%20%20%20%20%20%20%20%7B%0A%20%20%20%20%20%20%20%20%20%20%20%20%20%20%20%20icon%3A%20new%20L.Icon.Default%28%29%2C%0A%20%20%20%20%20%20%20%20%20%20%20%20%20%20%20%20%7D%0A%20%20%20%20%20%20%20%20%20%20%20%20%29.addTo%28map_129e2c169c2e4bf7b64f2ea0d9bb48a0%29%3B%0A%20%20%20%20%20%20%20%20%0A%20%20%20%20%0A%20%20%20%20%20%20%20%20%20%20%20%20var%20popup_926c311a0d1648e6a3789b2e492255ea%20%3D%20L.popup%28%7BmaxWidth%3A%20%27100%25%27%0A%20%20%20%20%20%20%20%20%20%20%20%20%0A%20%20%20%20%20%20%20%20%20%20%20%20%7D%29%3B%0A%0A%20%20%20%20%20%20%20%20%20%20%20%20%0A%20%20%20%20%20%20%20%20%20%20%20%20%20%20%20%20var%20html_5814ed63e0394a2a8d5523d3e28dca96%20%3D%20%24%28%60%3Cdiv%20id%3D%22html_5814ed63e0394a2a8d5523d3e28dca96%22%20style%3D%22width%3A%20100.0%25%3B%20height%3A%20100.0%25%3B%22%3EGirardot%3C/div%3E%60%29%5B0%5D%3B%0A%20%20%20%20%20%20%20%20%20%20%20%20%20%20%20%20popup_926c311a0d1648e6a3789b2e492255ea.setContent%28html_5814ed63e0394a2a8d5523d3e28dca96%29%3B%0A%20%20%20%20%20%20%20%20%20%20%20%20%0A%0A%20%20%20%20%20%20%20%20%20%20%20%20marker_eb769ef66e98478387f7884a4b041a80.bindPopup%28popup_926c311a0d1648e6a3789b2e492255ea%29%0A%20%20%20%20%20%20%20%20%20%20%20%20%3B%0A%0A%20%20%20%20%20%20%20%20%20%20%20%20%0A%20%20%20%20%20%20%20%20%0A%20%20%20%20%0A%20%20%20%20%20%20%20%20var%20marker_5f3d7f4247484efe8f4fe48b1b646161%20%3D%20L.marker%28%0A%20%20%20%20%20%20%20%20%20%20%20%20%5B7.8849011%2C%20-76.6227461%5D%2C%0A%20%20%20%20%20%20%20%20%20%20%20%20%7B%0A%20%20%20%20%20%20%20%20%20%20%20%20%20%20%20%20icon%3A%20new%20L.Icon.Default%28%29%2C%0A%20%20%20%20%20%20%20%20%20%20%20%20%20%20%20%20%7D%0A%20%20%20%20%20%20%20%20%20%20%20%20%29.addTo%28map_129e2c169c2e4bf7b64f2ea0d9bb48a0%29%3B%0A%20%20%20%20%20%20%20%20%0A%20%20%20%20%0A%20%20%20%20%20%20%20%20%20%20%20%20var%20popup_d84a4f81fbad4e019c32348c985101d8%20%3D%20L.popup%28%7BmaxWidth%3A%20%27100%25%27%0A%20%20%20%20%20%20%20%20%20%20%20%20%0A%20%20%20%20%20%20%20%20%20%20%20%20%7D%29%3B%0A%0A%20%20%20%20%20%20%20%20%20%20%20%20%0A%20%20%20%20%20%20%20%20%20%20%20%20%20%20%20%20var%20html_b8ead176c3324d2ba6bcecafcb586187%20%3D%20%24%28%60%3Cdiv%20id%3D%22html_b8ead176c3324d2ba6bcecafcb586187%22%20style%3D%22width%3A%20100.0%25%3B%20height%3A%20100.0%25%3B%22%3EApartado%3C/div%3E%60%29%5B0%5D%3B%0A%20%20%20%20%20%20%20%20%20%20%20%20%20%20%20%20popup_d84a4f81fbad4e019c32348c985101d8.setContent%28html_b8ead176c3324d2ba6bcecafcb586187%29%3B%0A%20%20%20%20%20%20%20%20%20%20%20%20%0A%0A%20%20%20%20%20%20%20%20%20%20%20%20marker_5f3d7f4247484efe8f4fe48b1b646161.bindPopup%28popup_d84a4f81fbad4e019c32348c985101d8%29%0A%20%20%20%20%20%20%20%20%20%20%20%20%3B%0A%0A%20%20%20%20%20%20%20%20%20%20%20%20%0A%20%20%20%20%20%20%20%20%0A%20%20%20%20%0A%20%20%20%20%20%20%20%20var%20marker_6e2ead64b9054456a97f438f61dfe8f4%20%3D%20L.marker%28%0A%20%20%20%20%20%20%20%20%20%20%20%20%5B3.5308373%2C%20-76.2988048%5D%2C%0A%20%20%20%20%20%20%20%20%20%20%20%20%7B%0A%20%20%20%20%20%20%20%20%20%20%20%20%20%20%20%20icon%3A%20new%20L.Icon.Default%28%29%2C%0A%20%20%20%20%20%20%20%20%20%20%20%20%20%20%20%20%7D%0A%20%20%20%20%20%20%20%20%20%20%20%20%29.addTo%28map_129e2c169c2e4bf7b64f2ea0d9bb48a0%29%3B%0A%20%20%20%20%20%20%20%20%0A%20%20%20%20%0A%20%20%20%20%20%20%20%20%20%20%20%20var%20popup_4ebf1217cde2404195a5245fbba467d0%20%3D%20L.popup%28%7BmaxWidth%3A%20%27100%25%27%0A%20%20%20%20%20%20%20%20%20%20%20%20%0A%20%20%20%20%20%20%20%20%20%20%20%20%7D%29%3B%0A%0A%20%20%20%20%20%20%20%20%20%20%20%20%0A%20%20%20%20%20%20%20%20%20%20%20%20%20%20%20%20var%20html_013989f5e4ab438cbdda3e1ab485fca8%20%3D%20%24%28%60%3Cdiv%20id%3D%22html_013989f5e4ab438cbdda3e1ab485fca8%22%20style%3D%22width%3A%20100.0%25%3B%20height%3A%20100.0%25%3B%22%3EPalmira%3C/div%3E%60%29%5B0%5D%3B%0A%20%20%20%20%20%20%20%20%20%20%20%20%20%20%20%20popup_4ebf1217cde2404195a5245fbba467d0.setContent%28html_013989f5e4ab438cbdda3e1ab485fca8%29%3B%0A%20%20%20%20%20%20%20%20%20%20%20%20%0A%0A%20%20%20%20%20%20%20%20%20%20%20%20marker_6e2ead64b9054456a97f438f61dfe8f4.bindPopup%28popup_4ebf1217cde2404195a5245fbba467d0%29%0A%20%20%20%20%20%20%20%20%20%20%20%20%3B%0A%0A%20%20%20%20%20%20%20%20%20%20%20%20%0A%20%20%20%20%20%20%20%20%0A%20%20%20%20%0A%20%20%20%20%20%20%20%20var%20marker_73e04b9fcfe94658aeceeb8c2da45563%20%3D%20L.marker%28%0A%20%20%20%20%20%20%20%20%20%20%20%20%5B9.315429349999999%2C%20-75.43297645405696%5D%2C%0A%20%20%20%20%20%20%20%20%20%20%20%20%7B%0A%20%20%20%20%20%20%20%20%20%20%20%20%20%20%20%20icon%3A%20new%20L.Icon.Default%28%29%2C%0A%20%20%20%20%20%20%20%20%20%20%20%20%20%20%20%20%7D%0A%20%20%20%20%20%20%20%20%20%20%20%20%29.addTo%28map_129e2c169c2e4bf7b64f2ea0d9bb48a0%29%3B%0A%20%20%20%20%20%20%20%20%0A%20%20%20%20%0A%20%20%20%20%20%20%20%20%20%20%20%20var%20popup_1721fa0dc99646a699950af9c7f69356%20%3D%20L.popup%28%7BmaxWidth%3A%20%27100%25%27%0A%20%20%20%20%20%20%20%20%20%20%20%20%0A%20%20%20%20%20%20%20%20%20%20%20%20%7D%29%3B%0A%0A%20%20%20%20%20%20%20%20%20%20%20%20%0A%20%20%20%20%20%20%20%20%20%20%20%20%20%20%20%20var%20html_4ce4c87b4e104633b9b10b9641483530%20%3D%20%24%28%60%3Cdiv%20id%3D%22html_4ce4c87b4e104633b9b10b9641483530%22%20style%3D%22width%3A%20100.0%25%3B%20height%3A%20100.0%25%3B%22%3ESincelejo%3C/div%3E%60%29%5B0%5D%3B%0A%20%20%20%20%20%20%20%20%20%20%20%20%20%20%20%20popup_1721fa0dc99646a699950af9c7f69356.setContent%28html_4ce4c87b4e104633b9b10b9641483530%29%3B%0A%20%20%20%20%20%20%20%20%20%20%20%20%0A%0A%20%20%20%20%20%20%20%20%20%20%20%20marker_73e04b9fcfe94658aeceeb8c2da45563.bindPopup%28popup_1721fa0dc99646a699950af9c7f69356%29%0A%20%20%20%20%20%20%20%20%20%20%20%20%3B%0A%0A%20%20%20%20%20%20%20%20%20%20%20%20%0A%20%20%20%20%20%20%20%20%0A%20%20%20%20%0A%20%20%20%20%20%20%20%20var%20marker_8250b212f296491c82cf78a58df79ec4%20%3D%20L.marker%28%0A%20%20%20%20%20%20%20%20%20%20%20%20%5B4.710706050000001%2C%20-75.93239977575337%5D%2C%0A%20%20%20%20%20%20%20%20%20%20%20%20%7B%0A%20%20%20%20%20%20%20%20%20%20%20%20%20%20%20%20icon%3A%20new%20L.Icon.Default%28%29%2C%0A%20%20%20%20%20%20%20%20%20%20%20%20%20%20%20%20%7D%0A%20%20%20%20%20%20%20%20%20%20%20%20%29.addTo%28map_129e2c169c2e4bf7b64f2ea0d9bb48a0%29%3B%0A%20%20%20%20%20%20%20%20%0A%20%20%20%20%0A%20%20%20%20%20%20%20%20%20%20%20%20var%20popup_078384f416ca4f05875051ee916264c4%20%3D%20L.popup%28%7BmaxWidth%3A%20%27100%25%27%0A%20%20%20%20%20%20%20%20%20%20%20%20%0A%20%20%20%20%20%20%20%20%20%20%20%20%7D%29%3B%0A%0A%20%20%20%20%20%20%20%20%20%20%20%20%0A%20%20%20%20%20%20%20%20%20%20%20%20%20%20%20%20var%20html_059bf6ab4abe4ad8a7a8161b165cd5a8%20%3D%20%24%28%60%3Cdiv%20id%3D%22html_059bf6ab4abe4ad8a7a8161b165cd5a8%22%20style%3D%22width%3A%20100.0%25%3B%20height%3A%20100.0%25%3B%22%3ECartago%3C/div%3E%60%29%5B0%5D%3B%0A%20%20%20%20%20%20%20%20%20%20%20%20%20%20%20%20popup_078384f416ca4f05875051ee916264c4.setContent%28html_059bf6ab4abe4ad8a7a8161b165cd5a8%29%3B%0A%20%20%20%20%20%20%20%20%20%20%20%20%0A%0A%20%20%20%20%20%20%20%20%20%20%20%20marker_8250b212f296491c82cf78a58df79ec4.bindPopup%28popup_078384f416ca4f05875051ee916264c4%29%0A%20%20%20%20%20%20%20%20%20%20%20%20%3B%0A%0A%20%20%20%20%20%20%20%20%20%20%20%20%0A%20%20%20%20%20%20%20%20%0A%20%20%20%20%0A%20%20%20%20%20%20%20%20var%20marker_cfd6f0820ca84c96a2f80b6718d75341%20%3D%20L.marker%28%0A%20%20%20%20%20%20%20%20%20%20%20%20%5B4.67769165%2C%20-74.23113670096389%5D%2C%0A%20%20%20%20%20%20%20%20%20%20%20%20%7B%0A%20%20%20%20%20%20%20%20%20%20%20%20%20%20%20%20icon%3A%20new%20L.Icon.Default%28%29%2C%0A%20%20%20%20%20%20%20%20%20%20%20%20%20%20%20%20%7D%0A%20%20%20%20%20%20%20%20%20%20%20%20%29.addTo%28map_129e2c169c2e4bf7b64f2ea0d9bb48a0%29%3B%0A%20%20%20%20%20%20%20%20%0A%20%20%20%20%0A%20%20%20%20%20%20%20%20%20%20%20%20var%20popup_d04e4104a9cc4855982fdd1fc3741d8f%20%3D%20L.popup%28%7BmaxWidth%3A%20%27100%25%27%0A%20%20%20%20%20%20%20%20%20%20%20%20%0A%20%20%20%20%20%20%20%20%20%20%20%20%7D%29%3B%0A%0A%20%20%20%20%20%20%20%20%20%20%20%20%0A%20%20%20%20%20%20%20%20%20%20%20%20%20%20%20%20var%20html_57c7da7759ce4a0dbdf9752c38a2b952%20%3D%20%24%28%60%3Cdiv%20id%3D%22html_57c7da7759ce4a0dbdf9752c38a2b952%22%20style%3D%22width%3A%20100.0%25%3B%20height%3A%20100.0%25%3B%22%3EMosquera%3C/div%3E%60%29%5B0%5D%3B%0A%20%20%20%20%20%20%20%20%20%20%20%20%20%20%20%20popup_d04e4104a9cc4855982fdd1fc3741d8f.setContent%28html_57c7da7759ce4a0dbdf9752c38a2b952%29%3B%0A%20%20%20%20%20%20%20%20%20%20%20%20%0A%0A%20%20%20%20%20%20%20%20%20%20%20%20marker_cfd6f0820ca84c96a2f80b6718d75341.bindPopup%28popup_d04e4104a9cc4855982fdd1fc3741d8f%29%0A%20%20%20%20%20%20%20%20%20%20%20%20%3B%0A%0A%20%20%20%20%20%20%20%20%20%20%20%20%0A%20%20%20%20%20%20%20%20%0A%20%20%20%20%0A%20%20%20%20%20%20%20%20var%20marker_1b3d3fee8e594789bb049b0617613a22%20%3D%20L.marker%28%0A%20%20%20%20%20%20%20%20%20%20%20%20%5B5.3356662%2C%20-72.3936931%5D%2C%0A%20%20%20%20%20%20%20%20%20%20%20%20%7B%0A%20%20%20%20%20%20%20%20%20%20%20%20%20%20%20%20icon%3A%20new%20L.Icon.Default%28%29%2C%0A%20%20%20%20%20%20%20%20%20%20%20%20%20%20%20%20%7D%0A%20%20%20%20%20%20%20%20%20%20%20%20%29.addTo%28map_129e2c169c2e4bf7b64f2ea0d9bb48a0%29%3B%0A%20%20%20%20%20%20%20%20%0A%20%20%20%20%0A%20%20%20%20%20%20%20%20%20%20%20%20var%20popup_52611b46057c4d168706607d86229466%20%3D%20L.popup%28%7BmaxWidth%3A%20%27100%25%27%0A%20%20%20%20%20%20%20%20%20%20%20%20%0A%20%20%20%20%20%20%20%20%20%20%20%20%7D%29%3B%0A%0A%20%20%20%20%20%20%20%20%20%20%20%20%0A%20%20%20%20%20%20%20%20%20%20%20%20%20%20%20%20var%20html_6c584c216fd44d45b5038d8f2f063e2e%20%3D%20%24%28%60%3Cdiv%20id%3D%22html_6c584c216fd44d45b5038d8f2f063e2e%22%20style%3D%22width%3A%20100.0%25%3B%20height%3A%20100.0%25%3B%22%3EYopal%3C/div%3E%60%29%5B0%5D%3B%0A%20%20%20%20%20%20%20%20%20%20%20%20%20%20%20%20popup_52611b46057c4d168706607d86229466.setContent%28html_6c584c216fd44d45b5038d8f2f063e2e%29%3B%0A%20%20%20%20%20%20%20%20%20%20%20%20%0A%0A%20%20%20%20%20%20%20%20%20%20%20%20marker_1b3d3fee8e594789bb049b0617613a22.bindPopup%28popup_52611b46057c4d168706607d86229466%29%0A%20%20%20%20%20%20%20%20%20%20%20%20%3B%0A%0A%20%20%20%20%20%20%20%20%20%20%20%20%0A%20%20%20%20%20%20%20%20%0A%20%20%20%20%0A%20%20%20%20%20%20%20%20var%20marker_6f0b8c73d93f4fc9a7cff16a88deacca%20%3D%20L.marker%28%0A%20%20%20%20%20%20%20%20%20%20%20%20%5B4.869398800000001%2C%20-74.03646684902216%5D%2C%0A%20%20%20%20%20%20%20%20%20%20%20%20%7B%0A%20%20%20%20%20%20%20%20%20%20%20%20%20%20%20%20icon%3A%20new%20L.Icon.Default%28%29%2C%0A%20%20%20%20%20%20%20%20%20%20%20%20%20%20%20%20%7D%0A%20%20%20%20%20%20%20%20%20%20%20%20%29.addTo%28map_129e2c169c2e4bf7b64f2ea0d9bb48a0%29%3B%0A%20%20%20%20%20%20%20%20%0A%20%20%20%20%0A%20%20%20%20%20%20%20%20%20%20%20%20var%20popup_7a35a3acb1c64ade8cc2e3be4f66c434%20%3D%20L.popup%28%7BmaxWidth%3A%20%27100%25%27%0A%20%20%20%20%20%20%20%20%20%20%20%20%0A%20%20%20%20%20%20%20%20%20%20%20%20%7D%29%3B%0A%0A%20%20%20%20%20%20%20%20%20%20%20%20%0A%20%20%20%20%20%20%20%20%20%20%20%20%20%20%20%20var%20html_e23b6c3b2c144cb8bbbd12b7bf7b4e85%20%3D%20%24%28%60%3Cdiv%20id%3D%22html_e23b6c3b2c144cb8bbbd12b7bf7b4e85%22%20style%3D%22width%3A%20100.0%25%3B%20height%3A%20100.0%25%3B%22%3EChia%3C/div%3E%60%29%5B0%5D%3B%0A%20%20%20%20%20%20%20%20%20%20%20%20%20%20%20%20popup_7a35a3acb1c64ade8cc2e3be4f66c434.setContent%28html_e23b6c3b2c144cb8bbbd12b7bf7b4e85%29%3B%0A%20%20%20%20%20%20%20%20%20%20%20%20%0A%0A%20%20%20%20%20%20%20%20%20%20%20%20marker_6f0b8c73d93f4fc9a7cff16a88deacca.bindPopup%28popup_7a35a3acb1c64ade8cc2e3be4f66c434%29%0A%20%20%20%20%20%20%20%20%20%20%20%20%3B%0A%0A%20%20%20%20%20%20%20%20%20%20%20%20%0A%20%20%20%20%20%20%20%20%0A%20%20%20%20%0A%20%20%20%20%20%20%20%20var%20marker_f4054e0f757b443f96ec1220d1b1a470%20%3D%20L.marker%28%0A%20%20%20%20%20%20%20%20%20%20%20%20%5B5.985242250000001%2C%20-75.4467398934149%5D%2C%0A%20%20%20%20%20%20%20%20%20%20%20%20%7B%0A%20%20%20%20%20%20%20%20%20%20%20%20%20%20%20%20icon%3A%20new%20L.Icon.Default%28%29%2C%0A%20%20%20%20%20%20%20%20%20%20%20%20%20%20%20%20%7D%0A%20%20%20%20%20%20%20%20%20%20%20%20%29.addTo%28map_129e2c169c2e4bf7b64f2ea0d9bb48a0%29%3B%0A%20%20%20%20%20%20%20%20%0A%20%20%20%20%0A%20%20%20%20%20%20%20%20%20%20%20%20var%20popup_8bb35d011f404c6a96c6c34df9c59d62%20%3D%20L.popup%28%7BmaxWidth%3A%20%27100%25%27%0A%20%20%20%20%20%20%20%20%20%20%20%20%0A%20%20%20%20%20%20%20%20%20%20%20%20%7D%29%3B%0A%0A%20%20%20%20%20%20%20%20%20%20%20%20%0A%20%20%20%20%20%20%20%20%20%20%20%20%20%20%20%20var%20html_8e983fbf84614835ac584a559c62aeca%20%3D%20%24%28%60%3Cdiv%20id%3D%22html_8e983fbf84614835ac584a559c62aeca%22%20style%3D%22width%3A%20100.0%25%3B%20height%3A%20100.0%25%3B%22%3ELa%20ceja%3C/div%3E%60%29%5B0%5D%3B%0A%20%20%20%20%20%20%20%20%20%20%20%20%20%20%20%20popup_8bb35d011f404c6a96c6c34df9c59d62.setContent%28html_8e983fbf84614835ac584a559c62aeca%29%3B%0A%20%20%20%20%20%20%20%20%20%20%20%20%0A%0A%20%20%20%20%20%20%20%20%20%20%20%20marker_f4054e0f757b443f96ec1220d1b1a470.bindPopup%28popup_8bb35d011f404c6a96c6c34df9c59d62%29%0A%20%20%20%20%20%20%20%20%20%20%20%20%3B%0A%0A%20%20%20%20%20%20%20%20%20%20%20%20%0A%20%20%20%20%20%20%20%20%0A%20%20%20%20%0A%20%20%20%20%20%20%20%20var%20marker_7d2c957c48cd4a3e94da6368c1a3a487%20%3D%20L.marker%28%0A%20%20%20%20%20%20%20%20%20%20%20%20%5B4.5821279%2C%20-74.2197205%5D%2C%0A%20%20%20%20%20%20%20%20%20%20%20%20%7B%0A%20%20%20%20%20%20%20%20%20%20%20%20%20%20%20%20icon%3A%20new%20L.Icon.Default%28%29%2C%0A%20%20%20%20%20%20%20%20%20%20%20%20%20%20%20%20%7D%0A%20%20%20%20%20%20%20%20%20%20%20%20%29.addTo%28map_129e2c169c2e4bf7b64f2ea0d9bb48a0%29%3B%0A%20%20%20%20%20%20%20%20%0A%20%20%20%20%0A%20%20%20%20%20%20%20%20%20%20%20%20var%20popup_a03082bcb07a4f61b973d9d52cf92faf%20%3D%20L.popup%28%7BmaxWidth%3A%20%27100%25%27%0A%20%20%20%20%20%20%20%20%20%20%20%20%0A%20%20%20%20%20%20%20%20%20%20%20%20%7D%29%3B%0A%0A%20%20%20%20%20%20%20%20%20%20%20%20%0A%20%20%20%20%20%20%20%20%20%20%20%20%20%20%20%20var%20html_46f92806af834dcdb061a17cf104caf3%20%3D%20%24%28%60%3Cdiv%20id%3D%22html_46f92806af834dcdb061a17cf104caf3%22%20style%3D%22width%3A%20100.0%25%3B%20height%3A%20100.0%25%3B%22%3ESoacha%3C/div%3E%60%29%5B0%5D%3B%0A%20%20%20%20%20%20%20%20%20%20%20%20%20%20%20%20popup_a03082bcb07a4f61b973d9d52cf92faf.setContent%28html_46f92806af834dcdb061a17cf104caf3%29%3B%0A%20%20%20%20%20%20%20%20%20%20%20%20%0A%0A%20%20%20%20%20%20%20%20%20%20%20%20marker_7d2c957c48cd4a3e94da6368c1a3a487.bindPopup%28popup_a03082bcb07a4f61b973d9d52cf92faf%29%0A%20%20%20%20%20%20%20%20%20%20%20%20%3B%0A%0A%20%20%20%20%20%20%20%20%20%20%20%20%0A%20%20%20%20%20%20%20%20%0A%20%20%20%20%0A%20%20%20%20%20%20%20%20var%20marker_3496948e8e7842608b01135381d4631d%20%3D%20L.marker%28%0A%20%20%20%20%20%20%20%20%20%20%20%20%5B5.1528856%2C%20-75.6411377%5D%2C%0A%20%20%20%20%20%20%20%20%20%20%20%20%7B%0A%20%20%20%20%20%20%20%20%20%20%20%20%20%20%20%20icon%3A%20new%20L.Icon.Default%28%29%2C%0A%20%20%20%20%20%20%20%20%20%20%20%20%20%20%20%20%7D%0A%20%20%20%20%20%20%20%20%20%20%20%20%29.addTo%28map_129e2c169c2e4bf7b64f2ea0d9bb48a0%29%3B%0A%20%20%20%20%20%20%20%20%0A%20%20%20%20%0A%20%20%20%20%20%20%20%20%20%20%20%20var%20popup_92cb9d57c8fe42b5a2b1db24aa6cb100%20%3D%20L.popup%28%7BmaxWidth%3A%20%27100%25%27%0A%20%20%20%20%20%20%20%20%20%20%20%20%0A%20%20%20%20%20%20%20%20%20%20%20%20%7D%29%3B%0A%0A%20%20%20%20%20%20%20%20%20%20%20%20%0A%20%20%20%20%20%20%20%20%20%20%20%20%20%20%20%20var%20html_b14ffd255d0c43e48440445bab1c66ef%20%3D%20%24%28%60%3Cdiv%20id%3D%22html_b14ffd255d0c43e48440445bab1c66ef%22%20style%3D%22width%3A%20100.0%25%3B%20height%3A%20100.0%25%3B%22%3ELlanogrande%3C/div%3E%60%29%5B0%5D%3B%0A%20%20%20%20%20%20%20%20%20%20%20%20%20%20%20%20popup_92cb9d57c8fe42b5a2b1db24aa6cb100.setContent%28html_b14ffd255d0c43e48440445bab1c66ef%29%3B%0A%20%20%20%20%20%20%20%20%20%20%20%20%0A%0A%20%20%20%20%20%20%20%20%20%20%20%20marker_3496948e8e7842608b01135381d4631d.bindPopup%28popup_92cb9d57c8fe42b5a2b1db24aa6cb100%29%0A%20%20%20%20%20%20%20%20%20%20%20%20%3B%0A%0A%20%20%20%20%20%20%20%20%20%20%20%20%0A%20%20%20%20%20%20%20%20%0A%3C/script%3E onload=\"this.contentDocument.open();this.contentDocument.write(    decodeURIComponent(this.getAttribute('data-html')));this.contentDocument.close();\" allowfullscreen webkitallowfullscreen mozallowfullscreen></iframe></div></div>"
            ],
            "text/plain": [
              "<folium.folium.Map at 0x7ff381f6d080>"
            ]
          },
          "metadata": {
            "tags": []
          },
          "execution_count": 17
        }
      ]
    },
    {
      "cell_type": "markdown",
      "metadata": {
        "id": "-qSDfHuxjyFp"
      },
      "source": [
        "En el mapa anterior al presionar en cada marcador se puede ver en que ciudad tienen presencia las tiendad de OFFCORSS"
      ]
    },
    {
      "cell_type": "markdown",
      "metadata": {
        "id": "Dmo7bigpjwE_"
      },
      "source": [
        "#### ¿ Cuales son las 10 ciudades con más participación de OFFCORSS?\r\n",
        "Dando respuesta a la pregunta tenemos lo siguiente:"
      ]
    },
    {
      "cell_type": "code",
      "metadata": {
        "colab": {
          "base_uri": "https://localhost:8080/",
          "height": 361
        },
        "id": "kD3uvJwbkckX",
        "outputId": "f16b5d72-1d92-4744-f32e-b0780f5169c3"
      },
      "source": [
        "# ¿ Cuales son las 10 ciudades con más participación?\r\n",
        "total = len(df_total[\"Ciudad\"])\r\n",
        "ciudad_conteo = df_total[\"Ciudad\"].value_counts()\r\n",
        "ciudad_conteo = ciudad_conteo[:10,]\r\n",
        "plt.figure(figsize=(10,5))\r\n",
        "\r\n",
        "ax1 =sns.barplot(x = ((ciudad_conteo.values/total)*100),y = ciudad_conteo.index, orient= \"h\")\r\n",
        "plt.title(\"Las 10 ciudades con más participación\",fontsize = 20)\r\n",
        "plt.ylabel(\"Ciudades\",fontsize = 15)\r\n",
        "plt.xlabel(\"Porcentaje\",fontsize = 15)\r\n",
        "plt.show()"
      ],
      "execution_count": 9,
      "outputs": [
        {
          "output_type": "display_data",
          "data": {
            "image/png": "[encoded data removed]",
            "text/plain": [
              "<Figure size 720x360 with 1 Axes>"
            ]
          },
          "metadata": {
            "tags": [],
            "needs_background": "light"
          }
        }
      ]
    },
    {
      "cell_type": "markdown",
      "metadata": {
        "id": "7Ja-Ksh3ksjq"
      },
      "source": [
        "Podríamos decir, que el 50% de participación de OFFCORSS esta conjuntamente entre Bogotá y Medellin. ¿Será que este orden de participación corresponde al el orden de las ciudades con más unidades?,veamos la siguiente tabla."
      ]
    },
    {
      "cell_type": "code",
      "metadata": {
        "colab": {
          "base_uri": "https://localhost:8080/",
          "height": 347
        },
        "id": "D8nTTlfqm4PN",
        "outputId": "a0a913cd-baba-4302-cd4c-8c3b999caade"
      },
      "source": [
        "df_ciudades =df_total.groupby('Ciudad')['Unidades'].sum().sort_values(ascending = False)\r\n",
        "df_frame =pd.DataFrame()\r\n",
        "df_frame['Ciudad']= df_ciudades.index\r\n",
        "df_frame['Unidades']=df_ciudades.values\r\n",
        "df_frame.head(10)"
      ],
      "execution_count": null,
      "outputs": [
        {
          "output_type": "execute_result",
          "data": {
            "text/html": [
              "<div>\n",
              "<style scoped>\n",
              "    .dataframe tbody tr th:only-of-type {\n",
              "        vertical-align: middle;\n",
              "    }\n",
              "\n",
              "    .dataframe tbody tr th {\n",
              "        vertical-align: top;\n",
              "    }\n",
              "\n",
              "    .dataframe thead th {\n",
              "        text-align: right;\n",
              "    }\n",
              "</style>\n",
              "<table border=\"1\" class=\"dataframe\">\n",
              "  <thead>\n",
              "    <tr style=\"text-align: right;\">\n",
              "      <th></th>\n",
              "      <th>Ciudad</th>\n",
              "      <th>Unidades</th>\n",
              "    </tr>\n",
              "  </thead>\n",
              "  <tbody>\n",
              "    <tr>\n",
              "      <th>0</th>\n",
              "      <td>Bogotá</td>\n",
              "      <td>85761</td>\n",
              "    </tr>\n",
              "    <tr>\n",
              "      <th>1</th>\n",
              "      <td>Medellin</td>\n",
              "      <td>71080</td>\n",
              "    </tr>\n",
              "    <tr>\n",
              "      <th>2</th>\n",
              "      <td>Cali</td>\n",
              "      <td>49119</td>\n",
              "    </tr>\n",
              "    <tr>\n",
              "      <th>3</th>\n",
              "      <td>Villavicencio</td>\n",
              "      <td>15538</td>\n",
              "    </tr>\n",
              "    <tr>\n",
              "      <th>4</th>\n",
              "      <td>San andres</td>\n",
              "      <td>10987</td>\n",
              "    </tr>\n",
              "    <tr>\n",
              "      <th>5</th>\n",
              "      <td>Yopal</td>\n",
              "      <td>8060</td>\n",
              "    </tr>\n",
              "    <tr>\n",
              "      <th>6</th>\n",
              "      <td>Rionegro</td>\n",
              "      <td>6997</td>\n",
              "    </tr>\n",
              "    <tr>\n",
              "      <th>7</th>\n",
              "      <td>Ipiales</td>\n",
              "      <td>6992</td>\n",
              "    </tr>\n",
              "    <tr>\n",
              "      <th>8</th>\n",
              "      <td>Apartado</td>\n",
              "      <td>6576</td>\n",
              "    </tr>\n",
              "    <tr>\n",
              "      <th>9</th>\n",
              "      <td>Girardot</td>\n",
              "      <td>5337</td>\n",
              "    </tr>\n",
              "  </tbody>\n",
              "</table>\n",
              "</div>"
            ],
            "text/plain": [
              "          Ciudad  Unidades\n",
              "0         Bogotá     85761\n",
              "1       Medellin     71080\n",
              "2           Cali     49119\n",
              "3  Villavicencio     15538\n",
              "4     San andres     10987\n",
              "5          Yopal      8060\n",
              "6       Rionegro      6997\n",
              "7        Ipiales      6992\n",
              "8       Apartado      6576\n",
              "9       Girardot      5337"
            ]
          },
          "metadata": {
            "tags": []
          },
          "execution_count": 18
        }
      ]
    },
    {
      "cell_type": "markdown",
      "metadata": {
        "id": "dQlA7Zvvlf7j"
      },
      "source": [
        "#### ¿ De las campañas de OFFCORSS cuales son las más populares a lo largo del país?\r\n"
      ]
    },
    {
      "cell_type": "code",
      "metadata": {
        "colab": {
          "base_uri": "https://localhost:8080/",
          "height": 378
        },
        "id": "xBZJxJ1A9brl",
        "outputId": "c2594d3c-6fc2-439e-c5ab-aafe4c1c9e3b"
      },
      "source": [
        "# Las 10 campañas más populares\r\n",
        "campana_conteo = df_total['Mat:Concepto Diseño'].value_counts()\r\n",
        "campana_conteo = campana_conteo[:10,]\r\n",
        "plt.figure(figsize=(10,5))\r\n",
        "sns.barplot(x = (campana_conteo.values/total)*100, y = campana_conteo.index, orient= \"h\")\r\n",
        "plt.title(\"Las 10 campañas más populares\",fontsize = 20)\r\n",
        "plt.ylabel('Campañas',fontsize = 15)\r\n",
        "plt.xlabel('Porcentaje',fontsize = 15)\r\n",
        "plt.show"
      ],
      "execution_count": 10,
      "outputs": [
        {
          "output_type": "execute_result",
          "data": {
            "text/plain": [
              "<function matplotlib.pyplot.show>"
            ]
          },
          "metadata": {
            "tags": []
          },
          "execution_count": 10
        },
        {
          "output_type": "display_data",
          "data": {
            "image/png": "[encoded data removed]",
            "text/plain": [
              "<Figure size 720x360 with 1 Axes>"
            ]
          },
          "metadata": {
            "tags": [],
            "needs_background": "light"
          }
        }
      ]
    },
    {
      "cell_type": "markdown",
      "metadata": {
        "id": "iaCPo0oil_50"
      },
      "source": [
        "La campaña de BASICOS sin tener en cuenta la referencia del producto arrasa con más de un 30%, mientrás que la inmediatamente anterior solo tiene un 12% aproximadamente que corresponde a la campaña de BASICOS CLASICOS"
      ]
    },
    {
      "cell_type": "markdown",
      "metadata": {
        "id": "_hh5MQqSqBmb"
      },
      "source": [
        "#### ¿Durante 2017 a 2021 en las 3 ciudades y campañas "
      ]
    },
    {
      "cell_type": "markdown",
      "metadata": {
        "id": "2_2egc48sE56"
      },
      "source": [
        "#### ¿En que años y ciudades principales las mejores campañas han tenido una mayor participación?\r\n"
      ]
    },
    {
      "cell_type": "code",
      "metadata": {
        "colab": {
          "base_uri": "https://localhost:8080/",
          "height": 365
        },
        "id": "sWhInJ1BuTrL",
        "outputId": "13f687c9-43a5-45f1-8d8e-52e0cb1c6652"
      },
      "source": [
        "df_name_campanas = df_total['Mat:Concepto Diseño'].isin(['BASICOS CLASICOS','BASICOS','ROAD TO ALASKA']) & df_total['Ciudad'].isin(['Bogotá','Medellin','Cali',])\r\n",
        "df_filtrado = df_total[df_name_campanas]\r\n",
        "sns.catplot(x= 'Ciudad',kind= 'count',data = df_filtrado, col = 'Mat:Concepto Diseño' ,col_wrap=3, hue = \"Año\")\r\n",
        "plt.show()\r\n"
      ],
      "execution_count": 11,
      "outputs": [
        {
          "output_type": "display_data",
          "data": {
            "image/png": "[encoded data removed]",
            "text/plain": [
              "<Figure size 1141.38x360 with 3 Axes>"
            ]
          },
          "metadata": {
            "tags": [],
            "needs_background": "light"
          }
        }
      ]
    },
    {
      "cell_type": "markdown",
      "metadata": {
        "id": "suTbpUlJs-DG"
      },
      "source": [
        "Que conclusiones podemos sacar de esto:\r\n",
        "- Con respecto a la campaña de BASICOS CLASICOS, tuvo un aumento durante los años 2017 y 2018 a lo largo de las 3 principales ciudades pero no siguió para el año 2019. \r\n",
        "- La campaña BASICOS surgió desde el 2018 y se ha mantenido a lo largo de los años en las principales ciudades en aumento, lo cual puede decir que se ha vuelto una campaña estandarte que puede seguir en el mercado\r\n",
        "- La campaña ROAD TO ALASKA, surgió en 2019 de las más recientes con respecto a las anteriomente mencionadas, pero no ha tenido una buena participación en el presente año. "
      ]
    },
    {
      "cell_type": "markdown",
      "metadata": {
        "id": "QXyKKxbLwWQG"
      },
      "source": [
        "## Modelamiento - Predicción de unidades"
      ]
    },
    {
      "cell_type": "markdown",
      "metadata": {
        "id": "chkgTg_2TU-u"
      },
      "source": [
        "En el análisis EDA, fuimos concientes del tipo de variables que teniamos. Vamos a recordar que tipos de variables tenemos y son las siguientes: "
      ]
    },
    {
      "cell_type": "code",
      "metadata": {
        "colab": {
          "base_uri": "https://localhost:8080/"
        },
        "id": "WBybu7ra_U_S",
        "outputId": "e722edb5-e3d6-4f9b-b98b-fe48f6fc95a5"
      },
      "source": [
        "df_productos.info()"
      ],
      "execution_count": 12,
      "outputs": [
        {
          "output_type": "stream",
          "text": [
            "<class 'pandas.core.frame.DataFrame'>\n",
            "RangeIndex: 253331 entries, 0 to 253330\n",
            "Data columns (total 9 columns):\n",
            " #   Column               Non-Null Count   Dtype \n",
            "---  ------               --------------   ----- \n",
            " 0   Año                  253331 non-null  int64 \n",
            " 1   Semana               253331 non-null  int64 \n",
            " 2   Centro               253331 non-null  object\n",
            " 3   Material             253331 non-null  int64 \n",
            " 4   Color                253331 non-null  object\n",
            " 5   Talla                253331 non-null  object\n",
            " 6   Mat:Concepto Diseño  253331 non-null  object\n",
            " 7   Unidades             253331 non-null  int64 \n",
            " 8   plu                  253331 non-null  object\n",
            "dtypes: int64(4), object(5)\n",
            "memory usage: 17.4+ MB\n"
          ],
          "name": "stdout"
        }
      ]
    },
    {
      "cell_type": "code",
      "metadata": {
        "colab": {
          "base_uri": "https://localhost:8080/",
          "height": 197
        },
        "id": "ZIAINigANepi",
        "outputId": "3c5004d3-6a72-4201-e210-c94e672e9ae4"
      },
      "source": [
        "#Veamos el data frame\r\n",
        "df_productos.head()"
      ],
      "execution_count": 13,
      "outputs": [
        {
          "output_type": "execute_result",
          "data": {
            "text/html": [
              "<div>\n",
              "<style scoped>\n",
              "    .dataframe tbody tr th:only-of-type {\n",
              "        vertical-align: middle;\n",
              "    }\n",
              "\n",
              "    .dataframe tbody tr th {\n",
              "        vertical-align: top;\n",
              "    }\n",
              "\n",
              "    .dataframe thead th {\n",
              "        text-align: right;\n",
              "    }\n",
              "</style>\n",
              "<table border=\"1\" class=\"dataframe\">\n",
              "  <thead>\n",
              "    <tr style=\"text-align: right;\">\n",
              "      <th></th>\n",
              "      <th>Año</th>\n",
              "      <th>Semana</th>\n",
              "      <th>Centro</th>\n",
              "      <th>Material</th>\n",
              "      <th>Color</th>\n",
              "      <th>Talla</th>\n",
              "      <th>Mat:Concepto Diseño</th>\n",
              "      <th>Unidades</th>\n",
              "      <th>plu</th>\n",
              "    </tr>\n",
              "  </thead>\n",
              "  <tbody>\n",
              "    <tr>\n",
              "      <th>0</th>\n",
              "      <td>2017</td>\n",
              "      <td>1</td>\n",
              "      <td>T013</td>\n",
              "      <td>5133050</td>\n",
              "      <td>Rojo 18-1763</td>\n",
              "      <td>10</td>\n",
              "      <td>BASICOS CLASICOS</td>\n",
              "      <td>1</td>\n",
              "      <td>5133050 Rojo 18-1763 10</td>\n",
              "    </tr>\n",
              "    <tr>\n",
              "      <th>1</th>\n",
              "      <td>2017</td>\n",
              "      <td>1</td>\n",
              "      <td>T013</td>\n",
              "      <td>5133196</td>\n",
              "      <td>Azul 19-4050</td>\n",
              "      <td>10</td>\n",
              "      <td>BASICOS CLASICOS</td>\n",
              "      <td>2</td>\n",
              "      <td>5133196 Azul 19-4050 10</td>\n",
              "    </tr>\n",
              "    <tr>\n",
              "      <th>2</th>\n",
              "      <td>2017</td>\n",
              "      <td>1</td>\n",
              "      <td>T013</td>\n",
              "      <td>5133196</td>\n",
              "      <td>Negro 19-4006</td>\n",
              "      <td>8</td>\n",
              "      <td>BASICOS CLASICOS</td>\n",
              "      <td>2</td>\n",
              "      <td>5133196 Negro 19-4006 8</td>\n",
              "    </tr>\n",
              "    <tr>\n",
              "      <th>3</th>\n",
              "      <td>2017</td>\n",
              "      <td>1</td>\n",
              "      <td>T013</td>\n",
              "      <td>5133197</td>\n",
              "      <td>Azul 19-3921</td>\n",
              "      <td>6</td>\n",
              "      <td>BASICOS CLASICOS</td>\n",
              "      <td>1</td>\n",
              "      <td>5133197 Azul 19-3921 6</td>\n",
              "    </tr>\n",
              "    <tr>\n",
              "      <th>4</th>\n",
              "      <td>2017</td>\n",
              "      <td>1</td>\n",
              "      <td>T013</td>\n",
              "      <td>5133197</td>\n",
              "      <td>Azul 19-3939</td>\n",
              "      <td>8</td>\n",
              "      <td>BASICOS CLASICOS</td>\n",
              "      <td>1</td>\n",
              "      <td>5133197 Azul 19-3939 8</td>\n",
              "    </tr>\n",
              "  </tbody>\n",
              "</table>\n",
              "</div>"
            ],
            "text/plain": [
              "    Año  Semana Centro  ...  Mat:Concepto Diseño Unidades                      plu\n",
              "0  2017       1   T013  ...     BASICOS CLASICOS        1  5133050 Rojo 18-1763 10\n",
              "1  2017       1   T013  ...     BASICOS CLASICOS        2  5133196 Azul 19-4050 10\n",
              "2  2017       1   T013  ...     BASICOS CLASICOS        2  5133196 Negro 19-4006 8\n",
              "3  2017       1   T013  ...     BASICOS CLASICOS        1   5133197 Azul 19-3921 6\n",
              "4  2017       1   T013  ...     BASICOS CLASICOS        1   5133197 Azul 19-3939 8\n",
              "\n",
              "[5 rows x 9 columns]"
            ]
          },
          "metadata": {
            "tags": []
          },
          "execution_count": 13
        }
      ]
    },
    {
      "cell_type": "markdown",
      "metadata": {
        "id": "drDxUz5gOQbP"
      },
      "source": [
        "### Variable de respuesta\r\n"
      ]
    },
    {
      "cell_type": "markdown",
      "metadata": {
        "id": "9x_D3lxVTs_b"
      },
      "source": [
        "Tenemos 4 variables *int64* y 5 variables *object* , ya teniendo claro eso me concentraré en la variable de respuesta que será la variable **Unidades**, que tiene un formato *int64*, es decir, discreta. \r\n",
        "\r\n",
        "Ahora echemos un vistazo a su distribución suavizada con los datos de **Unidades** como estan y despúes aplicando la raíz cuadrada para visualizarla mejor. "
      ]
    },
    {
      "cell_type": "code",
      "metadata": {
        "colab": {
          "base_uri": "https://localhost:8080/",
          "height": 402
        },
        "id": "eNs3-wRzSwto",
        "outputId": "fe8fe773-c123-4133-bc65-9077b4db43b7"
      },
      "source": [
        "plt.figure(figsize=(10,15))\r\n",
        "sns.displot(df_productos.Unidades, rug = True,color = 'blue', kind = \"kde\")\r\n",
        "plt.title(\"Distribución de la variable \")\r\n",
        "plt.show()"
      ],
      "execution_count": 14,
      "outputs": [
        {
          "output_type": "display_data",
          "data": {
            "text/plain": [
              "<Figure size 720x1080 with 0 Axes>"
            ]
          },
          "metadata": {
            "tags": []
          }
        },
        {
          "output_type": "display_data",
          "data": {
            "image/png": "[encoded data removed]",
            "text/plain": [
              "<Figure size 360x360 with 1 Axes>"
            ]
          },
          "metadata": {
            "tags": [],
            "needs_background": "light"
          }
        }
      ]
    },
    {
      "cell_type": "code",
      "metadata": {
        "colab": {
          "base_uri": "https://localhost:8080/",
          "height": 384
        },
        "id": "bM9IvcqgEa10",
        "outputId": "28b6a6c7-95e6-4ad5-b96f-27bc63190a96"
      },
      "source": [
        "sns.displot(np.sqrt(df_productos.Unidades), rug = True,color = 'red', kind = \"kde\")\r\n",
        "plt.title(\"Distribución variable Unidades (Transformación raíz cuadrada)\")\r\n",
        "plt.show()"
      ],
      "execution_count": 15,
      "outputs": [
        {
          "output_type": "display_data",
          "data": {
            "image/png": "[encoded data removed]",
            "text/plain": [
              "<Figure size 360x360 with 1 Axes>"
            ]
          },
          "metadata": {
            "tags": [],
            "needs_background": "light"
          }
        }
      ]
    },
    {
      "cell_type": "markdown",
      "metadata": {
        "id": "nyWsqwCtOfC7"
      },
      "source": [
        "### Correlación variables númericas vs variable de respuesta\r\n",
        "Usando la correlación de pearson nos dará un indicio de que tan correlacioandas estan las variables númericas como **Año**, **Semana** y **Material**  con respecto a la variable de respuesta **Unidades**.[texto del enlace](https://)"
      ]
    },
    {
      "cell_type": "markdown",
      "metadata": {
        "id": "qKQubyUmRgiI"
      },
      "source": [
        "El coeficiente de correlación puede tomar un rango de valores de +1 a -1. Un valor de 0 indica que no hay asociación entre las dos variables. Un valor mayor que 0 indica una asociación positiva. Es decir, a medida que aumenta el valor de una variable, también lo hace el valor de la otra. Un valor menor que 0 indica una asociación negativa; es decir, a medida que aumenta el valor de una variable, el valor de la otra disminuye."
      ]
    },
    {
      "cell_type": "code",
      "metadata": {
        "colab": {
          "base_uri": "https://localhost:8080/",
          "height": 675
        },
        "id": "zpxWqYkJPpQO",
        "outputId": "96e0d6f2-f4b6-4805-b1e5-ffb307522703"
      },
      "source": [
        "def tidy_corr_matrix(corr_mat):\r\n",
        "    '''\r\n",
        "    Función para convertir una matrix de correlación de pandas en formato tidy\r\n",
        "    '''\r\n",
        "    corr_mat = corr_mat.stack().reset_index()\r\n",
        "    corr_mat.columns = ['Variable_1','Variable_2','Correlacion']\r\n",
        "    corr_mat = corr_mat.loc[corr_mat['Variable_1'] != corr_mat['Variable_2'], :]\r\n",
        "    corr_mat['abs_correlacion'] = np.abs(corr_mat['Correlacion'])\r\n",
        "    corr_mat = corr_mat.sort_values('abs_correlacion', ascending=False)\r\n",
        "    \r\n",
        "    return(corr_mat)\r\n",
        "\r\n",
        "corr_matrix = df_productos.select_dtypes(include=['float64', 'int']).corr(method='pearson')\r\n",
        "correlaciones =tidy_corr_matrix(corr_matrix)\r\n",
        "\r\n",
        "\r\n",
        "fig, ax = plt.subplots(nrows=1, ncols=1, figsize=(10, 10))\r\n",
        "sns.heatmap(corr_matrix, annot = True, cbar = False,annot_kws = {\"size\": 15},\r\n",
        "    vmin = -1,vmax = 1,center = 0,cmap = sns.diverging_palette(20, 220, n=200),\r\n",
        "    square = True, ax  = ax)\r\n",
        "ax.set_xticklabels(ax.get_xticklabels(),rotation = 45, horizontalalignment = 'right',)\r\n",
        "ax.tick_params(labelsize = 15)\r\n",
        "plt.title(\"Heatmap de correlaciones entre variables\")"
      ],
      "execution_count": 16,
      "outputs": [
        {
          "output_type": "execute_result",
          "data": {
            "text/plain": [
              "Text(0.5, 1.0, 'Heatmap de correlaciones entre variables')"
            ]
          },
          "metadata": {
            "tags": []
          },
          "execution_count": 16
        },
        {
          "output_type": "display_data",
          "data": {
            "image/png": "[encoded data removed]",
            "text/plain": [
              "<Figure size 720x720 with 1 Axes>"
            ]
          },
          "metadata": {
            "tags": [],
            "needs_background": "light"
          }
        }
      ]
    },
    {
      "cell_type": "markdown",
      "metadata": {
        "id": "DlTHGJXURq-w"
      },
      "source": [
        "En este caso vemos que las correlaciones estan muy cerca a 0, lo cual nos muestran una poca relación con respecto a la variable de respuesta que son el número de unidades, se podría ver igualmente al implementar los modelos \r\n",
        "\r\n",
        "\r\n"
      ]
    },
    {
      "cell_type": "markdown",
      "metadata": {
        "id": "N-_s6axTWRV0"
      },
      "source": [
        "### Variables categóricas \r\n",
        "Para este caso decidí eliminar las variables **Color** y **Talla** , y por otro lado en las númericas la variable **Material** las 3 estan incluidas en la variable **plu** , que indica ejemplo: Camisa verde de rayas talla 10.\r\n",
        "\r\n",
        "Un poco el resumen de las variables categoricas del dataset."
      ]
    },
    {
      "cell_type": "code",
      "metadata": {
        "colab": {
          "base_uri": "https://localhost:8080/",
          "height": 167
        },
        "id": "HqqRWOoNR_Oi",
        "outputId": "550ec659-d83a-4252-d061-4f7edf8f2b86"
      },
      "source": [
        "variables_cat = df_productos.select_dtypes(include=['object'])\r\n",
        "variables_cat.describe()"
      ],
      "execution_count": 23,
      "outputs": [
        {
          "output_type": "execute_result",
          "data": {
            "text/html": [
              "<div>\n",
              "<style scoped>\n",
              "    .dataframe tbody tr th:only-of-type {\n",
              "        vertical-align: middle;\n",
              "    }\n",
              "\n",
              "    .dataframe tbody tr th {\n",
              "        vertical-align: top;\n",
              "    }\n",
              "\n",
              "    .dataframe thead th {\n",
              "        text-align: right;\n",
              "    }\n",
              "</style>\n",
              "<table border=\"1\" class=\"dataframe\">\n",
              "  <thead>\n",
              "    <tr style=\"text-align: right;\">\n",
              "      <th></th>\n",
              "      <th>Centro</th>\n",
              "      <th>Color</th>\n",
              "      <th>Talla</th>\n",
              "      <th>Mat:Concepto Diseño</th>\n",
              "      <th>plu</th>\n",
              "    </tr>\n",
              "  </thead>\n",
              "  <tbody>\n",
              "    <tr>\n",
              "      <th>count</th>\n",
              "      <td>253331</td>\n",
              "      <td>253331</td>\n",
              "      <td>253331</td>\n",
              "      <td>253331</td>\n",
              "      <td>253331</td>\n",
              "    </tr>\n",
              "    <tr>\n",
              "      <th>unique</th>\n",
              "      <td>47</td>\n",
              "      <td>196</td>\n",
              "      <td>10</td>\n",
              "      <td>55</td>\n",
              "      <td>4700</td>\n",
              "    </tr>\n",
              "    <tr>\n",
              "      <th>top</th>\n",
              "      <td>T024</td>\n",
              "      <td>Blanco 10-0000</td>\n",
              "      <td>10</td>\n",
              "      <td>BASICOS</td>\n",
              "      <td>5133612 Blanco 10-0000 8</td>\n",
              "    </tr>\n",
              "    <tr>\n",
              "      <th>freq</th>\n",
              "      <td>10793</td>\n",
              "      <td>66784</td>\n",
              "      <td>48749</td>\n",
              "      <td>80633</td>\n",
              "      <td>730</td>\n",
              "    </tr>\n",
              "  </tbody>\n",
              "</table>\n",
              "</div>"
            ],
            "text/plain": [
              "        Centro           Color  ... Mat:Concepto Diseño                       plu\n",
              "count   253331          253331  ...              253331                    253331\n",
              "unique      47             196  ...                  55                      4700\n",
              "top       T024  Blanco 10-0000  ...             BASICOS  5133612 Blanco 10-0000 8\n",
              "freq     10793           66784  ...               80633                       730\n",
              "\n",
              "[4 rows x 5 columns]"
            ]
          },
          "metadata": {
            "tags": []
          },
          "execution_count": 23
        }
      ]
    },
    {
      "cell_type": "markdown",
      "metadata": {
        "id": "q40VJ1UcTQqu"
      },
      "source": [
        "La base de datos quedaría así."
      ]
    },
    {
      "cell_type": "code",
      "metadata": {
        "colab": {
          "base_uri": "https://localhost:8080/",
          "height": 197
        },
        "id": "_fO7xBh7TWXR",
        "outputId": "8b84ba26-073c-40f9-ae79-413179359a63"
      },
      "source": [
        "df_modelo =df_productos.drop(['Color','Talla','Material'],axis=1)\r\n",
        "df_modelo.head()"
      ],
      "execution_count": 18,
      "outputs": [
        {
          "output_type": "execute_result",
          "data": {
            "text/html": [
              "<div>\n",
              "<style scoped>\n",
              "    .dataframe tbody tr th:only-of-type {\n",
              "        vertical-align: middle;\n",
              "    }\n",
              "\n",
              "    .dataframe tbody tr th {\n",
              "        vertical-align: top;\n",
              "    }\n",
              "\n",
              "    .dataframe thead th {\n",
              "        text-align: right;\n",
              "    }\n",
              "</style>\n",
              "<table border=\"1\" class=\"dataframe\">\n",
              "  <thead>\n",
              "    <tr style=\"text-align: right;\">\n",
              "      <th></th>\n",
              "      <th>Año</th>\n",
              "      <th>Semana</th>\n",
              "      <th>Centro</th>\n",
              "      <th>Mat:Concepto Diseño</th>\n",
              "      <th>Unidades</th>\n",
              "      <th>plu</th>\n",
              "    </tr>\n",
              "  </thead>\n",
              "  <tbody>\n",
              "    <tr>\n",
              "      <th>0</th>\n",
              "      <td>2017</td>\n",
              "      <td>1</td>\n",
              "      <td>T013</td>\n",
              "      <td>BASICOS CLASICOS</td>\n",
              "      <td>1</td>\n",
              "      <td>5133050 Rojo 18-1763 10</td>\n",
              "    </tr>\n",
              "    <tr>\n",
              "      <th>1</th>\n",
              "      <td>2017</td>\n",
              "      <td>1</td>\n",
              "      <td>T013</td>\n",
              "      <td>BASICOS CLASICOS</td>\n",
              "      <td>2</td>\n",
              "      <td>5133196 Azul 19-4050 10</td>\n",
              "    </tr>\n",
              "    <tr>\n",
              "      <th>2</th>\n",
              "      <td>2017</td>\n",
              "      <td>1</td>\n",
              "      <td>T013</td>\n",
              "      <td>BASICOS CLASICOS</td>\n",
              "      <td>2</td>\n",
              "      <td>5133196 Negro 19-4006 8</td>\n",
              "    </tr>\n",
              "    <tr>\n",
              "      <th>3</th>\n",
              "      <td>2017</td>\n",
              "      <td>1</td>\n",
              "      <td>T013</td>\n",
              "      <td>BASICOS CLASICOS</td>\n",
              "      <td>1</td>\n",
              "      <td>5133197 Azul 19-3921 6</td>\n",
              "    </tr>\n",
              "    <tr>\n",
              "      <th>4</th>\n",
              "      <td>2017</td>\n",
              "      <td>1</td>\n",
              "      <td>T013</td>\n",
              "      <td>BASICOS CLASICOS</td>\n",
              "      <td>1</td>\n",
              "      <td>5133197 Azul 19-3939 8</td>\n",
              "    </tr>\n",
              "  </tbody>\n",
              "</table>\n",
              "</div>"
            ],
            "text/plain": [
              "    Año  Semana Centro Mat:Concepto Diseño  Unidades                      plu\n",
              "0  2017       1   T013    BASICOS CLASICOS         1  5133050 Rojo 18-1763 10\n",
              "1  2017       1   T013    BASICOS CLASICOS         2  5133196 Azul 19-4050 10\n",
              "2  2017       1   T013    BASICOS CLASICOS         2  5133196 Negro 19-4006 8\n",
              "3  2017       1   T013    BASICOS CLASICOS         1   5133197 Azul 19-3921 6\n",
              "4  2017       1   T013    BASICOS CLASICOS         1   5133197 Azul 19-3939 8"
            ]
          },
          "metadata": {
            "tags": []
          },
          "execution_count": 18
        }
      ]
    },
    {
      "cell_type": "markdown",
      "metadata": {
        "id": "wC2AhjJcZniI"
      },
      "source": [
        "### División train and test"
      ]
    },
    {
      "cell_type": "markdown",
      "metadata": {
        "id": "EpAv7zzziXwQ"
      },
      "source": [
        "Antes de entrenar los modelos es ideal preparar los datos y más aun contando con variables categoricas. "
      ]
    },
    {
      "cell_type": "code",
      "metadata": {
        "id": "RHTCg-2mXDy7"
      },
      "source": [
        "from sklearn.pipeline import Pipeline\r\n",
        "from sklearn.compose import ColumnTransformer\r\n",
        "from sklearn.impute import SimpleImputer\r\n",
        "from sklearn.preprocessing import OneHotEncoder\r\n",
        "from sklearn.preprocessing import StandardScaler\r\n",
        "from sklearn.compose import make_column_selector\r\n",
        "from sklearn.model_selection import train_test_split"
      ],
      "execution_count": 19,
      "outputs": []
    },
    {
      "cell_type": "markdown",
      "metadata": {
        "id": "o5i7i6v8l_d4"
      },
      "source": [
        "Por lo general un 80% de entrenamiento y 20% de test, son lo convencional y da buenos resultados a los modelos "
      ]
    },
    {
      "cell_type": "code",
      "metadata": {
        "id": "ZupSn66FZarU"
      },
      "source": [
        "#Muestreo\r\n",
        "from sklearn.model_selection import train_test_split\r\n",
        "x_train,x_test,y_train,y_test = train_test_split(\r\n",
        "    df_modelo.drop('Unidades',axis= 'columns'),\r\n",
        "    df_modelo['Unidades'],\r\n",
        "    train_size = 0.8,\r\n",
        "    random_state = 1234,\r\n",
        "    shuffle = True\r\n",
        ")"
      ],
      "execution_count": 20,
      "outputs": []
    },
    {
      "cell_type": "markdown",
      "metadata": {
        "id": "sLxX2l0BmQbs"
      },
      "source": [
        "Ya tenemos los conjuntos de datos de entrenamiento (x_train, y_train) y test (x_test, y_test). Ahora vamos a preprocesar danle escalas a las variables númericas y binarizando las categóricas. "
      ]
    },
    {
      "cell_type": "code",
      "metadata": {
        "id": "wVIaJ_dFXp_d"
      },
      "source": [
        "# Identificación de columnas numéricas y categóricas\r\n",
        "numeric_cols = x_train.select_dtypes(include=['float64', 'int']).columns.to_list()\r\n",
        "cat_cols = x_train.select_dtypes(include=['object', 'category']).columns.to_list()\r\n",
        "\r\n",
        "\r\n",
        "# Transformaciones para las variables numéricas\r\n",
        "numeric_transformer = Pipeline(\r\n",
        "                        steps=[('scaler', StandardScaler())]\r\n",
        "                      )\r\n",
        "\r\n",
        "# Transformaciones para las variables categóricas\r\n",
        "categorical_transformer = Pipeline(\r\n",
        "                            steps=[('onehot', OneHotEncoder(handle_unknown='ignore'))]\r\n",
        "                          )\r\n",
        "#Asignamos las variables tanto categoricas como númericas \r\n",
        "preprocessor = ColumnTransformer(\r\n",
        "                    transformers=[\r\n",
        "                        ('numeric', numeric_transformer, numeric_cols),\r\n",
        "                        ('cat', categorical_transformer, cat_cols)\r\n",
        "                    ],\r\n",
        "                    remainder='passthrough'\r\n",
        "                )"
      ],
      "execution_count": 21,
      "outputs": []
    },
    {
      "cell_type": "markdown",
      "metadata": {
        "id": "cr0sJEOFrH14"
      },
      "source": [
        "### Modelos\r\n",
        "Importamos las librerías con lo modelos a usar y las metricas a usar "
      ]
    },
    {
      "cell_type": "code",
      "metadata": {
        "id": "uR_sCMDUZ4uY"
      },
      "source": [
        "#Importación de librerías importantes\r\n",
        "from sklearn.linear_model import LinearRegression\r\n",
        "from sklearn.ensemble import RandomForestRegressor\r\n",
        "from sklearn.linear_model import Ridge\r\n",
        "from sklearn.metrics import r2_score,mean_squared_error"
      ],
      "execution_count": 23,
      "outputs": []
    },
    {
      "cell_type": "markdown",
      "metadata": {
        "id": "59yduj2Jf6IW"
      },
      "source": [
        "#### Ridge"
      ]
    },
    {
      "cell_type": "code",
      "metadata": {
        "id": "oblV1PA4jQqn"
      },
      "source": [
        "pipe_r = Pipeline([('preprocessing', preprocessor),\r\n",
        "                 ('modelo', Ridge())])"
      ],
      "execution_count": 24,
      "outputs": []
    },
    {
      "cell_type": "code",
      "metadata": {
        "id": "eyY3jV-fkPkv"
      },
      "source": [
        "_ = pipe_r.fit(X=x_train, y=y_train)"
      ],
      "execution_count": 25,
      "outputs": []
    },
    {
      "cell_type": "code",
      "metadata": {
        "id": "qxJ400zdsrvu"
      },
      "source": [
        "# Predicciones\r\n",
        "y_pred_r = pipe_r.predict(x_test)"
      ],
      "execution_count": 26,
      "outputs": []
    },
    {
      "cell_type": "code",
      "metadata": {
        "colab": {
          "base_uri": "https://localhost:8080/",
          "height": 197
        },
        "id": "SHSJWTdMtLqy",
        "outputId": "8a63b274-601a-46b7-f2f0-22a36a693323"
      },
      "source": [
        "#Comparandos las predicciones hechas con el test\r\n",
        "df_predicciones_r = pd.DataFrame({'Actual':y_test,'Prediccion':y_pred_r})\r\n",
        "df_predicciones_r.head()"
      ],
      "execution_count": 27,
      "outputs": [
        {
          "output_type": "execute_result",
          "data": {
            "text/html": [
              "<div>\n",
              "<style scoped>\n",
              "    .dataframe tbody tr th:only-of-type {\n",
              "        vertical-align: middle;\n",
              "    }\n",
              "\n",
              "    .dataframe tbody tr th {\n",
              "        vertical-align: top;\n",
              "    }\n",
              "\n",
              "    .dataframe thead th {\n",
              "        text-align: right;\n",
              "    }\n",
              "</style>\n",
              "<table border=\"1\" class=\"dataframe\">\n",
              "  <thead>\n",
              "    <tr style=\"text-align: right;\">\n",
              "      <th></th>\n",
              "      <th>Actual</th>\n",
              "      <th>Prediccion</th>\n",
              "    </tr>\n",
              "  </thead>\n",
              "  <tbody>\n",
              "    <tr>\n",
              "      <th>154258</th>\n",
              "      <td>1</td>\n",
              "      <td>1.059760</td>\n",
              "    </tr>\n",
              "    <tr>\n",
              "      <th>7183</th>\n",
              "      <td>1</td>\n",
              "      <td>1.187742</td>\n",
              "    </tr>\n",
              "    <tr>\n",
              "      <th>204767</th>\n",
              "      <td>0</td>\n",
              "      <td>1.073581</td>\n",
              "    </tr>\n",
              "    <tr>\n",
              "      <th>202110</th>\n",
              "      <td>0</td>\n",
              "      <td>1.262728</td>\n",
              "    </tr>\n",
              "    <tr>\n",
              "      <th>64844</th>\n",
              "      <td>0</td>\n",
              "      <td>1.075928</td>\n",
              "    </tr>\n",
              "  </tbody>\n",
              "</table>\n",
              "</div>"
            ],
            "text/plain": [
              "        Actual  Prediccion\n",
              "154258       1    1.059760\n",
              "7183         1    1.187742\n",
              "204767       0    1.073581\n",
              "202110       0    1.262728\n",
              "64844        0    1.075928"
            ]
          },
          "metadata": {
            "tags": []
          },
          "execution_count": 27
        }
      ]
    },
    {
      "cell_type": "code",
      "metadata": {
        "colab": {
          "base_uri": "https://localhost:8080/"
        },
        "id": "y4z-x_7Szh-9",
        "outputId": "7adb72cc-c882-4305-c8d1-12c9c32d1413"
      },
      "source": [
        "#Performance de el modelo de ridge\r\n",
        "mse_r = mean_squared_error(y_test, y_pred_r)\r\n",
        "rmse_r =  np.sqrt(mean_squared_error(y_test, y_pred_r))\r\n",
        "r2_r = r2_score(y_test,y_pred_r)\r\n",
        "\r\n",
        "print('MSE ridge:', mse_r)\r\n",
        "print('RMSE ridge:', rmse_r)\r\n",
        "print('R2_score ridge:', r2_r)"
      ],
      "execution_count": 29,
      "outputs": [
        {
          "output_type": "stream",
          "text": [
            "MSE ridge: 1.1962361549530802\n",
            "RMSE ridge: 1.0937258134254124\n",
            "R2_score ridge: 0.006697925267089455\n"
          ],
          "name": "stdout"
        }
      ]
    },
    {
      "cell_type": "markdown",
      "metadata": {
        "id": "1NksL1QU08Rp"
      },
      "source": [
        "#### Random Forest"
      ]
    },
    {
      "cell_type": "code",
      "metadata": {
        "id": "doOBeSPT067r"
      },
      "source": [
        "#Creacción y entrenamiento del modelo RandomForest\r\n",
        "pipe_ra = Pipeline([('preprocessing', preprocessor),\r\n",
        "                 ('modelo', RandomForestRegressor(n_estimators=10))])"
      ],
      "execution_count": 30,
      "outputs": []
    },
    {
      "cell_type": "code",
      "metadata": {
        "id": "EyQtOuOwcrmM"
      },
      "source": [
        "_ = pipe_ra.fit(X=x_train, y=y_train)"
      ],
      "execution_count": 31,
      "outputs": []
    },
    {
      "cell_type": "code",
      "metadata": {
        "colab": {
          "base_uri": "https://localhost:8080/",
          "height": 197
        },
        "id": "v-LJ6EP7c5Lf",
        "outputId": "f4d23866-f9e2-4762-d512-aa0f4b2806ac"
      },
      "source": [
        "y_pred_ra = pipe_ra.predict(x_test)\r\n",
        "df_predicciones_ra = pd.DataFrame({'Unidades' : y_test, 'prediccion' : y_pred_ra})\r\n",
        "df_predicciones_ra.head()"
      ],
      "execution_count": 32,
      "outputs": [
        {
          "output_type": "execute_result",
          "data": {
            "text/html": [
              "<div>\n",
              "<style scoped>\n",
              "    .dataframe tbody tr th:only-of-type {\n",
              "        vertical-align: middle;\n",
              "    }\n",
              "\n",
              "    .dataframe tbody tr th {\n",
              "        vertical-align: top;\n",
              "    }\n",
              "\n",
              "    .dataframe thead th {\n",
              "        text-align: right;\n",
              "    }\n",
              "</style>\n",
              "<table border=\"1\" class=\"dataframe\">\n",
              "  <thead>\n",
              "    <tr style=\"text-align: right;\">\n",
              "      <th></th>\n",
              "      <th>Unidades</th>\n",
              "      <th>prediccion</th>\n",
              "    </tr>\n",
              "  </thead>\n",
              "  <tbody>\n",
              "    <tr>\n",
              "      <th>154258</th>\n",
              "      <td>1</td>\n",
              "      <td>0.6</td>\n",
              "    </tr>\n",
              "    <tr>\n",
              "      <th>7183</th>\n",
              "      <td>1</td>\n",
              "      <td>0.9</td>\n",
              "    </tr>\n",
              "    <tr>\n",
              "      <th>204767</th>\n",
              "      <td>0</td>\n",
              "      <td>1.3</td>\n",
              "    </tr>\n",
              "    <tr>\n",
              "      <th>202110</th>\n",
              "      <td>0</td>\n",
              "      <td>5.4</td>\n",
              "    </tr>\n",
              "    <tr>\n",
              "      <th>64844</th>\n",
              "      <td>0</td>\n",
              "      <td>1.1</td>\n",
              "    </tr>\n",
              "  </tbody>\n",
              "</table>\n",
              "</div>"
            ],
            "text/plain": [
              "        Unidades  prediccion\n",
              "154258         1         0.6\n",
              "7183           1         0.9\n",
              "204767         0         1.3\n",
              "202110         0         5.4\n",
              "64844          0         1.1"
            ]
          },
          "metadata": {
            "tags": []
          },
          "execution_count": 32
        }
      ]
    },
    {
      "cell_type": "code",
      "metadata": {
        "colab": {
          "base_uri": "https://localhost:8080/"
        },
        "id": "pbiiAUYK4oyE",
        "outputId": "79475c4c-b054-4d59-e119-12c21ef6041b"
      },
      "source": [
        "#Performance de el modelo de randomforest\r\n",
        "mse_ra = mean_squared_error(y_test, y_pred_ra)\r\n",
        "rmse_ra =  np.sqrt(mean_squared_error(y_test, y_pred_ra))\r\n",
        "r2_ra = r2_score(y_test,y_pred_ra)\r\n",
        "\r\n",
        "print('MSE Random Forest:', mse_ra)\r\n",
        "print('RMSE Random Forest:', rmse_ra)\r\n",
        "print('R2_score Random Forest:', r2_ra)"
      ],
      "execution_count": 33,
      "outputs": [
        {
          "output_type": "stream",
          "text": [
            "MSE Random Forest: 1.435620423549845\n",
            "RMSE Random Forest: 1.1981737868731084\n",
            "R2_score Random Forest: -0.1920762797015887\n"
          ],
          "name": "stdout"
        }
      ]
    },
    {
      "cell_type": "markdown",
      "metadata": {
        "id": "BOJq7jXDeFKD"
      },
      "source": [
        "#### Regresión lineal\r\n"
      ]
    },
    {
      "cell_type": "code",
      "metadata": {
        "id": "WODHT0tI5BnJ"
      },
      "source": [
        "#Creacción y entrenamiento del modelo lineal\r\n",
        "pipe_l = Pipeline([('preprocessing', preprocessor),\r\n",
        "                 ('modelo', LinearRegression())])"
      ],
      "execution_count": 37,
      "outputs": []
    },
    {
      "cell_type": "code",
      "metadata": {
        "id": "ocnFaerhesdw"
      },
      "source": [
        "_ = pipe_l.fit(X=x_train, y=y_train)"
      ],
      "execution_count": 38,
      "outputs": []
    },
    {
      "cell_type": "code",
      "metadata": {
        "colab": {
          "base_uri": "https://localhost:8080/",
          "height": 197
        },
        "id": "EP2vyQC2eUz8",
        "outputId": "9ed1b0cc-e381-4bd1-a04f-f57db2e6cce5"
      },
      "source": [
        "y_pred_l = pipe_l.predict(x_test)\r\n",
        "df_predicciones_l = pd.DataFrame({'Unidades' : y_test, 'prediccion' : y_pred_l})\r\n",
        "df_predicciones_l.head()"
      ],
      "execution_count": 39,
      "outputs": [
        {
          "output_type": "execute_result",
          "data": {
            "text/html": [
              "<div>\n",
              "<style scoped>\n",
              "    .dataframe tbody tr th:only-of-type {\n",
              "        vertical-align: middle;\n",
              "    }\n",
              "\n",
              "    .dataframe tbody tr th {\n",
              "        vertical-align: top;\n",
              "    }\n",
              "\n",
              "    .dataframe thead th {\n",
              "        text-align: right;\n",
              "    }\n",
              "</style>\n",
              "<table border=\"1\" class=\"dataframe\">\n",
              "  <thead>\n",
              "    <tr style=\"text-align: right;\">\n",
              "      <th></th>\n",
              "      <th>Unidades</th>\n",
              "      <th>prediccion</th>\n",
              "    </tr>\n",
              "  </thead>\n",
              "  <tbody>\n",
              "    <tr>\n",
              "      <th>154258</th>\n",
              "      <td>1</td>\n",
              "      <td>1.055307</td>\n",
              "    </tr>\n",
              "    <tr>\n",
              "      <th>7183</th>\n",
              "      <td>1</td>\n",
              "      <td>1.187307</td>\n",
              "    </tr>\n",
              "    <tr>\n",
              "      <th>204767</th>\n",
              "      <td>0</td>\n",
              "      <td>1.078840</td>\n",
              "    </tr>\n",
              "    <tr>\n",
              "      <th>202110</th>\n",
              "      <td>0</td>\n",
              "      <td>1.263377</td>\n",
              "    </tr>\n",
              "    <tr>\n",
              "      <th>64844</th>\n",
              "      <td>0</td>\n",
              "      <td>1.074143</td>\n",
              "    </tr>\n",
              "  </tbody>\n",
              "</table>\n",
              "</div>"
            ],
            "text/plain": [
              "        Unidades  prediccion\n",
              "154258         1    1.055307\n",
              "7183           1    1.187307\n",
              "204767         0    1.078840\n",
              "202110         0    1.263377\n",
              "64844          0    1.074143"
            ]
          },
          "metadata": {
            "tags": []
          },
          "execution_count": 39
        }
      ]
    },
    {
      "cell_type": "code",
      "metadata": {
        "colab": {
          "base_uri": "https://localhost:8080/"
        },
        "id": "nRvgg3HBeag8",
        "outputId": "32ee9c22-3b30-4ba5-953e-5b5ae951afaa"
      },
      "source": [
        "#Performance de el modelo lineal\r\n",
        "mse_l = mean_squared_error(y_test,y_pred_l)\r\n",
        "rmse_l =  np.sqrt(mean_squared_error(y_test,y_pred_l))\r\n",
        "r2_l = r2_score(y_test,y_pred_l)\r\n",
        "\r\n",
        "print('MSE Regresion lineal:', mse_l)\r\n",
        "print('RMSE Regresion lineal:', rmse_l)\r\n",
        "print('R2_score Regresion lineal:', r2_l)"
      ],
      "execution_count": 41,
      "outputs": [
        {
          "output_type": "stream",
          "text": [
            "MSE Regresion lineal: 1.1991110011866892\n",
            "RMSE Regresion lineal: 1.0950392692441167\n",
            "R2_score Regresion lineal: 0.004310778952744898\n"
          ],
          "name": "stdout"
        }
      ]
    },
    {
      "cell_type": "markdown",
      "metadata": {
        "id": "WkN6jJhbhCDh"
      },
      "source": [
        "### Conclusiones"
      ]
    },
    {
      "cell_type": "markdown",
      "metadata": {
        "id": "mKdFRJm3rTdL"
      },
      "source": [
        "Las metricas para los modelos no nos ha mostrado unos buenos resultados, debido a la baja correlación de los predictores con la variable de respuesta."
      ]
    },
    {
      "cell_type": "markdown",
      "metadata": {
        "id": "ipA1ARN5r2G1"
      },
      "source": [
        "### Agradecimiento\r\n",
        "Mi primera experiencia con Python manipulando datos, aprendí muchas cosas desde que recibí la prueba y seguiré aprendiendolas. Soy conciente de que debo mejorar día y a día mis análisis, gracias por tenerme en cuenta. \r\n",
        "\r\n"
      ]
    }
  ]
}