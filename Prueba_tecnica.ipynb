{
  "nbformat": 4,
  "nbformat_minor": 0,
  "metadata": {
    "colab": {
      "name": "Prueba_tecnica",
      "provenance": [],
      "collapsed_sections": [],
      "authorship_tag": "ABX9TyPEt0ouBNSiEONfDqVd/jVC",
      "include_colab_link": true
    },
    "kernelspec": {
      "name": "python3",
      "display_name": "Python 3"
    }
  },
  "cells": [
    {
      "cell_type": "markdown",
      "metadata": {
        "id": "view-in-github",
        "colab_type": "text"
      },
      "source": [
        "<a href=\"https://colab.research.google.com/github/Eduarmma19/prueba_tecnica/blob/main/Prueba_tecnica.ipynb\" target=\"_parent\"><img src=\"https://colab.research.google.com/assets/colab-badge.svg\" alt=\"Open In Colab\"/></a>"
      ]
    },
    {
      "cell_type": "markdown",
      "metadata": {
        "id": "4ScGhju7CSpv"
      },
      "source": [
        "# Prueba tecnica cientifico de datos junior "
      ]
    },
    {
      "cell_type": "markdown",
      "metadata": {
        "id": "LGibhg8INtFq"
      },
      "source": [
        "## Contexto\r\n",
        "OFFCORSS es una compañia dedicada al diseño, producción y comercialización de propuestas completas de vestuario y accesorios para bebes, niños y niñas. Se encuentra en busqueda de un cientifico de datos junior y plantea una prueba tecnica donde se debe realizar un EDA y predecir el número de unidades de acuerdo a unas caracteristicas dadas de sus campañas atraves de los años en su mercado de acción. "
      ]
    },
    {
      "cell_type": "markdown",
      "metadata": {
        "id": "SjcDu7tpMk9k"
      },
      "source": [
        "## Objetivo de la prueba\r\n",
        "1. Realizar un EDA ( Exploratory Data Analysis) \r\n",
        "2. Predecir el # de unidades dependiendo de las caracteristicas dadas \r\n",
        "\r\n",
        "### Plan EDA\r\n",
        "\r\n",
        "\r\n",
        "1.   Entendiendo la base de datos (dimensión,columnas, # de NA, etc)\r\n",
        "2.   Plantear preguntas acerca de los datos \r\n",
        "\r\n"
      ]
    },
    {
      "cell_type": "markdown",
      "metadata": {
        "id": "txn3_0hvCYv_"
      },
      "source": [
        "## Importación de datos"
      ]
    },
    {
      "cell_type": "code",
      "metadata": {
        "id": "LJr_xafMEIjI"
      },
      "source": [
        "# Librerías a usar \r\n",
        "import pandas as pd\r\n",
        "import numpy as np\r\n",
        "import matplotlib.pyplot as plt\r\n",
        "import seaborn as sns \r\n",
        "%matplotlib inline"
      ],
      "execution_count": 118,
      "outputs": []
    },
    {
      "cell_type": "code",
      "metadata": {
        "id": "8ZFL6ykXBy9v"
      },
      "source": [
        "# Traer la base de datos desde el ordenador para el espacio de trabajo en colab\r\n",
        "from google.colab import files\r\n",
        "\r\n",
        "uploaded = files.upload()\r\n",
        "\r\n",
        "for fn in uploaded.keys():\r\n",
        "  print('User uploaded file \"{name}\" with length {length} bytes'.format(\r\n",
        "      name=fn, length=len(uploaded[fn])))"
      ],
      "execution_count": null,
      "outputs": []
    },
    {
      "cell_type": "code",
      "metadata": {
        "id": "K14o0wibEeAH"
      },
      "source": [
        "# El archivo de excel contiene la base de datos de los productos y en otra hoja información de las tiendas\r\n",
        "# Base de datos de los productos y sus caracteristicas\r\n",
        "df_productos = pd.read_excel(\"/content/BD Camisetas tiendas piloto analitica.xlsx\", sheet_name= \"Base\")\r\n",
        "# Esta es la segunda pagina del documento de excel que contiene información de las tiendas\r\n",
        "df_tiendas = pd.read_excel(\"/content/BD Camisetas tiendas piloto analitica.xlsx\", sheet_name= \"Parametros Tiendas\")\r\n"
      ],
      "execution_count": 5,
      "outputs": []
    },
    {
      "cell_type": "code",
      "metadata": {
        "colab": {
          "base_uri": "https://localhost:8080/",
          "height": 197
        },
        "id": "FoWqvtmYTAuz",
        "outputId": "bb2530e3-59fe-46e0-e236-a188b4cb7ba0"
      },
      "source": [
        "#Un pequeño vistaso de los datos de los productos \r\n",
        "df_productos.head()"
      ],
      "execution_count": 40,
      "outputs": [
        {
          "output_type": "execute_result",
          "data": {
            "text/html": [
              "<div>\n",
              "<style scoped>\n",
              "    .dataframe tbody tr th:only-of-type {\n",
              "        vertical-align: middle;\n",
              "    }\n",
              "\n",
              "    .dataframe tbody tr th {\n",
              "        vertical-align: top;\n",
              "    }\n",
              "\n",
              "    .dataframe thead th {\n",
              "        text-align: right;\n",
              "    }\n",
              "</style>\n",
              "<table border=\"1\" class=\"dataframe\">\n",
              "  <thead>\n",
              "    <tr style=\"text-align: right;\">\n",
              "      <th></th>\n",
              "      <th>Año</th>\n",
              "      <th>Semana</th>\n",
              "      <th>Centro</th>\n",
              "      <th>Material</th>\n",
              "      <th>Color</th>\n",
              "      <th>Talla</th>\n",
              "      <th>Mat:Concepto Diseño</th>\n",
              "      <th>Unidades</th>\n",
              "      <th>plu</th>\n",
              "    </tr>\n",
              "  </thead>\n",
              "  <tbody>\n",
              "    <tr>\n",
              "      <th>0</th>\n",
              "      <td>2017</td>\n",
              "      <td>1</td>\n",
              "      <td>T013</td>\n",
              "      <td>5133050</td>\n",
              "      <td>Rojo 18-1763</td>\n",
              "      <td>10</td>\n",
              "      <td>BASICOS CLASICOS</td>\n",
              "      <td>1</td>\n",
              "      <td>5133050 Rojo 18-1763 10</td>\n",
              "    </tr>\n",
              "    <tr>\n",
              "      <th>1</th>\n",
              "      <td>2017</td>\n",
              "      <td>1</td>\n",
              "      <td>T013</td>\n",
              "      <td>5133196</td>\n",
              "      <td>Azul 19-4050</td>\n",
              "      <td>10</td>\n",
              "      <td>BASICOS CLASICOS</td>\n",
              "      <td>2</td>\n",
              "      <td>5133196 Azul 19-4050 10</td>\n",
              "    </tr>\n",
              "    <tr>\n",
              "      <th>2</th>\n",
              "      <td>2017</td>\n",
              "      <td>1</td>\n",
              "      <td>T013</td>\n",
              "      <td>5133196</td>\n",
              "      <td>Negro 19-4006</td>\n",
              "      <td>8</td>\n",
              "      <td>BASICOS CLASICOS</td>\n",
              "      <td>2</td>\n",
              "      <td>5133196 Negro 19-4006 8</td>\n",
              "    </tr>\n",
              "    <tr>\n",
              "      <th>3</th>\n",
              "      <td>2017</td>\n",
              "      <td>1</td>\n",
              "      <td>T013</td>\n",
              "      <td>5133197</td>\n",
              "      <td>Azul 19-3921</td>\n",
              "      <td>6</td>\n",
              "      <td>BASICOS CLASICOS</td>\n",
              "      <td>1</td>\n",
              "      <td>5133197 Azul 19-3921 6</td>\n",
              "    </tr>\n",
              "    <tr>\n",
              "      <th>4</th>\n",
              "      <td>2017</td>\n",
              "      <td>1</td>\n",
              "      <td>T013</td>\n",
              "      <td>5133197</td>\n",
              "      <td>Azul 19-3939</td>\n",
              "      <td>8</td>\n",
              "      <td>BASICOS CLASICOS</td>\n",
              "      <td>1</td>\n",
              "      <td>5133197 Azul 19-3939 8</td>\n",
              "    </tr>\n",
              "  </tbody>\n",
              "</table>\n",
              "</div>"
            ],
            "text/plain": [
              "    Año  Semana Centro  ...  Mat:Concepto Diseño Unidades                      plu\n",
              "0  2017       1   T013  ...     BASICOS CLASICOS        1  5133050 Rojo 18-1763 10\n",
              "1  2017       1   T013  ...     BASICOS CLASICOS        2  5133196 Azul 19-4050 10\n",
              "2  2017       1   T013  ...     BASICOS CLASICOS        2  5133196 Negro 19-4006 8\n",
              "3  2017       1   T013  ...     BASICOS CLASICOS        1   5133197 Azul 19-3921 6\n",
              "4  2017       1   T013  ...     BASICOS CLASICOS        1   5133197 Azul 19-3939 8\n",
              "\n",
              "[5 rows x 9 columns]"
            ]
          },
          "metadata": {
            "tags": []
          },
          "execution_count": 40
        }
      ]
    },
    {
      "cell_type": "code",
      "metadata": {
        "colab": {
          "base_uri": "https://localhost:8080/",
          "height": 197
        },
        "id": "u6o0U7NpbxZ0",
        "outputId": "d21ffc0f-2207-4f48-a4fa-0f7e697b6733"
      },
      "source": [
        "# Un pequeño vistazo de los datos de las tiendas\r\n",
        "df_tiendas.head()\r\n"
      ],
      "execution_count": 8,
      "outputs": [
        {
          "output_type": "execute_result",
          "data": {
            "text/html": [
              "<div>\n",
              "<style scoped>\n",
              "    .dataframe tbody tr th:only-of-type {\n",
              "        vertical-align: middle;\n",
              "    }\n",
              "\n",
              "    .dataframe tbody tr th {\n",
              "        vertical-align: top;\n",
              "    }\n",
              "\n",
              "    .dataframe thead th {\n",
              "        text-align: right;\n",
              "    }\n",
              "</style>\n",
              "<table border=\"1\" class=\"dataframe\">\n",
              "  <thead>\n",
              "    <tr style=\"text-align: right;\">\n",
              "      <th></th>\n",
              "      <th>Centro</th>\n",
              "      <th>Tienda</th>\n",
              "      <th>Ciudad</th>\n",
              "      <th>Clima</th>\n",
              "    </tr>\n",
              "  </thead>\n",
              "  <tbody>\n",
              "    <tr>\n",
              "      <th>0</th>\n",
              "      <td>T013</td>\n",
              "      <td>Tda Chipichape 2</td>\n",
              "      <td>Cali</td>\n",
              "      <td>C</td>\n",
              "    </tr>\n",
              "    <tr>\n",
              "      <th>1</th>\n",
              "      <td>T014</td>\n",
              "      <td>Tda El Tesoro</td>\n",
              "      <td>Medellin</td>\n",
              "      <td>M</td>\n",
              "    </tr>\n",
              "    <tr>\n",
              "      <th>2</th>\n",
              "      <td>T024</td>\n",
              "      <td>Tda San Diego</td>\n",
              "      <td>Medellin</td>\n",
              "      <td>M</td>\n",
              "    </tr>\n",
              "    <tr>\n",
              "      <th>3</th>\n",
              "      <td>T025</td>\n",
              "      <td>Tda SantaFe Bog.</td>\n",
              "      <td>Bogotá</td>\n",
              "      <td>F</td>\n",
              "    </tr>\n",
              "    <tr>\n",
              "      <th>4</th>\n",
              "      <td>T049</td>\n",
              "      <td>Tda Calima Bogota.</td>\n",
              "      <td>Bogotá</td>\n",
              "      <td>F</td>\n",
              "    </tr>\n",
              "  </tbody>\n",
              "</table>\n",
              "</div>"
            ],
            "text/plain": [
              "  Centro              Tienda    Ciudad Clima\n",
              "0   T013    Tda Chipichape 2      Cali     C\n",
              "1   T014       Tda El Tesoro  Medellin     M\n",
              "2   T024       Tda San Diego  Medellin     M\n",
              "3   T025    Tda SantaFe Bog.    Bogotá     F\n",
              "4   T049  Tda Calima Bogota.    Bogotá     F"
            ]
          },
          "metadata": {
            "tags": []
          },
          "execution_count": 8
        }
      ]
    },
    {
      "cell_type": "code",
      "metadata": {
        "colab": {
          "base_uri": "https://localhost:8080/"
        },
        "id": "5wF97jh8E2Fu",
        "outputId": "8bdd2a52-aeb9-47c7-c49d-c2fa5b5b4dca"
      },
      "source": [
        "# Dimensiones de df_productos y df_tiendas respectivamente\r\n",
        "print(df_productos.shape,df_tiendas.shape, sep = \"\\n\")"
      ],
      "execution_count": 10,
      "outputs": [
        {
          "output_type": "stream",
          "text": [
            "(253331, 8)\n",
            "(47, 4)\n"
          ],
          "name": "stdout"
        }
      ]
    },
    {
      "cell_type": "code",
      "metadata": {
        "colab": {
          "base_uri": "https://localhost:8080/"
        },
        "id": "FJzEtBAOScYd",
        "outputId": "de99caa9-d873-43c0-b398-8a4c57ed0697"
      },
      "source": [
        "#Conociendo los tipos de variables de df_productos y df_tiendas respectivamente\r\n",
        "print(df_productos.dtypes,df_tiendas.dtypes, sep= \"\\n\\n\")"
      ],
      "execution_count": 36,
      "outputs": [
        {
          "output_type": "stream",
          "text": [
            "Año                     int64\n",
            "Año/Semana              int64\n",
            "Centro                 object\n",
            "Material                int64\n",
            "Color                  object\n",
            "Talla                  object\n",
            "Mat:Concepto Diseño    object\n",
            "Unidades                int64\n",
            "plu                    object\n",
            "dtype: object\n",
            "\n",
            "Centro    object\n",
            "Tienda    object\n",
            "Ciudad    object\n",
            "Clima     object\n",
            "dtype: object\n"
          ],
          "name": "stdout"
        }
      ]
    },
    {
      "cell_type": "code",
      "metadata": {
        "colab": {
          "base_uri": "https://localhost:8080/"
        },
        "id": "r_2toppGS878",
        "outputId": "bc0307d5-15eb-4428-c9fb-d88364613ec9"
      },
      "source": [
        "# Porcentaje de NA ( No tenemos NA dentro de la base de datos)\r\n",
        "print(df_productos.isnull().sum()/df_productos.shape[0], df_tiendas.isnull().sum()/df_tiendas.shape[0], sep= \"\\n\\n\")\r\n"
      ],
      "execution_count": 32,
      "outputs": [
        {
          "output_type": "stream",
          "text": [
            "Año                    0.0\n",
            "Año/Semana             0.0\n",
            "Centro                 0.0\n",
            "Material               0.0\n",
            "Color                  0.0\n",
            "Talla                  0.0\n",
            "Mat:Concepto Diseño    0.0\n",
            "Unidades               0.0\n",
            "plu                    0.0\n",
            "dtype: float64\n",
            "\n",
            "Centro    0.0\n",
            "Tienda    0.0\n",
            "Ciudad    0.0\n",
            "Clima     0.0\n",
            "dtype: float64\n"
          ],
          "name": "stdout"
        }
      ]
    },
    {
      "cell_type": "code",
      "metadata": {
        "id": "TPLNs9Ojmpkt"
      },
      "source": [
        "# Creando la variable \"plu\" que indica la union de Material, Color y talla. Ejemplo : Una camisa azul de rayas de navidad talla 16\r\n",
        "df_productos[\"plu\"] = df_productos[\"Material\"].astype(str) + \" \" + df_productos[\"Color\"] + \" \" + df_productos[\"Talla\"]"
      ],
      "execution_count": 29,
      "outputs": []
    },
    {
      "cell_type": "code",
      "metadata": {
        "id": "Y57ClVp8HAmF"
      },
      "source": [
        "# La variable año/ mes esta en formato float y la parte entera indica la semana mientras que la decimal el año\r\n",
        "# pero ya tengo la variable año , así que de esta variable solo me quedaré con la parte entera es decir las semanas y la renombro a \"Semana\"\r\n",
        "df_productos[\"Año/Semana\"] = df_productos[\"Año/Semana\"].astype(int)\r\n",
        "df_productos = df_productos.rename(columns= {\"Año/Semana\":\"Semana\"})\r\n"
      ],
      "execution_count": 39,
      "outputs": []
    },
    {
      "cell_type": "code",
      "metadata": {
        "colab": {
          "base_uri": "https://localhost:8080/",
          "height": 197
        },
        "id": "Ub_5CbZBXiw_",
        "outputId": "28816b7b-89e5-43d8-d877-4c36228c3f00"
      },
      "source": [
        "#Unir las bases de datos para algunas visualizaciones \r\n",
        "df_total = pd.merge(df_productos,df_tiendas, on = \"Centro\")\r\n",
        "df_total.head()"
      ],
      "execution_count": 42,
      "outputs": [
        {
          "output_type": "execute_result",
          "data": {
            "text/html": [
              "<div>\n",
              "<style scoped>\n",
              "    .dataframe tbody tr th:only-of-type {\n",
              "        vertical-align: middle;\n",
              "    }\n",
              "\n",
              "    .dataframe tbody tr th {\n",
              "        vertical-align: top;\n",
              "    }\n",
              "\n",
              "    .dataframe thead th {\n",
              "        text-align: right;\n",
              "    }\n",
              "</style>\n",
              "<table border=\"1\" class=\"dataframe\">\n",
              "  <thead>\n",
              "    <tr style=\"text-align: right;\">\n",
              "      <th></th>\n",
              "      <th>Año</th>\n",
              "      <th>Semana</th>\n",
              "      <th>Centro</th>\n",
              "      <th>Material</th>\n",
              "      <th>Color</th>\n",
              "      <th>Talla</th>\n",
              "      <th>Mat:Concepto Diseño</th>\n",
              "      <th>Unidades</th>\n",
              "      <th>plu</th>\n",
              "      <th>Tienda</th>\n",
              "      <th>Ciudad</th>\n",
              "      <th>Clima</th>\n",
              "    </tr>\n",
              "  </thead>\n",
              "  <tbody>\n",
              "    <tr>\n",
              "      <th>0</th>\n",
              "      <td>2017</td>\n",
              "      <td>1</td>\n",
              "      <td>T013</td>\n",
              "      <td>5133050</td>\n",
              "      <td>Rojo 18-1763</td>\n",
              "      <td>10</td>\n",
              "      <td>BASICOS CLASICOS</td>\n",
              "      <td>1</td>\n",
              "      <td>5133050 Rojo 18-1763 10</td>\n",
              "      <td>Tda Chipichape 2</td>\n",
              "      <td>Cali</td>\n",
              "      <td>C</td>\n",
              "    </tr>\n",
              "    <tr>\n",
              "      <th>1</th>\n",
              "      <td>2017</td>\n",
              "      <td>1</td>\n",
              "      <td>T013</td>\n",
              "      <td>5133196</td>\n",
              "      <td>Azul 19-4050</td>\n",
              "      <td>10</td>\n",
              "      <td>BASICOS CLASICOS</td>\n",
              "      <td>2</td>\n",
              "      <td>5133196 Azul 19-4050 10</td>\n",
              "      <td>Tda Chipichape 2</td>\n",
              "      <td>Cali</td>\n",
              "      <td>C</td>\n",
              "    </tr>\n",
              "    <tr>\n",
              "      <th>2</th>\n",
              "      <td>2017</td>\n",
              "      <td>1</td>\n",
              "      <td>T013</td>\n",
              "      <td>5133196</td>\n",
              "      <td>Negro 19-4006</td>\n",
              "      <td>8</td>\n",
              "      <td>BASICOS CLASICOS</td>\n",
              "      <td>2</td>\n",
              "      <td>5133196 Negro 19-4006 8</td>\n",
              "      <td>Tda Chipichape 2</td>\n",
              "      <td>Cali</td>\n",
              "      <td>C</td>\n",
              "    </tr>\n",
              "    <tr>\n",
              "      <th>3</th>\n",
              "      <td>2017</td>\n",
              "      <td>1</td>\n",
              "      <td>T013</td>\n",
              "      <td>5133197</td>\n",
              "      <td>Azul 19-3921</td>\n",
              "      <td>6</td>\n",
              "      <td>BASICOS CLASICOS</td>\n",
              "      <td>1</td>\n",
              "      <td>5133197 Azul 19-3921 6</td>\n",
              "      <td>Tda Chipichape 2</td>\n",
              "      <td>Cali</td>\n",
              "      <td>C</td>\n",
              "    </tr>\n",
              "    <tr>\n",
              "      <th>4</th>\n",
              "      <td>2017</td>\n",
              "      <td>1</td>\n",
              "      <td>T013</td>\n",
              "      <td>5133197</td>\n",
              "      <td>Azul 19-3939</td>\n",
              "      <td>8</td>\n",
              "      <td>BASICOS CLASICOS</td>\n",
              "      <td>1</td>\n",
              "      <td>5133197 Azul 19-3939 8</td>\n",
              "      <td>Tda Chipichape 2</td>\n",
              "      <td>Cali</td>\n",
              "      <td>C</td>\n",
              "    </tr>\n",
              "  </tbody>\n",
              "</table>\n",
              "</div>"
            ],
            "text/plain": [
              "    Año  Semana Centro  ...            Tienda Ciudad Clima\n",
              "0  2017       1   T013  ...  Tda Chipichape 2   Cali     C\n",
              "1  2017       1   T013  ...  Tda Chipichape 2   Cali     C\n",
              "2  2017       1   T013  ...  Tda Chipichape 2   Cali     C\n",
              "3  2017       1   T013  ...  Tda Chipichape 2   Cali     C\n",
              "4  2017       1   T013  ...  Tda Chipichape 2   Cali     C\n",
              "\n",
              "[5 rows x 12 columns]"
            ]
          },
          "metadata": {
            "tags": []
          },
          "execution_count": 42
        }
      ]
    },
    {
      "cell_type": "code",
      "metadata": {
        "id": "Z58G33kWb-V3"
      },
      "source": [
        "from time import sleep\r\n",
        "from geopy.geocoders import Nominatim\r\n",
        "import numpy as np\r\n",
        "import pandas as pd\r\n",
        "\r\n",
        "def get_coords(neight):\r\n",
        "    geolocator = Nominatim(user_agent=\"Colombia\")\r\n",
        "    address = f'{neight},Colombia'\r\n",
        "    location = geolocator.geocode(address)\r\n",
        "    if location is not None:\r\n",
        "        latitude = location.latitude\r\n",
        "        longitude = location.longitude\r\n",
        "    else:\r\n",
        "        latitude = longitude = np.NaN\r\n",
        "    sleep(2)\r\n",
        "    return pd.Series({\"Latitud\": latitude, \"Longitude\": longitude})"
      ],
      "execution_count": 197,
      "outputs": []
    },
    {
      "cell_type": "code",
      "metadata": {
        "colab": {
          "base_uri": "https://localhost:8080/",
          "height": 854
        },
        "id": "KTHB2D9PcG7V",
        "outputId": "40fdf4c8-468e-42d0-fad8-f3cd1af29538"
      },
      "source": [
        "df = pd.DataFrame({\"Neighbourhood\": ('Cali', 'Medellin', 'Bogotá', 'San andres', 'Rionegro',\r\n",
        "       'Villavicencio', 'Ipiales', 'Girardot', 'Apartado', 'Palmira',\r\n",
        "       'Sincelejo', 'Cartago', 'Mosquera', 'Yopal', 'Chia', 'La ceja',\r\n",
        "       'Soacha', 'Llanogrande'        )})\r\n",
        "# Obtener las coordenadas de las ciudades donde la empresa tiene presencia \r\n",
        "lldata = pd.concat([df, df.Neighbourhood.apply(get_coords)], axis=1)\r\n",
        "import folium\r\n",
        "mi_mapa = folium.Map(location=(4.570868,-74.297333), zoom_start= 6.1)\r\n",
        "for i in range(len(lldata)):\r\n",
        "  x = lldata['Latitud'][i]\r\n",
        "  y = lldata['Longitude'][i]\r\n",
        "  z = lldata['Neighbourhood'][i]\r\n",
        "  folium.Marker([x,y],popup=z).add_to(mi_mapa)\r\n",
        "\r\n",
        "#Imprimir en el mapa las ubicaciones de las tiendas presentes en la base de datos\r\n",
        "mi_mapa"
      ],
      "execution_count": 198,
      "outputs": [
        {
          "output_type": "execute_result",
          "data": {
            "text/html": [
              "<div style=\"width:100%;\"><div style=\"position:relative;width:100%;height:0;padding-bottom:60%;\"><span style=\"color:#565656\">Make this Notebook Trusted to load map: File -> Trust Notebook</span><iframe src=\"about:blank\" style=\"position:absolute;width:100%;height:100%;left:0;top:0;border:none !important;\" data-html=%3C%21DOCTYPE%20html%3E%0A%3Chead%3E%20%20%20%20%0A%20%20%20%20%3Cmeta%20http-equiv%3D%22content-type%22%20content%3D%22text/html%3B%20charset%3DUTF-8%22%20/%3E%0A%20%20%20%20%3Cscript%3EL_PREFER_CANVAS%3Dfalse%3B%20L_NO_TOUCH%3Dfalse%3B%20L_DISABLE_3D%3Dfalse%3B%3C/script%3E%0A%20%20%20%20%3Cscript%20src%3D%22https%3A//cdn.jsdelivr.net/npm/leaflet%401.4.0/dist/leaflet.js%22%3E%3C/script%3E%0A%20%20%20%20%3Cscript%20src%3D%22https%3A//code.jquery.com/jquery-1.12.4.min.js%22%3E%3C/script%3E%0A%20%20%20%20%3Cscript%20src%3D%22https%3A//maxcdn.bootstrapcdn.com/bootstrap/3.2.0/js/bootstrap.min.js%22%3E%3C/script%3E%0A%20%20%20%20%3Cscript%20src%3D%22https%3A//cdnjs.cloudflare.com/ajax/libs/Leaflet.awesome-markers/2.0.2/leaflet.awesome-markers.js%22%3E%3C/script%3E%0A%20%20%20%20%3Clink%20rel%3D%22stylesheet%22%20href%3D%22https%3A//cdn.jsdelivr.net/npm/leaflet%401.4.0/dist/leaflet.css%22/%3E%0A%20%20%20%20%3Clink%20rel%3D%22stylesheet%22%20href%3D%22https%3A//maxcdn.bootstrapcdn.com/bootstrap/3.2.0/css/bootstrap.min.css%22/%3E%0A%20%20%20%20%3Clink%20rel%3D%22stylesheet%22%20href%3D%22https%3A//maxcdn.bootstrapcdn.com/bootstrap/3.2.0/css/bootstrap-theme.min.css%22/%3E%0A%20%20%20%20%3Clink%20rel%3D%22stylesheet%22%20href%3D%22https%3A//maxcdn.bootstrapcdn.com/font-awesome/4.6.3/css/font-awesome.min.css%22/%3E%0A%20%20%20%20%3Clink%20rel%3D%22stylesheet%22%20href%3D%22https%3A//cdnjs.cloudflare.com/ajax/libs/Leaflet.awesome-markers/2.0.2/leaflet.awesome-markers.css%22/%3E%0A%20%20%20%20%3Clink%20rel%3D%22stylesheet%22%20href%3D%22https%3A//rawcdn.githack.com/python-visualization/folium/master/folium/templates/leaflet.awesome.rotate.css%22/%3E%0A%20%20%20%20%3Cstyle%3Ehtml%2C%20body%20%7Bwidth%3A%20100%25%3Bheight%3A%20100%25%3Bmargin%3A%200%3Bpadding%3A%200%3B%7D%3C/style%3E%0A%20%20%20%20%3Cstyle%3E%23map%20%7Bposition%3Aabsolute%3Btop%3A0%3Bbottom%3A0%3Bright%3A0%3Bleft%3A0%3B%7D%3C/style%3E%0A%20%20%20%20%0A%20%20%20%20%3Cmeta%20name%3D%22viewport%22%20content%3D%22width%3Ddevice-width%2C%0A%20%20%20%20%20%20%20%20initial-scale%3D1.0%2C%20maximum-scale%3D1.0%2C%20user-scalable%3Dno%22%20/%3E%0A%20%20%20%20%3Cstyle%3E%23map_c12712555eb045e7bb3bbbf954f2121a%20%7B%0A%20%20%20%20%20%20%20%20position%3A%20relative%3B%0A%20%20%20%20%20%20%20%20width%3A%20100.0%25%3B%0A%20%20%20%20%20%20%20%20height%3A%20100.0%25%3B%0A%20%20%20%20%20%20%20%20left%3A%200.0%25%3B%0A%20%20%20%20%20%20%20%20top%3A%200.0%25%3B%0A%20%20%20%20%20%20%20%20%7D%0A%20%20%20%20%3C/style%3E%0A%3C/head%3E%0A%3Cbody%3E%20%20%20%20%0A%20%20%20%20%0A%20%20%20%20%3Cdiv%20class%3D%22folium-map%22%20id%3D%22map_c12712555eb045e7bb3bbbf954f2121a%22%20%3E%3C/div%3E%0A%3C/body%3E%0A%3Cscript%3E%20%20%20%20%0A%20%20%20%20%0A%20%20%20%20%0A%20%20%20%20%20%20%20%20var%20bounds%20%3D%20null%3B%0A%20%20%20%20%0A%0A%20%20%20%20var%20map_c12712555eb045e7bb3bbbf954f2121a%20%3D%20L.map%28%0A%20%20%20%20%20%20%20%20%27map_c12712555eb045e7bb3bbbf954f2121a%27%2C%20%7B%0A%20%20%20%20%20%20%20%20center%3A%20%5B4.570868%2C%20-74.297333%5D%2C%0A%20%20%20%20%20%20%20%20zoom%3A%206.1%2C%0A%20%20%20%20%20%20%20%20maxBounds%3A%20bounds%2C%0A%20%20%20%20%20%20%20%20layers%3A%20%5B%5D%2C%0A%20%20%20%20%20%20%20%20worldCopyJump%3A%20false%2C%0A%20%20%20%20%20%20%20%20crs%3A%20L.CRS.EPSG3857%2C%0A%20%20%20%20%20%20%20%20zoomControl%3A%20true%2C%0A%20%20%20%20%20%20%20%20%7D%29%3B%0A%0A%0A%20%20%20%20%0A%20%20%20%20var%20tile_layer_3598caa31170416e8a084d416c88de42%20%3D%20L.tileLayer%28%0A%20%20%20%20%20%20%20%20%27https%3A//%7Bs%7D.tile.openstreetmap.org/%7Bz%7D/%7Bx%7D/%7By%7D.png%27%2C%0A%20%20%20%20%20%20%20%20%7B%0A%20%20%20%20%20%20%20%20%22attribution%22%3A%20null%2C%0A%20%20%20%20%20%20%20%20%22detectRetina%22%3A%20false%2C%0A%20%20%20%20%20%20%20%20%22maxNativeZoom%22%3A%2018%2C%0A%20%20%20%20%20%20%20%20%22maxZoom%22%3A%2018%2C%0A%20%20%20%20%20%20%20%20%22minZoom%22%3A%200%2C%0A%20%20%20%20%20%20%20%20%22noWrap%22%3A%20false%2C%0A%20%20%20%20%20%20%20%20%22opacity%22%3A%201%2C%0A%20%20%20%20%20%20%20%20%22subdomains%22%3A%20%22abc%22%2C%0A%20%20%20%20%20%20%20%20%22tms%22%3A%20false%0A%7D%29.addTo%28map_c12712555eb045e7bb3bbbf954f2121a%29%3B%0A%20%20%20%20%0A%20%20%20%20%20%20%20%20var%20marker_c02bd8605f2b4610a5da4d6dd4ebdd89%20%3D%20L.marker%28%0A%20%20%20%20%20%20%20%20%20%20%20%20%5B3.4517923%2C%20-76.5324943%5D%2C%0A%20%20%20%20%20%20%20%20%20%20%20%20%7B%0A%20%20%20%20%20%20%20%20%20%20%20%20%20%20%20%20icon%3A%20new%20L.Icon.Default%28%29%2C%0A%20%20%20%20%20%20%20%20%20%20%20%20%20%20%20%20%7D%0A%20%20%20%20%20%20%20%20%20%20%20%20%29.addTo%28map_c12712555eb045e7bb3bbbf954f2121a%29%3B%0A%20%20%20%20%20%20%20%20%0A%20%20%20%20%0A%20%20%20%20%20%20%20%20%20%20%20%20var%20popup_4e61cf95909f4f0ab18528e4c833c02a%20%3D%20L.popup%28%7BmaxWidth%3A%20%27100%25%27%0A%20%20%20%20%20%20%20%20%20%20%20%20%0A%20%20%20%20%20%20%20%20%20%20%20%20%7D%29%3B%0A%0A%20%20%20%20%20%20%20%20%20%20%20%20%0A%20%20%20%20%20%20%20%20%20%20%20%20%20%20%20%20var%20html_6dbb6d6be81f4f37b77edcc8ec3696d9%20%3D%20%24%28%60%3Cdiv%20id%3D%22html_6dbb6d6be81f4f37b77edcc8ec3696d9%22%20style%3D%22width%3A%20100.0%25%3B%20height%3A%20100.0%25%3B%22%3ECali%3C/div%3E%60%29%5B0%5D%3B%0A%20%20%20%20%20%20%20%20%20%20%20%20%20%20%20%20popup_4e61cf95909f4f0ab18528e4c833c02a.setContent%28html_6dbb6d6be81f4f37b77edcc8ec3696d9%29%3B%0A%20%20%20%20%20%20%20%20%20%20%20%20%0A%0A%20%20%20%20%20%20%20%20%20%20%20%20marker_c02bd8605f2b4610a5da4d6dd4ebdd89.bindPopup%28popup_4e61cf95909f4f0ab18528e4c833c02a%29%0A%20%20%20%20%20%20%20%20%20%20%20%20%3B%0A%0A%20%20%20%20%20%20%20%20%20%20%20%20%0A%20%20%20%20%20%20%20%20%0A%20%20%20%20%0A%20%20%20%20%20%20%20%20var%20marker_66c91d2a4db04fe6854e5418005b56ef%20%3D%20L.marker%28%0A%20%20%20%20%20%20%20%20%20%20%20%20%5B6.2443382%2C%20-75.573553%5D%2C%0A%20%20%20%20%20%20%20%20%20%20%20%20%7B%0A%20%20%20%20%20%20%20%20%20%20%20%20%20%20%20%20icon%3A%20new%20L.Icon.Default%28%29%2C%0A%20%20%20%20%20%20%20%20%20%20%20%20%20%20%20%20%7D%0A%20%20%20%20%20%20%20%20%20%20%20%20%29.addTo%28map_c12712555eb045e7bb3bbbf954f2121a%29%3B%0A%20%20%20%20%20%20%20%20%0A%20%20%20%20%0A%20%20%20%20%20%20%20%20%20%20%20%20var%20popup_077b32c8686940e8bafeae746e6d6379%20%3D%20L.popup%28%7BmaxWidth%3A%20%27100%25%27%0A%20%20%20%20%20%20%20%20%20%20%20%20%0A%20%20%20%20%20%20%20%20%20%20%20%20%7D%29%3B%0A%0A%20%20%20%20%20%20%20%20%20%20%20%20%0A%20%20%20%20%20%20%20%20%20%20%20%20%20%20%20%20var%20html_5c20ba43062c4d4195ae627ef018ee87%20%3D%20%24%28%60%3Cdiv%20id%3D%22html_5c20ba43062c4d4195ae627ef018ee87%22%20style%3D%22width%3A%20100.0%25%3B%20height%3A%20100.0%25%3B%22%3EMedellin%3C/div%3E%60%29%5B0%5D%3B%0A%20%20%20%20%20%20%20%20%20%20%20%20%20%20%20%20popup_077b32c8686940e8bafeae746e6d6379.setContent%28html_5c20ba43062c4d4195ae627ef018ee87%29%3B%0A%20%20%20%20%20%20%20%20%20%20%20%20%0A%0A%20%20%20%20%20%20%20%20%20%20%20%20marker_66c91d2a4db04fe6854e5418005b56ef.bindPopup%28popup_077b32c8686940e8bafeae746e6d6379%29%0A%20%20%20%20%20%20%20%20%20%20%20%20%3B%0A%0A%20%20%20%20%20%20%20%20%20%20%20%20%0A%20%20%20%20%20%20%20%20%0A%20%20%20%20%0A%20%20%20%20%20%20%20%20var%20marker_fb0adf7992c44efab93ca2accef0792e%20%3D%20L.marker%28%0A%20%20%20%20%20%20%20%20%20%20%20%20%5B4.6533326%2C%20-74.083652%5D%2C%0A%20%20%20%20%20%20%20%20%20%20%20%20%7B%0A%20%20%20%20%20%20%20%20%20%20%20%20%20%20%20%20icon%3A%20new%20L.Icon.Default%28%29%2C%0A%20%20%20%20%20%20%20%20%20%20%20%20%20%20%20%20%7D%0A%20%20%20%20%20%20%20%20%20%20%20%20%29.addTo%28map_c12712555eb045e7bb3bbbf954f2121a%29%3B%0A%20%20%20%20%20%20%20%20%0A%20%20%20%20%0A%20%20%20%20%20%20%20%20%20%20%20%20var%20popup_da17aa3ed0e74070b5eddba1f832efc7%20%3D%20L.popup%28%7BmaxWidth%3A%20%27100%25%27%0A%20%20%20%20%20%20%20%20%20%20%20%20%0A%20%20%20%20%20%20%20%20%20%20%20%20%7D%29%3B%0A%0A%20%20%20%20%20%20%20%20%20%20%20%20%0A%20%20%20%20%20%20%20%20%20%20%20%20%20%20%20%20var%20html_36873fa55b3b44c381ff5fdb7ca8bdfc%20%3D%20%24%28%60%3Cdiv%20id%3D%22html_36873fa55b3b44c381ff5fdb7ca8bdfc%22%20style%3D%22width%3A%20100.0%25%3B%20height%3A%20100.0%25%3B%22%3EBogot%C3%A1%3C/div%3E%60%29%5B0%5D%3B%0A%20%20%20%20%20%20%20%20%20%20%20%20%20%20%20%20popup_da17aa3ed0e74070b5eddba1f832efc7.setContent%28html_36873fa55b3b44c381ff5fdb7ca8bdfc%29%3B%0A%20%20%20%20%20%20%20%20%20%20%20%20%0A%0A%20%20%20%20%20%20%20%20%20%20%20%20marker_fb0adf7992c44efab93ca2accef0792e.bindPopup%28popup_da17aa3ed0e74070b5eddba1f832efc7%29%0A%20%20%20%20%20%20%20%20%20%20%20%20%3B%0A%0A%20%20%20%20%20%20%20%20%20%20%20%20%0A%20%20%20%20%20%20%20%20%0A%20%20%20%20%0A%20%20%20%20%20%20%20%20var%20marker_9f33b01640fd4c9f9046d4b98bcf9c68%20%3D%20L.marker%28%0A%20%20%20%20%20%20%20%20%20%20%20%20%5B6.8180711%2C%20-72.82070608235979%5D%2C%0A%20%20%20%20%20%20%20%20%20%20%20%20%7B%0A%20%20%20%20%20%20%20%20%20%20%20%20%20%20%20%20icon%3A%20new%20L.Icon.Default%28%29%2C%0A%20%20%20%20%20%20%20%20%20%20%20%20%20%20%20%20%7D%0A%20%20%20%20%20%20%20%20%20%20%20%20%29.addTo%28map_c12712555eb045e7bb3bbbf954f2121a%29%3B%0A%20%20%20%20%20%20%20%20%0A%20%20%20%20%0A%20%20%20%20%20%20%20%20%20%20%20%20var%20popup_cb6cc5681628489da25f845400717570%20%3D%20L.popup%28%7BmaxWidth%3A%20%27100%25%27%0A%20%20%20%20%20%20%20%20%20%20%20%20%0A%20%20%20%20%20%20%20%20%20%20%20%20%7D%29%3B%0A%0A%20%20%20%20%20%20%20%20%20%20%20%20%0A%20%20%20%20%20%20%20%20%20%20%20%20%20%20%20%20var%20html_d6b362ee8fc14940b82cb8312d9a8141%20%3D%20%24%28%60%3Cdiv%20id%3D%22html_d6b362ee8fc14940b82cb8312d9a8141%22%20style%3D%22width%3A%20100.0%25%3B%20height%3A%20100.0%25%3B%22%3ESan%20andres%3C/div%3E%60%29%5B0%5D%3B%0A%20%20%20%20%20%20%20%20%20%20%20%20%20%20%20%20popup_cb6cc5681628489da25f845400717570.setContent%28html_d6b362ee8fc14940b82cb8312d9a8141%29%3B%0A%20%20%20%20%20%20%20%20%20%20%20%20%0A%0A%20%20%20%20%20%20%20%20%20%20%20%20marker_9f33b01640fd4c9f9046d4b98bcf9c68.bindPopup%28popup_cb6cc5681628489da25f845400717570%29%0A%20%20%20%20%20%20%20%20%20%20%20%20%3B%0A%0A%20%20%20%20%20%20%20%20%20%20%20%20%0A%20%20%20%20%20%20%20%20%0A%20%20%20%20%0A%20%20%20%20%20%20%20%20var%20marker_b7736e37d8404cb08b2117ba058aef79%20%3D%20L.marker%28%0A%20%20%20%20%20%20%20%20%20%20%20%20%5B6.1536166%2C%20-75.3741691%5D%2C%0A%20%20%20%20%20%20%20%20%20%20%20%20%7B%0A%20%20%20%20%20%20%20%20%20%20%20%20%20%20%20%20icon%3A%20new%20L.Icon.Default%28%29%2C%0A%20%20%20%20%20%20%20%20%20%20%20%20%20%20%20%20%7D%0A%20%20%20%20%20%20%20%20%20%20%20%20%29.addTo%28map_c12712555eb045e7bb3bbbf954f2121a%29%3B%0A%20%20%20%20%20%20%20%20%0A%20%20%20%20%0A%20%20%20%20%20%20%20%20%20%20%20%20var%20popup_cb7cf56dcd3d45dc8cae86b9048c5618%20%3D%20L.popup%28%7BmaxWidth%3A%20%27100%25%27%0A%20%20%20%20%20%20%20%20%20%20%20%20%0A%20%20%20%20%20%20%20%20%20%20%20%20%7D%29%3B%0A%0A%20%20%20%20%20%20%20%20%20%20%20%20%0A%20%20%20%20%20%20%20%20%20%20%20%20%20%20%20%20var%20html_bbf7d1eda8d34616b8f945418b7c97ca%20%3D%20%24%28%60%3Cdiv%20id%3D%22html_bbf7d1eda8d34616b8f945418b7c97ca%22%20style%3D%22width%3A%20100.0%25%3B%20height%3A%20100.0%25%3B%22%3ERionegro%3C/div%3E%60%29%5B0%5D%3B%0A%20%20%20%20%20%20%20%20%20%20%20%20%20%20%20%20popup_cb7cf56dcd3d45dc8cae86b9048c5618.setContent%28html_bbf7d1eda8d34616b8f945418b7c97ca%29%3B%0A%20%20%20%20%20%20%20%20%20%20%20%20%0A%0A%20%20%20%20%20%20%20%20%20%20%20%20marker_b7736e37d8404cb08b2117ba058aef79.bindPopup%28popup_cb7cf56dcd3d45dc8cae86b9048c5618%29%0A%20%20%20%20%20%20%20%20%20%20%20%20%3B%0A%0A%20%20%20%20%20%20%20%20%20%20%20%20%0A%20%20%20%20%20%20%20%20%0A%20%20%20%20%0A%20%20%20%20%20%20%20%20var%20marker_d150da94092c4a98b3c0251a1162a850%20%3D%20L.marker%28%0A%20%20%20%20%20%20%20%20%20%20%20%20%5B4.1315113%2C%20-73.6206667%5D%2C%0A%20%20%20%20%20%20%20%20%20%20%20%20%7B%0A%20%20%20%20%20%20%20%20%20%20%20%20%20%20%20%20icon%3A%20new%20L.Icon.Default%28%29%2C%0A%20%20%20%20%20%20%20%20%20%20%20%20%20%20%20%20%7D%0A%20%20%20%20%20%20%20%20%20%20%20%20%29.addTo%28map_c12712555eb045e7bb3bbbf954f2121a%29%3B%0A%20%20%20%20%20%20%20%20%0A%20%20%20%20%0A%20%20%20%20%20%20%20%20%20%20%20%20var%20popup_f52b3202546c40ab9c9a7038d73ac33a%20%3D%20L.popup%28%7BmaxWidth%3A%20%27100%25%27%0A%20%20%20%20%20%20%20%20%20%20%20%20%0A%20%20%20%20%20%20%20%20%20%20%20%20%7D%29%3B%0A%0A%20%20%20%20%20%20%20%20%20%20%20%20%0A%20%20%20%20%20%20%20%20%20%20%20%20%20%20%20%20var%20html_0de535de54b44ab2b467a72860507bec%20%3D%20%24%28%60%3Cdiv%20id%3D%22html_0de535de54b44ab2b467a72860507bec%22%20style%3D%22width%3A%20100.0%25%3B%20height%3A%20100.0%25%3B%22%3EVillavicencio%3C/div%3E%60%29%5B0%5D%3B%0A%20%20%20%20%20%20%20%20%20%20%20%20%20%20%20%20popup_f52b3202546c40ab9c9a7038d73ac33a.setContent%28html_0de535de54b44ab2b467a72860507bec%29%3B%0A%20%20%20%20%20%20%20%20%20%20%20%20%0A%0A%20%20%20%20%20%20%20%20%20%20%20%20marker_d150da94092c4a98b3c0251a1162a850.bindPopup%28popup_f52b3202546c40ab9c9a7038d73ac33a%29%0A%20%20%20%20%20%20%20%20%20%20%20%20%3B%0A%0A%20%20%20%20%20%20%20%20%20%20%20%20%0A%20%20%20%20%20%20%20%20%0A%20%20%20%20%0A%20%20%20%20%20%20%20%20var%20marker_436ae81ac40c49ecb200770abfcf79ca%20%3D%20L.marker%28%0A%20%20%20%20%20%20%20%20%20%20%20%20%5B0.8278641%2C%20-77.6402069%5D%2C%0A%20%20%20%20%20%20%20%20%20%20%20%20%7B%0A%20%20%20%20%20%20%20%20%20%20%20%20%20%20%20%20icon%3A%20new%20L.Icon.Default%28%29%2C%0A%20%20%20%20%20%20%20%20%20%20%20%20%20%20%20%20%7D%0A%20%20%20%20%20%20%20%20%20%20%20%20%29.addTo%28map_c12712555eb045e7bb3bbbf954f2121a%29%3B%0A%20%20%20%20%20%20%20%20%0A%20%20%20%20%0A%20%20%20%20%20%20%20%20%20%20%20%20var%20popup_f666b339feb849f49e6bf4ca0a59c020%20%3D%20L.popup%28%7BmaxWidth%3A%20%27100%25%27%0A%20%20%20%20%20%20%20%20%20%20%20%20%0A%20%20%20%20%20%20%20%20%20%20%20%20%7D%29%3B%0A%0A%20%20%20%20%20%20%20%20%20%20%20%20%0A%20%20%20%20%20%20%20%20%20%20%20%20%20%20%20%20var%20html_b0d5258a19f74014a230940481fe86f2%20%3D%20%24%28%60%3Cdiv%20id%3D%22html_b0d5258a19f74014a230940481fe86f2%22%20style%3D%22width%3A%20100.0%25%3B%20height%3A%20100.0%25%3B%22%3EIpiales%3C/div%3E%60%29%5B0%5D%3B%0A%20%20%20%20%20%20%20%20%20%20%20%20%20%20%20%20popup_f666b339feb849f49e6bf4ca0a59c020.setContent%28html_b0d5258a19f74014a230940481fe86f2%29%3B%0A%20%20%20%20%20%20%20%20%20%20%20%20%0A%0A%20%20%20%20%20%20%20%20%20%20%20%20marker_436ae81ac40c49ecb200770abfcf79ca.bindPopup%28popup_f666b339feb849f49e6bf4ca0a59c020%29%0A%20%20%20%20%20%20%20%20%20%20%20%20%3B%0A%0A%20%20%20%20%20%20%20%20%20%20%20%20%0A%20%20%20%20%20%20%20%20%0A%20%20%20%20%0A%20%20%20%20%20%20%20%20var%20marker_b1c79cf4560c4317be5638a83f9b81ec%20%3D%20L.marker%28%0A%20%20%20%20%20%20%20%20%20%20%20%20%5B4.306643%2C%20-74.8015665%5D%2C%0A%20%20%20%20%20%20%20%20%20%20%20%20%7B%0A%20%20%20%20%20%20%20%20%20%20%20%20%20%20%20%20icon%3A%20new%20L.Icon.Default%28%29%2C%0A%20%20%20%20%20%20%20%20%20%20%20%20%20%20%20%20%7D%0A%20%20%20%20%20%20%20%20%20%20%20%20%29.addTo%28map_c12712555eb045e7bb3bbbf954f2121a%29%3B%0A%20%20%20%20%20%20%20%20%0A%20%20%20%20%0A%20%20%20%20%20%20%20%20%20%20%20%20var%20popup_d8966b827dd7457995e3adf5666287d1%20%3D%20L.popup%28%7BmaxWidth%3A%20%27100%25%27%0A%20%20%20%20%20%20%20%20%20%20%20%20%0A%20%20%20%20%20%20%20%20%20%20%20%20%7D%29%3B%0A%0A%20%20%20%20%20%20%20%20%20%20%20%20%0A%20%20%20%20%20%20%20%20%20%20%20%20%20%20%20%20var%20html_0b7a50131c35482e9c50770878de7bf2%20%3D%20%24%28%60%3Cdiv%20id%3D%22html_0b7a50131c35482e9c50770878de7bf2%22%20style%3D%22width%3A%20100.0%25%3B%20height%3A%20100.0%25%3B%22%3EGirardot%3C/div%3E%60%29%5B0%5D%3B%0A%20%20%20%20%20%20%20%20%20%20%20%20%20%20%20%20popup_d8966b827dd7457995e3adf5666287d1.setContent%28html_0b7a50131c35482e9c50770878de7bf2%29%3B%0A%20%20%20%20%20%20%20%20%20%20%20%20%0A%0A%20%20%20%20%20%20%20%20%20%20%20%20marker_b1c79cf4560c4317be5638a83f9b81ec.bindPopup%28popup_d8966b827dd7457995e3adf5666287d1%29%0A%20%20%20%20%20%20%20%20%20%20%20%20%3B%0A%0A%20%20%20%20%20%20%20%20%20%20%20%20%0A%20%20%20%20%20%20%20%20%0A%20%20%20%20%0A%20%20%20%20%20%20%20%20var%20marker_a4c7ade64d4e43b8a956a8de8e1f3382%20%3D%20L.marker%28%0A%20%20%20%20%20%20%20%20%20%20%20%20%5B7.8849011%2C%20-76.6227461%5D%2C%0A%20%20%20%20%20%20%20%20%20%20%20%20%7B%0A%20%20%20%20%20%20%20%20%20%20%20%20%20%20%20%20icon%3A%20new%20L.Icon.Default%28%29%2C%0A%20%20%20%20%20%20%20%20%20%20%20%20%20%20%20%20%7D%0A%20%20%20%20%20%20%20%20%20%20%20%20%29.addTo%28map_c12712555eb045e7bb3bbbf954f2121a%29%3B%0A%20%20%20%20%20%20%20%20%0A%20%20%20%20%0A%20%20%20%20%20%20%20%20%20%20%20%20var%20popup_1368ebf35b0d47f48146f7fa1103afbd%20%3D%20L.popup%28%7BmaxWidth%3A%20%27100%25%27%0A%20%20%20%20%20%20%20%20%20%20%20%20%0A%20%20%20%20%20%20%20%20%20%20%20%20%7D%29%3B%0A%0A%20%20%20%20%20%20%20%20%20%20%20%20%0A%20%20%20%20%20%20%20%20%20%20%20%20%20%20%20%20var%20html_990eea3d98a143d8917fe02048881276%20%3D%20%24%28%60%3Cdiv%20id%3D%22html_990eea3d98a143d8917fe02048881276%22%20style%3D%22width%3A%20100.0%25%3B%20height%3A%20100.0%25%3B%22%3EApartado%3C/div%3E%60%29%5B0%5D%3B%0A%20%20%20%20%20%20%20%20%20%20%20%20%20%20%20%20popup_1368ebf35b0d47f48146f7fa1103afbd.setContent%28html_990eea3d98a143d8917fe02048881276%29%3B%0A%20%20%20%20%20%20%20%20%20%20%20%20%0A%0A%20%20%20%20%20%20%20%20%20%20%20%20marker_a4c7ade64d4e43b8a956a8de8e1f3382.bindPopup%28popup_1368ebf35b0d47f48146f7fa1103afbd%29%0A%20%20%20%20%20%20%20%20%20%20%20%20%3B%0A%0A%20%20%20%20%20%20%20%20%20%20%20%20%0A%20%20%20%20%20%20%20%20%0A%20%20%20%20%0A%20%20%20%20%20%20%20%20var%20marker_b04b2b4ef2cb496db2937548e5475397%20%3D%20L.marker%28%0A%20%20%20%20%20%20%20%20%20%20%20%20%5B3.5308373%2C%20-76.2988048%5D%2C%0A%20%20%20%20%20%20%20%20%20%20%20%20%7B%0A%20%20%20%20%20%20%20%20%20%20%20%20%20%20%20%20icon%3A%20new%20L.Icon.Default%28%29%2C%0A%20%20%20%20%20%20%20%20%20%20%20%20%20%20%20%20%7D%0A%20%20%20%20%20%20%20%20%20%20%20%20%29.addTo%28map_c12712555eb045e7bb3bbbf954f2121a%29%3B%0A%20%20%20%20%20%20%20%20%0A%20%20%20%20%0A%20%20%20%20%20%20%20%20%20%20%20%20var%20popup_315017bab542461195402738de9234ed%20%3D%20L.popup%28%7BmaxWidth%3A%20%27100%25%27%0A%20%20%20%20%20%20%20%20%20%20%20%20%0A%20%20%20%20%20%20%20%20%20%20%20%20%7D%29%3B%0A%0A%20%20%20%20%20%20%20%20%20%20%20%20%0A%20%20%20%20%20%20%20%20%20%20%20%20%20%20%20%20var%20html_00724dcbb4304960ad7db5cf1a247afc%20%3D%20%24%28%60%3Cdiv%20id%3D%22html_00724dcbb4304960ad7db5cf1a247afc%22%20style%3D%22width%3A%20100.0%25%3B%20height%3A%20100.0%25%3B%22%3EPalmira%3C/div%3E%60%29%5B0%5D%3B%0A%20%20%20%20%20%20%20%20%20%20%20%20%20%20%20%20popup_315017bab542461195402738de9234ed.setContent%28html_00724dcbb4304960ad7db5cf1a247afc%29%3B%0A%20%20%20%20%20%20%20%20%20%20%20%20%0A%0A%20%20%20%20%20%20%20%20%20%20%20%20marker_b04b2b4ef2cb496db2937548e5475397.bindPopup%28popup_315017bab542461195402738de9234ed%29%0A%20%20%20%20%20%20%20%20%20%20%20%20%3B%0A%0A%20%20%20%20%20%20%20%20%20%20%20%20%0A%20%20%20%20%20%20%20%20%0A%20%20%20%20%0A%20%20%20%20%20%20%20%20var%20marker_73573d240fb14666b4fec23b3ff9c774%20%3D%20L.marker%28%0A%20%20%20%20%20%20%20%20%20%20%20%20%5B9.315429349999999%2C%20-75.43297645405696%5D%2C%0A%20%20%20%20%20%20%20%20%20%20%20%20%7B%0A%20%20%20%20%20%20%20%20%20%20%20%20%20%20%20%20icon%3A%20new%20L.Icon.Default%28%29%2C%0A%20%20%20%20%20%20%20%20%20%20%20%20%20%20%20%20%7D%0A%20%20%20%20%20%20%20%20%20%20%20%20%29.addTo%28map_c12712555eb045e7bb3bbbf954f2121a%29%3B%0A%20%20%20%20%20%20%20%20%0A%20%20%20%20%0A%20%20%20%20%20%20%20%20%20%20%20%20var%20popup_87c9deb3deea402facc7610e8c28f20d%20%3D%20L.popup%28%7BmaxWidth%3A%20%27100%25%27%0A%20%20%20%20%20%20%20%20%20%20%20%20%0A%20%20%20%20%20%20%20%20%20%20%20%20%7D%29%3B%0A%0A%20%20%20%20%20%20%20%20%20%20%20%20%0A%20%20%20%20%20%20%20%20%20%20%20%20%20%20%20%20var%20html_4bb7ba30a50e4e6cbc7ee7f2ed6f0cfd%20%3D%20%24%28%60%3Cdiv%20id%3D%22html_4bb7ba30a50e4e6cbc7ee7f2ed6f0cfd%22%20style%3D%22width%3A%20100.0%25%3B%20height%3A%20100.0%25%3B%22%3ESincelejo%3C/div%3E%60%29%5B0%5D%3B%0A%20%20%20%20%20%20%20%20%20%20%20%20%20%20%20%20popup_87c9deb3deea402facc7610e8c28f20d.setContent%28html_4bb7ba30a50e4e6cbc7ee7f2ed6f0cfd%29%3B%0A%20%20%20%20%20%20%20%20%20%20%20%20%0A%0A%20%20%20%20%20%20%20%20%20%20%20%20marker_73573d240fb14666b4fec23b3ff9c774.bindPopup%28popup_87c9deb3deea402facc7610e8c28f20d%29%0A%20%20%20%20%20%20%20%20%20%20%20%20%3B%0A%0A%20%20%20%20%20%20%20%20%20%20%20%20%0A%20%20%20%20%20%20%20%20%0A%20%20%20%20%0A%20%20%20%20%20%20%20%20var%20marker_a2e5dbc6b0594db8a3aae7040857e2e1%20%3D%20L.marker%28%0A%20%20%20%20%20%20%20%20%20%20%20%20%5B4.710706050000001%2C%20-75.93239977575337%5D%2C%0A%20%20%20%20%20%20%20%20%20%20%20%20%7B%0A%20%20%20%20%20%20%20%20%20%20%20%20%20%20%20%20icon%3A%20new%20L.Icon.Default%28%29%2C%0A%20%20%20%20%20%20%20%20%20%20%20%20%20%20%20%20%7D%0A%20%20%20%20%20%20%20%20%20%20%20%20%29.addTo%28map_c12712555eb045e7bb3bbbf954f2121a%29%3B%0A%20%20%20%20%20%20%20%20%0A%20%20%20%20%0A%20%20%20%20%20%20%20%20%20%20%20%20var%20popup_b8a6e06b964d4c7b9b9187faf7763b84%20%3D%20L.popup%28%7BmaxWidth%3A%20%27100%25%27%0A%20%20%20%20%20%20%20%20%20%20%20%20%0A%20%20%20%20%20%20%20%20%20%20%20%20%7D%29%3B%0A%0A%20%20%20%20%20%20%20%20%20%20%20%20%0A%20%20%20%20%20%20%20%20%20%20%20%20%20%20%20%20var%20html_c4abfd53c4bc497a86c206aaf856dcb3%20%3D%20%24%28%60%3Cdiv%20id%3D%22html_c4abfd53c4bc497a86c206aaf856dcb3%22%20style%3D%22width%3A%20100.0%25%3B%20height%3A%20100.0%25%3B%22%3ECartago%3C/div%3E%60%29%5B0%5D%3B%0A%20%20%20%20%20%20%20%20%20%20%20%20%20%20%20%20popup_b8a6e06b964d4c7b9b9187faf7763b84.setContent%28html_c4abfd53c4bc497a86c206aaf856dcb3%29%3B%0A%20%20%20%20%20%20%20%20%20%20%20%20%0A%0A%20%20%20%20%20%20%20%20%20%20%20%20marker_a2e5dbc6b0594db8a3aae7040857e2e1.bindPopup%28popup_b8a6e06b964d4c7b9b9187faf7763b84%29%0A%20%20%20%20%20%20%20%20%20%20%20%20%3B%0A%0A%20%20%20%20%20%20%20%20%20%20%20%20%0A%20%20%20%20%20%20%20%20%0A%20%20%20%20%0A%20%20%20%20%20%20%20%20var%20marker_1292401baf6f40118b9333d1bb890291%20%3D%20L.marker%28%0A%20%20%20%20%20%20%20%20%20%20%20%20%5B4.67769165%2C%20-74.23113670096389%5D%2C%0A%20%20%20%20%20%20%20%20%20%20%20%20%7B%0A%20%20%20%20%20%20%20%20%20%20%20%20%20%20%20%20icon%3A%20new%20L.Icon.Default%28%29%2C%0A%20%20%20%20%20%20%20%20%20%20%20%20%20%20%20%20%7D%0A%20%20%20%20%20%20%20%20%20%20%20%20%29.addTo%28map_c12712555eb045e7bb3bbbf954f2121a%29%3B%0A%20%20%20%20%20%20%20%20%0A%20%20%20%20%0A%20%20%20%20%20%20%20%20%20%20%20%20var%20popup_4d1265e885644edb806daa88d02360da%20%3D%20L.popup%28%7BmaxWidth%3A%20%27100%25%27%0A%20%20%20%20%20%20%20%20%20%20%20%20%0A%20%20%20%20%20%20%20%20%20%20%20%20%7D%29%3B%0A%0A%20%20%20%20%20%20%20%20%20%20%20%20%0A%20%20%20%20%20%20%20%20%20%20%20%20%20%20%20%20var%20html_0fca02bb2d284cadb3bd4469ef6434a1%20%3D%20%24%28%60%3Cdiv%20id%3D%22html_0fca02bb2d284cadb3bd4469ef6434a1%22%20style%3D%22width%3A%20100.0%25%3B%20height%3A%20100.0%25%3B%22%3EMosquera%3C/div%3E%60%29%5B0%5D%3B%0A%20%20%20%20%20%20%20%20%20%20%20%20%20%20%20%20popup_4d1265e885644edb806daa88d02360da.setContent%28html_0fca02bb2d284cadb3bd4469ef6434a1%29%3B%0A%20%20%20%20%20%20%20%20%20%20%20%20%0A%0A%20%20%20%20%20%20%20%20%20%20%20%20marker_1292401baf6f40118b9333d1bb890291.bindPopup%28popup_4d1265e885644edb806daa88d02360da%29%0A%20%20%20%20%20%20%20%20%20%20%20%20%3B%0A%0A%20%20%20%20%20%20%20%20%20%20%20%20%0A%20%20%20%20%20%20%20%20%0A%20%20%20%20%0A%20%20%20%20%20%20%20%20var%20marker_4cbfdf48c3c4422ab30b5e2ef0d61e7d%20%3D%20L.marker%28%0A%20%20%20%20%20%20%20%20%20%20%20%20%5B5.3356662%2C%20-72.3936931%5D%2C%0A%20%20%20%20%20%20%20%20%20%20%20%20%7B%0A%20%20%20%20%20%20%20%20%20%20%20%20%20%20%20%20icon%3A%20new%20L.Icon.Default%28%29%2C%0A%20%20%20%20%20%20%20%20%20%20%20%20%20%20%20%20%7D%0A%20%20%20%20%20%20%20%20%20%20%20%20%29.addTo%28map_c12712555eb045e7bb3bbbf954f2121a%29%3B%0A%20%20%20%20%20%20%20%20%0A%20%20%20%20%0A%20%20%20%20%20%20%20%20%20%20%20%20var%20popup_ec3b7af189a7491b968ef851bf387c1e%20%3D%20L.popup%28%7BmaxWidth%3A%20%27100%25%27%0A%20%20%20%20%20%20%20%20%20%20%20%20%0A%20%20%20%20%20%20%20%20%20%20%20%20%7D%29%3B%0A%0A%20%20%20%20%20%20%20%20%20%20%20%20%0A%20%20%20%20%20%20%20%20%20%20%20%20%20%20%20%20var%20html_81d123107c03451b8382508209060e66%20%3D%20%24%28%60%3Cdiv%20id%3D%22html_81d123107c03451b8382508209060e66%22%20style%3D%22width%3A%20100.0%25%3B%20height%3A%20100.0%25%3B%22%3EYopal%3C/div%3E%60%29%5B0%5D%3B%0A%20%20%20%20%20%20%20%20%20%20%20%20%20%20%20%20popup_ec3b7af189a7491b968ef851bf387c1e.setContent%28html_81d123107c03451b8382508209060e66%29%3B%0A%20%20%20%20%20%20%20%20%20%20%20%20%0A%0A%20%20%20%20%20%20%20%20%20%20%20%20marker_4cbfdf48c3c4422ab30b5e2ef0d61e7d.bindPopup%28popup_ec3b7af189a7491b968ef851bf387c1e%29%0A%20%20%20%20%20%20%20%20%20%20%20%20%3B%0A%0A%20%20%20%20%20%20%20%20%20%20%20%20%0A%20%20%20%20%20%20%20%20%0A%20%20%20%20%0A%20%20%20%20%20%20%20%20var%20marker_a3aec6ecae664bbf9148b96b62fdcd1e%20%3D%20L.marker%28%0A%20%20%20%20%20%20%20%20%20%20%20%20%5B4.869398800000001%2C%20-74.03646684902216%5D%2C%0A%20%20%20%20%20%20%20%20%20%20%20%20%7B%0A%20%20%20%20%20%20%20%20%20%20%20%20%20%20%20%20icon%3A%20new%20L.Icon.Default%28%29%2C%0A%20%20%20%20%20%20%20%20%20%20%20%20%20%20%20%20%7D%0A%20%20%20%20%20%20%20%20%20%20%20%20%29.addTo%28map_c12712555eb045e7bb3bbbf954f2121a%29%3B%0A%20%20%20%20%20%20%20%20%0A%20%20%20%20%0A%20%20%20%20%20%20%20%20%20%20%20%20var%20popup_8ee22705127e4a60bc99aaaa0785f2d8%20%3D%20L.popup%28%7BmaxWidth%3A%20%27100%25%27%0A%20%20%20%20%20%20%20%20%20%20%20%20%0A%20%20%20%20%20%20%20%20%20%20%20%20%7D%29%3B%0A%0A%20%20%20%20%20%20%20%20%20%20%20%20%0A%20%20%20%20%20%20%20%20%20%20%20%20%20%20%20%20var%20html_d942a1f74ddf429ea5678f9738977a30%20%3D%20%24%28%60%3Cdiv%20id%3D%22html_d942a1f74ddf429ea5678f9738977a30%22%20style%3D%22width%3A%20100.0%25%3B%20height%3A%20100.0%25%3B%22%3EChia%3C/div%3E%60%29%5B0%5D%3B%0A%20%20%20%20%20%20%20%20%20%20%20%20%20%20%20%20popup_8ee22705127e4a60bc99aaaa0785f2d8.setContent%28html_d942a1f74ddf429ea5678f9738977a30%29%3B%0A%20%20%20%20%20%20%20%20%20%20%20%20%0A%0A%20%20%20%20%20%20%20%20%20%20%20%20marker_a3aec6ecae664bbf9148b96b62fdcd1e.bindPopup%28popup_8ee22705127e4a60bc99aaaa0785f2d8%29%0A%20%20%20%20%20%20%20%20%20%20%20%20%3B%0A%0A%20%20%20%20%20%20%20%20%20%20%20%20%0A%20%20%20%20%20%20%20%20%0A%20%20%20%20%0A%20%20%20%20%20%20%20%20var%20marker_525daf82f493451fb884a9f7e2c4fb04%20%3D%20L.marker%28%0A%20%20%20%20%20%20%20%20%20%20%20%20%5B5.985242250000001%2C%20-75.4467398934149%5D%2C%0A%20%20%20%20%20%20%20%20%20%20%20%20%7B%0A%20%20%20%20%20%20%20%20%20%20%20%20%20%20%20%20icon%3A%20new%20L.Icon.Default%28%29%2C%0A%20%20%20%20%20%20%20%20%20%20%20%20%20%20%20%20%7D%0A%20%20%20%20%20%20%20%20%20%20%20%20%29.addTo%28map_c12712555eb045e7bb3bbbf954f2121a%29%3B%0A%20%20%20%20%20%20%20%20%0A%20%20%20%20%0A%20%20%20%20%20%20%20%20%20%20%20%20var%20popup_c5161eb95228432db5b0fa5f4d893f34%20%3D%20L.popup%28%7BmaxWidth%3A%20%27100%25%27%0A%20%20%20%20%20%20%20%20%20%20%20%20%0A%20%20%20%20%20%20%20%20%20%20%20%20%7D%29%3B%0A%0A%20%20%20%20%20%20%20%20%20%20%20%20%0A%20%20%20%20%20%20%20%20%20%20%20%20%20%20%20%20var%20html_6350ef93f3134a7f98c5f7ed24fa4ed3%20%3D%20%24%28%60%3Cdiv%20id%3D%22html_6350ef93f3134a7f98c5f7ed24fa4ed3%22%20style%3D%22width%3A%20100.0%25%3B%20height%3A%20100.0%25%3B%22%3ELa%20ceja%3C/div%3E%60%29%5B0%5D%3B%0A%20%20%20%20%20%20%20%20%20%20%20%20%20%20%20%20popup_c5161eb95228432db5b0fa5f4d893f34.setContent%28html_6350ef93f3134a7f98c5f7ed24fa4ed3%29%3B%0A%20%20%20%20%20%20%20%20%20%20%20%20%0A%0A%20%20%20%20%20%20%20%20%20%20%20%20marker_525daf82f493451fb884a9f7e2c4fb04.bindPopup%28popup_c5161eb95228432db5b0fa5f4d893f34%29%0A%20%20%20%20%20%20%20%20%20%20%20%20%3B%0A%0A%20%20%20%20%20%20%20%20%20%20%20%20%0A%20%20%20%20%20%20%20%20%0A%20%20%20%20%0A%20%20%20%20%20%20%20%20var%20marker_9ec21cc5011f448c8beba4d9f249d16f%20%3D%20L.marker%28%0A%20%20%20%20%20%20%20%20%20%20%20%20%5B4.5821279%2C%20-74.2197205%5D%2C%0A%20%20%20%20%20%20%20%20%20%20%20%20%7B%0A%20%20%20%20%20%20%20%20%20%20%20%20%20%20%20%20icon%3A%20new%20L.Icon.Default%28%29%2C%0A%20%20%20%20%20%20%20%20%20%20%20%20%20%20%20%20%7D%0A%20%20%20%20%20%20%20%20%20%20%20%20%29.addTo%28map_c12712555eb045e7bb3bbbf954f2121a%29%3B%0A%20%20%20%20%20%20%20%20%0A%20%20%20%20%0A%20%20%20%20%20%20%20%20%20%20%20%20var%20popup_9fa624b2f5ce43818412126ee671ef42%20%3D%20L.popup%28%7BmaxWidth%3A%20%27100%25%27%0A%20%20%20%20%20%20%20%20%20%20%20%20%0A%20%20%20%20%20%20%20%20%20%20%20%20%7D%29%3B%0A%0A%20%20%20%20%20%20%20%20%20%20%20%20%0A%20%20%20%20%20%20%20%20%20%20%20%20%20%20%20%20var%20html_f0a1bdee52904f6a8adaf8ef372fb45d%20%3D%20%24%28%60%3Cdiv%20id%3D%22html_f0a1bdee52904f6a8adaf8ef372fb45d%22%20style%3D%22width%3A%20100.0%25%3B%20height%3A%20100.0%25%3B%22%3ESoacha%3C/div%3E%60%29%5B0%5D%3B%0A%20%20%20%20%20%20%20%20%20%20%20%20%20%20%20%20popup_9fa624b2f5ce43818412126ee671ef42.setContent%28html_f0a1bdee52904f6a8adaf8ef372fb45d%29%3B%0A%20%20%20%20%20%20%20%20%20%20%20%20%0A%0A%20%20%20%20%20%20%20%20%20%20%20%20marker_9ec21cc5011f448c8beba4d9f249d16f.bindPopup%28popup_9fa624b2f5ce43818412126ee671ef42%29%0A%20%20%20%20%20%20%20%20%20%20%20%20%3B%0A%0A%20%20%20%20%20%20%20%20%20%20%20%20%0A%20%20%20%20%20%20%20%20%0A%20%20%20%20%0A%20%20%20%20%20%20%20%20var%20marker_f6a76c8e767649bca6df0a069e9feadc%20%3D%20L.marker%28%0A%20%20%20%20%20%20%20%20%20%20%20%20%5B5.1528856%2C%20-75.6411377%5D%2C%0A%20%20%20%20%20%20%20%20%20%20%20%20%7B%0A%20%20%20%20%20%20%20%20%20%20%20%20%20%20%20%20icon%3A%20new%20L.Icon.Default%28%29%2C%0A%20%20%20%20%20%20%20%20%20%20%20%20%20%20%20%20%7D%0A%20%20%20%20%20%20%20%20%20%20%20%20%29.addTo%28map_c12712555eb045e7bb3bbbf954f2121a%29%3B%0A%20%20%20%20%20%20%20%20%0A%20%20%20%20%0A%20%20%20%20%20%20%20%20%20%20%20%20var%20popup_dd465c1ea53e43998e89fe979b17ab09%20%3D%20L.popup%28%7BmaxWidth%3A%20%27100%25%27%0A%20%20%20%20%20%20%20%20%20%20%20%20%0A%20%20%20%20%20%20%20%20%20%20%20%20%7D%29%3B%0A%0A%20%20%20%20%20%20%20%20%20%20%20%20%0A%20%20%20%20%20%20%20%20%20%20%20%20%20%20%20%20var%20html_9f653bb32c8e4c5a844856014cd36659%20%3D%20%24%28%60%3Cdiv%20id%3D%22html_9f653bb32c8e4c5a844856014cd36659%22%20style%3D%22width%3A%20100.0%25%3B%20height%3A%20100.0%25%3B%22%3ELlanogrande%3C/div%3E%60%29%5B0%5D%3B%0A%20%20%20%20%20%20%20%20%20%20%20%20%20%20%20%20popup_dd465c1ea53e43998e89fe979b17ab09.setContent%28html_9f653bb32c8e4c5a844856014cd36659%29%3B%0A%20%20%20%20%20%20%20%20%20%20%20%20%0A%0A%20%20%20%20%20%20%20%20%20%20%20%20marker_f6a76c8e767649bca6df0a069e9feadc.bindPopup%28popup_dd465c1ea53e43998e89fe979b17ab09%29%0A%20%20%20%20%20%20%20%20%20%20%20%20%3B%0A%0A%20%20%20%20%20%20%20%20%20%20%20%20%0A%20%20%20%20%20%20%20%20%0A%3C/script%3E onload=\"this.contentDocument.open();this.contentDocument.write(    decodeURIComponent(this.getAttribute('data-html')));this.contentDocument.close();\" allowfullscreen webkitallowfullscreen mozallowfullscreen></iframe></div></div>"
            ],
            "text/plain": [
              "<folium.folium.Map at 0x7f92da8edd68>"
            ]
          },
          "metadata": {
            "tags": []
          },
          "execution_count": 198
        }
      ]
    },
    {
      "cell_type": "code",
      "metadata": {
        "id": "f_CYa1Ixci3J"
      },
      "source": [
        "mi_mapa"
      ],
      "execution_count": null,
      "outputs": []
    },
    {
      "cell_type": "code",
      "metadata": {
        "colab": {
          "base_uri": "https://localhost:8080/",
          "height": 361
        },
        "id": "kD3uvJwbkckX",
        "outputId": "2db83821-3708-47c0-9b7e-8f52b0ae910e"
      },
      "source": [
        "# ¿ Cuales son las 10 ciudades con más participación?\r\n",
        "total = len(df_total[\"Ciudad\"])\r\n",
        "ciudad_conteo = df_total[\"Ciudad\"].value_counts()\r\n",
        "ciudad_conteo = ciudad_conteo[:10,]\r\n",
        "plt.figure(figsize=(10,5))\r\n",
        "\r\n",
        "ax1 =sns.barplot(x = ((ciudad_conteo.values/total)*100),y = ciudad_conteo.index, orient= \"h\")\r\n",
        "plt.title(\"Las 10 ciudades con más participación\",fontsize = 20)\r\n",
        "plt.ylabel(\"Ciudades\",fontsize = 15)\r\n",
        "plt.xlabel(\"Porcentaje\",fontsize = 15)\r\n",
        "plt.show()"
      ],
      "execution_count": 196,
      "outputs": [
        {
          "output_type": "display_data",
          "data": {
            "image/png": "[encoded data removed]",
            "text/plain": [
              "<Figure size 720x360 with 1 Axes>"
            ]
          },
          "metadata": {
            "tags": [],
            "needs_background": "light"
          }
        }
      ]
    },
    {
      "cell_type": "code",
      "metadata": {
        "colab": {
          "base_uri": "https://localhost:8080/",
          "height": 378
        },
        "id": "xBZJxJ1A9brl",
        "outputId": "6ae10dfa-4052-4fa7-a113-394c765ef0d7"
      },
      "source": [
        "# Las 10 campañas más populares\r\n",
        "campana_conteo = df_total['Mat:Concepto Diseño'].value_counts()\r\n",
        "campana_conteo = campana_conteo[:10,]\r\n",
        "plt.figure(figsize=(10,5))\r\n",
        "sns.barplot(x = (campana_conteo.values/total)*100, y = campana_conteo.index, orient= \"h\")\r\n",
        "plt.title(\"Las 10 campañas más populares\",fontsize = 20)\r\n",
        "plt.ylabel('Campañas',fontsize = 15)\r\n",
        "plt.xlabel('Porcentaje',fontsize = 15)\r\n",
        "plt.show"
      ],
      "execution_count": 176,
      "outputs": [
        {
          "output_type": "execute_result",
          "data": {
            "text/plain": [
              "<function matplotlib.pyplot.show>"
            ]
          },
          "metadata": {
            "tags": []
          },
          "execution_count": 176
        },
        {
          "output_type": "display_data",
          "data": {
            "image/png": "[encoded data removed]",
            "text/plain": [
              "<Figure size 720x360 with 1 Axes>"
            ]
          },
          "metadata": {
            "tags": [],
            "needs_background": "light"
          }
        }
      ]
    },
    {
      "cell_type": "code",
      "metadata": {
        "id": "ka9wanzaLBZ3"
      },
      "source": [
        "# ¿Cuales fueron las campañas lanzadas en cada año ? \r\n",
        "\r\n",
        "sns.catplot( y= \"Mat:Concepto Diseño\", col = \"Año\",data = df_productos, kind= \"count\", col_wrap = 2)"
      ],
      "execution_count": null,
      "outputs": []
    },
    {
      "cell_type": "code",
      "metadata": {
        "colab": {
          "base_uri": "https://localhost:8080/"
        },
        "id": "lGo98GSuDdbg",
        "outputId": "28045fbf-fa93-42f7-f195-33830208b730"
      },
      "source": [
        "df_total[\"Ciudad\"].unique()"
      ],
      "execution_count": 189,
      "outputs": [
        {
          "output_type": "execute_result",
          "data": {
            "text/plain": [
              "array(['Cali', 'Medellin', 'Bogotá', 'San andres', 'Rionegro',\n",
              "       'Villavicencio', 'Ipiales', 'Girardot', 'Apartado', 'Palmira',\n",
              "       'Sincelejo', 'Cartago', 'Mosquera', 'Yopal', 'Chia', 'La ceja',\n",
              "       'Soacha', 'Llanogrande'], dtype=object)"
            ]
          },
          "metadata": {
            "tags": []
          },
          "execution_count": 189
        }
      ]
    }
  ]
}