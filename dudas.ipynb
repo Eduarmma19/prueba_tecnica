{
  "nbformat": 4,
  "nbformat_minor": 0,
  "metadata": {
    "colab": {
      "name": "dudas.ipynb",
      "provenance": [],
      "mount_file_id": "1dEvRLYOYzQYujsYzXkd4kbKL-BCLWfnD",
      "authorship_tag": "ABX9TyPhkd9hZtBQgYVfOLtiPVdi",
      "include_colab_link": true
    },
    "kernelspec": {
      "name": "python3",
      "display_name": "Python 3"
    }
  },
  "cells": [
    {
      "cell_type": "markdown",
      "metadata": {
        "id": "view-in-github",
        "colab_type": "text"
      },
      "source": [
        "<a href=\"https://colab.research.google.com/github/Eduarmma19/prueba_tecnica/blob/main/dudas.ipynb\" target=\"_parent\"><img src=\"https://colab.research.google.com/assets/colab-badge.svg\" alt=\"Open In Colab\"/></a>"
      ]
    },
    {
      "cell_type": "code",
      "metadata": {
        "id": "X_c2nqWdPn3i"
      },
      "source": [
        "import pandas as pd \r\n",
        "import seaborn as sns\r\n",
        "import matplotlib.pyplot as plt\r\n",
        "\r\n",
        "%matplotlib inline"
      ],
      "execution_count": 1,
      "outputs": []
    },
    {
      "cell_type": "code",
      "metadata": {
        "id": "1fETmrolRY36"
      },
      "source": [
        "df_name= pd.read_excel(\"/content/BD Camisetas tiendas piloto analitica.xlsx\", sheet_name= \"Base\")"
      ],
      "execution_count": 2,
      "outputs": []
    },
    {
      "cell_type": "code",
      "metadata": {
        "id": "9YNMskGbfsCZ"
      },
      "source": [
        "df_tiendas= pd.read_excel(\"/content/BD Camisetas tiendas piloto analitica.xlsx\", sheet_name= \"Parametros Tiendas\")"
      ],
      "execution_count": 3,
      "outputs": []
    },
    {
      "cell_type": "code",
      "metadata": {
        "id": "3Bugn5-6Uggf"
      },
      "source": [
        "df_name['Mat:Concepto Diseño'].unique()"
      ],
      "execution_count": null,
      "outputs": []
    },
    {
      "cell_type": "code",
      "metadata": {
        "colab": {
          "base_uri": "https://localhost:8080/",
          "height": 197
        },
        "id": "BcC5HmdfgFag",
        "outputId": "4ef773cf-0749-46c8-934d-47f3006d8a21"
      },
      "source": [
        "df_total = pd.merge(df_name,df_tiendas, on = \"Centro\")\r\n",
        "df_total.head()"
      ],
      "execution_count": 5,
      "outputs": [
        {
          "output_type": "execute_result",
          "data": {
            "text/html": [
              "<div>\n",
              "<style scoped>\n",
              "    .dataframe tbody tr th:only-of-type {\n",
              "        vertical-align: middle;\n",
              "    }\n",
              "\n",
              "    .dataframe tbody tr th {\n",
              "        vertical-align: top;\n",
              "    }\n",
              "\n",
              "    .dataframe thead th {\n",
              "        text-align: right;\n",
              "    }\n",
              "</style>\n",
              "<table border=\"1\" class=\"dataframe\">\n",
              "  <thead>\n",
              "    <tr style=\"text-align: right;\">\n",
              "      <th></th>\n",
              "      <th>Año</th>\n",
              "      <th>Año/Semana</th>\n",
              "      <th>Centro</th>\n",
              "      <th>Material</th>\n",
              "      <th>Color</th>\n",
              "      <th>Talla</th>\n",
              "      <th>Mat:Concepto Diseño</th>\n",
              "      <th>Unidades</th>\n",
              "      <th>Tienda</th>\n",
              "      <th>Ciudad</th>\n",
              "      <th>Clima</th>\n",
              "    </tr>\n",
              "  </thead>\n",
              "  <tbody>\n",
              "    <tr>\n",
              "      <th>0</th>\n",
              "      <td>2017</td>\n",
              "      <td>1.2017</td>\n",
              "      <td>T013</td>\n",
              "      <td>5133050</td>\n",
              "      <td>Rojo 18-1763</td>\n",
              "      <td>10</td>\n",
              "      <td>BASICOS CLASICOS</td>\n",
              "      <td>1</td>\n",
              "      <td>Tda Chipichape 2</td>\n",
              "      <td>Cali</td>\n",
              "      <td>C</td>\n",
              "    </tr>\n",
              "    <tr>\n",
              "      <th>1</th>\n",
              "      <td>2017</td>\n",
              "      <td>1.2017</td>\n",
              "      <td>T013</td>\n",
              "      <td>5133196</td>\n",
              "      <td>Azul 19-4050</td>\n",
              "      <td>10</td>\n",
              "      <td>BASICOS CLASICOS</td>\n",
              "      <td>2</td>\n",
              "      <td>Tda Chipichape 2</td>\n",
              "      <td>Cali</td>\n",
              "      <td>C</td>\n",
              "    </tr>\n",
              "    <tr>\n",
              "      <th>2</th>\n",
              "      <td>2017</td>\n",
              "      <td>1.2017</td>\n",
              "      <td>T013</td>\n",
              "      <td>5133196</td>\n",
              "      <td>Negro 19-4006</td>\n",
              "      <td>8</td>\n",
              "      <td>BASICOS CLASICOS</td>\n",
              "      <td>2</td>\n",
              "      <td>Tda Chipichape 2</td>\n",
              "      <td>Cali</td>\n",
              "      <td>C</td>\n",
              "    </tr>\n",
              "    <tr>\n",
              "      <th>3</th>\n",
              "      <td>2017</td>\n",
              "      <td>1.2017</td>\n",
              "      <td>T013</td>\n",
              "      <td>5133197</td>\n",
              "      <td>Azul 19-3921</td>\n",
              "      <td>6</td>\n",
              "      <td>BASICOS CLASICOS</td>\n",
              "      <td>1</td>\n",
              "      <td>Tda Chipichape 2</td>\n",
              "      <td>Cali</td>\n",
              "      <td>C</td>\n",
              "    </tr>\n",
              "    <tr>\n",
              "      <th>4</th>\n",
              "      <td>2017</td>\n",
              "      <td>1.2017</td>\n",
              "      <td>T013</td>\n",
              "      <td>5133197</td>\n",
              "      <td>Azul 19-3939</td>\n",
              "      <td>8</td>\n",
              "      <td>BASICOS CLASICOS</td>\n",
              "      <td>1</td>\n",
              "      <td>Tda Chipichape 2</td>\n",
              "      <td>Cali</td>\n",
              "      <td>C</td>\n",
              "    </tr>\n",
              "  </tbody>\n",
              "</table>\n",
              "</div>"
            ],
            "text/plain": [
              "    Año  Año/Semana Centro  Material  ... Unidades            Tienda Ciudad  Clima\n",
              "0  2017      1.2017   T013   5133050  ...        1  Tda Chipichape 2   Cali      C\n",
              "1  2017      1.2017   T013   5133196  ...        2  Tda Chipichape 2   Cali      C\n",
              "2  2017      1.2017   T013   5133196  ...        2  Tda Chipichape 2   Cali      C\n",
              "3  2017      1.2017   T013   5133197  ...        1  Tda Chipichape 2   Cali      C\n",
              "4  2017      1.2017   T013   5133197  ...        1  Tda Chipichape 2   Cali      C\n",
              "\n",
              "[5 rows x 11 columns]"
            ]
          },
          "metadata": {
            "tags": []
          },
          "execution_count": 5
        }
      ]
    },
    {
      "cell_type": "code",
      "metadata": {
        "colab": {
          "base_uri": "https://localhost:8080/"
        },
        "id": "UJpZNj8UHjCV",
        "outputId": "c53c8db4-ead4-4c9e-94f3-797d51043b97"
      },
      "source": [
        "df_ciudades =df_total.groupby('Ciudad')['Unidades'].sum().sort_values(ascending = False)\r\n",
        "df_ciudades.head(10)"
      ],
      "execution_count": 79,
      "outputs": [
        {
          "output_type": "execute_result",
          "data": {
            "text/plain": [
              "Ciudad\n",
              "Bogotá           85761\n",
              "Medellin         71080\n",
              "Cali             49119\n",
              "Villavicencio    15538\n",
              "San andres       10987\n",
              "Yopal             8060\n",
              "Rionegro          6997\n",
              "Ipiales           6992\n",
              "Apartado          6576\n",
              "Girardot          5337\n",
              "Name: Unidades, dtype: int64"
            ]
          },
          "metadata": {
            "tags": []
          },
          "execution_count": 79
        }
      ]
    },
    {
      "cell_type": "code",
      "metadata": {
        "colab": {
          "base_uri": "https://localhost:8080/",
          "height": 383
        },
        "id": "lizUSPOyUMja",
        "outputId": "5ab8444e-edde-49a5-8563-19c2dcf90a93"
      },
      "source": [
        "df_name_campanas = df_total['Mat:Concepto Diseño'].isin(['BASICOS CLASICOS','BASICOS','ROAD TO ALASKA']) & df_total['Ciudad'].isin(['Bogotá','Medellin','Cali','Villavicencio'])\r\n",
        "\r\n",
        "df_filtrado = df_total[df_name_campanas]\r\n",
        "sns.catplot(x= 'Ciudad',kind= 'count',data = df_filtrado, col = 'Mat:Concepto Diseño' ,col_wrap=3, hue = \"Año\")\r\n",
        "plt.show()\r\n"
      ],
      "execution_count": 17,
      "outputs": [
        {
          "output_type": "display_data",
          "data": {
            "image/png": "[encoded data removed]",
            "text/plain": [
              "<Figure size 1141.38x360 with 3 Axes>"
            ]
          },
          "metadata": {
            "tags": [],
            "needs_background": "light"
          }
        }
      ]
    },
    {
      "cell_type": "code",
      "metadata": {
        "colab": {
          "base_uri": "https://localhost:8080/"
        },
        "id": "MPbpBKL7-8PD",
        "outputId": "486f6bea-83c8-4fae-8419-70fea1357063"
      },
      "source": [
        "df_total.dtypes"
      ],
      "execution_count": 19,
      "outputs": [
        {
          "output_type": "execute_result",
          "data": {
            "text/plain": [
              "Año                      int64\n",
              "Año/Semana             float64\n",
              "Centro                  object\n",
              "Material                 int64\n",
              "Color                   object\n",
              "Talla                   object\n",
              "Mat:Concepto Diseño     object\n",
              "Unidades                 int64\n",
              "Tienda                  object\n",
              "Ciudad                  object\n",
              "Clima                   object\n",
              "dtype: object"
            ]
          },
          "metadata": {
            "tags": []
          },
          "execution_count": 19
        }
      ]
    },
    {
      "cell_type": "code",
      "metadata": {
        "colab": {
          "base_uri": "https://localhost:8080/"
        },
        "id": "J7ljGs0kAFwu",
        "outputId": "376c3a19-ce06-4dfd-f430-e6e50f33dde0"
      },
      "source": [
        "min(df_total['Unidades'])"
      ],
      "execution_count": 64,
      "outputs": [
        {
          "output_type": "execute_result",
          "data": {
            "text/plain": [
              "0"
            ]
          },
          "metadata": {
            "tags": []
          },
          "execution_count": 64
        }
      ]
    },
    {
      "cell_type": "code",
      "metadata": {
        "colab": {
          "base_uri": "https://localhost:8080/"
        },
        "id": "NbiNIKcdAmm_",
        "outputId": "6e2b75a9-64d0-4da4-95f7-19c0412bed09"
      },
      "source": [
        "x = range(19)\r\n",
        "list(x)"
      ],
      "execution_count": 28,
      "outputs": [
        {
          "output_type": "execute_result",
          "data": {
            "text/plain": [
              "[0, 1, 2, 3, 4, 5, 6, 7, 8, 9, 10, 11, 12, 13, 14, 15, 16, 17, 18]"
            ]
          },
          "metadata": {
            "tags": []
          },
          "execution_count": 28
        }
      ]
    }
  ]
}